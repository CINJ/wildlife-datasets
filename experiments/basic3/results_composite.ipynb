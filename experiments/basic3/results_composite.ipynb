{
 "cells": [
  {
   "cell_type": "code",
   "execution_count": 6,
   "id": "e72499d8",
   "metadata": {},
   "outputs": [],
   "source": [
    "from tqdm import tqdm\n",
    "import pandas as pd\n",
    "import numpy as np\n",
    "from sklearn.metrics import accuracy_score, balanced_accuracy_score\n",
    "\n",
    "import os\n",
    "import sys\n",
    "sys.path.append(os.path.join('../..'))\n",
    "from wildlife_training.inference import predict_classifier, predict_knn\n",
    "\n"
   ]
  },
  {
   "cell_type": "markdown",
   "id": "313ef1dc",
   "metadata": {},
   "source": [
    "### Predict left"
   ]
  },
  {
   "cell_type": "code",
   "execution_count": 7,
   "id": "b8b456e2",
   "metadata": {},
   "outputs": [
    {
     "name": "stderr",
     "output_type": "stream",
     "text": [
      "100%|██████████| 11/11 [00:29<00:00,  2.65s/it]\n",
      "100%|██████████| 11/11 [00:29<00:00,  2.70s/it]\n",
      "100%|██████████| 11/11 [00:29<00:00,  2.68s/it]\n",
      "100%|██████████| 11/11 [00:31<00:00,  2.87s/it]\n",
      "100%|██████████| 11/11 [00:29<00:00,  2.72s/it]\n"
     ]
    }
   ],
   "source": [
    "predictions = [[] for i in range(5)]\n",
    "from configs.features_model_left import *\n",
    "\n",
    "def create_trainer(dataset):\n",
    "    model = create_model(\n",
    "        model_name = 'efficientnet_b0',\n",
    "        pretrained = True,\n",
    "        num_classes = dataset.num_classes,\n",
    "        )\n",
    "\n",
    "    optimizer = torch.optim.Adam(\n",
    "        params = model.parameters(),\n",
    "        lr = 1e-3\n",
    "        )\n",
    "\n",
    "    trainer = BasicTrainer(\n",
    "        model = model,\n",
    "        evaluation = evaluation,\n",
    "        optimizer = optimizer,\n",
    "        device = 'cpu',\n",
    "    )\n",
    "    return trainer\n",
    "\n",
    "for i, split in enumerate(splits):\n",
    "    trainer = create_trainer(split['train'])\n",
    "    root = '/home/cermavo3/projects/datasets/experiments/basic3'\n",
    "    path = f\"{root}/runs/Oct04_08-09-58-2304_features_model_left/{split['name']}/model_latest.pth\"\n",
    "    trainer.load_checkpoint(path)\n",
    "    dataset_valid =  split['valid']\n",
    "    dataset_train = split['train']\n",
    "    pred, _ = predict_classifier(trainer.model, dataset_train, dataset_valid, k=1)\n",
    "\n",
    "    gt = dataset_valid.label_map[dataset_valid.label]\n",
    "    predictions[i].append({'gt': gt, 'pred': pred.flatten(), 'source': 'left'})"
   ]
  },
  {
   "cell_type": "code",
   "execution_count": null,
   "id": "50282050",
   "metadata": {},
   "outputs": [],
   "source": []
  },
  {
   "cell_type": "markdown",
   "id": "a970fd18",
   "metadata": {},
   "source": [
    "### Predict topleft"
   ]
  },
  {
   "cell_type": "code",
   "execution_count": 8,
   "id": "3579d21d",
   "metadata": {},
   "outputs": [
    {
     "name": "stderr",
     "output_type": "stream",
     "text": [
      "100%|██████████| 6/6 [00:16<00:00,  2.71s/it]\n",
      "100%|██████████| 6/6 [00:16<00:00,  2.69s/it]\n",
      "100%|██████████| 6/6 [00:15<00:00,  2.58s/it]\n",
      "100%|██████████| 6/6 [00:15<00:00,  2.60s/it]\n",
      "100%|██████████| 6/6 [00:17<00:00,  2.95s/it]\n"
     ]
    }
   ],
   "source": [
    "from configs.features_model_topleft import *\n",
    "\n",
    "def create_trainer(dataset):\n",
    "    model = create_model(\n",
    "        model_name = 'efficientnet_b0',\n",
    "        pretrained = True,\n",
    "        num_classes = dataset.num_classes,\n",
    "        )\n",
    "\n",
    "    optimizer = torch.optim.Adam(\n",
    "        params = model.parameters(),\n",
    "        lr = 1e-3\n",
    "        )\n",
    "\n",
    "    trainer = BasicTrainer(\n",
    "        model = model,\n",
    "        evaluation = evaluation,\n",
    "        optimizer = optimizer,\n",
    "        device = 'cpu',\n",
    "    )\n",
    "    return trainer\n",
    "\n",
    "for i, split in enumerate(splits):\n",
    "    trainer = create_trainer(split['train'])\n",
    "    root = '/home/cermavo3/projects/datasets/experiments/basic3'\n",
    "    path = f\"{root}/runs/Oct04_08-09-58-2531_features_model_topleft/{split['name']}/model_latest.pth\"\n",
    "    trainer.load_checkpoint(path)\n",
    "\n",
    "    dataset_valid =  split['valid']\n",
    "    dataset_train = split['train']\n",
    "    pred, _ = predict_classifier(trainer.model, dataset_train, dataset_valid, k=1)\n",
    "\n",
    "    gt = dataset_valid.label_map[dataset_valid.label]\n",
    "    predictions[i].append({'gt': gt, 'pred': pred.flatten(), 'source': 'topleft'})"
   ]
  },
  {
   "cell_type": "code",
   "execution_count": null,
   "id": "45c6eacf",
   "metadata": {},
   "outputs": [],
   "source": []
  },
  {
   "cell_type": "markdown",
   "id": "d7e4d268",
   "metadata": {},
   "source": [
    "### Predict right"
   ]
  },
  {
   "cell_type": "code",
   "execution_count": 9,
   "id": "2668b245",
   "metadata": {},
   "outputs": [
    {
     "name": "stderr",
     "output_type": "stream",
     "text": [
      "100%|██████████| 10/10 [00:27<00:00,  2.76s/it]\n",
      "100%|██████████| 9/9 [00:26<00:00,  2.97s/it]\n",
      "100%|██████████| 9/9 [00:24<00:00,  2.75s/it]\n",
      "100%|██████████| 10/10 [00:27<00:00,  2.78s/it]\n",
      "100%|██████████| 9/9 [00:26<00:00,  2.93s/it]\n"
     ]
    }
   ],
   "source": [
    "from configs.features_model_right import *\n",
    "\n",
    "def create_trainer(dataset):\n",
    "    model = create_model(\n",
    "        model_name = 'efficientnet_b0',\n",
    "        pretrained = True,\n",
    "        num_classes = dataset.num_classes,\n",
    "        )\n",
    "\n",
    "    optimizer = torch.optim.Adam(\n",
    "        params = model.parameters(),\n",
    "        lr = 1e-3\n",
    "        )\n",
    "\n",
    "    trainer = BasicTrainer(\n",
    "        model = model,\n",
    "        evaluation = evaluation,\n",
    "        optimizer = optimizer,\n",
    "        device = 'cpu',\n",
    "    )\n",
    "    return trainer\n",
    "\n",
    "for i, split in enumerate(splits):\n",
    "    trainer = create_trainer(split['train'])\n",
    "    root = '/home/cermavo3/projects/datasets/experiments/basic3'\n",
    "    path = f\"{root}/runs/Oct04_08-09-58-2241_features_model_right/{split['name']}/model_latest.pth\"\n",
    "    trainer.load_checkpoint(path)\n",
    "\n",
    "    dataset_valid =  split['valid']\n",
    "    dataset_train = split['train']\n",
    "    pred, _ = predict_classifier(trainer.model, dataset_train, dataset_valid, k=1)\n",
    "\n",
    "    gt = dataset_valid.label_map[dataset_valid.label]\n",
    "    predictions[i].append({'gt': gt, 'pred': pred.flatten(), 'source': 'right'})"
   ]
  },
  {
   "cell_type": "code",
   "execution_count": null,
   "id": "c50d0760",
   "metadata": {},
   "outputs": [],
   "source": []
  },
  {
   "cell_type": "markdown",
   "id": "ada12efc",
   "metadata": {},
   "source": [
    "### Predict topright"
   ]
  },
  {
   "cell_type": "code",
   "execution_count": 10,
   "id": "e891efd7",
   "metadata": {},
   "outputs": [
    {
     "name": "stderr",
     "output_type": "stream",
     "text": [
      "100%|██████████| 7/7 [00:18<00:00,  2.59s/it]\n",
      "100%|██████████| 7/7 [00:17<00:00,  2.54s/it]\n",
      "100%|██████████| 7/7 [00:19<00:00,  2.84s/it]\n",
      "100%|██████████| 7/7 [00:17<00:00,  2.54s/it]\n",
      "100%|██████████| 7/7 [00:17<00:00,  2.55s/it]\n"
     ]
    }
   ],
   "source": [
    "from configs.features_model_topright import *\n",
    "\n",
    "def create_trainer(dataset):\n",
    "    model = create_model(\n",
    "        model_name = 'efficientnet_b0',\n",
    "        pretrained = True,\n",
    "        num_classes = dataset.num_classes,\n",
    "        )\n",
    "\n",
    "    optimizer = torch.optim.Adam(\n",
    "        params = model.parameters(),\n",
    "        lr = 1e-3\n",
    "        )\n",
    "\n",
    "    trainer = BasicTrainer(\n",
    "        model = model,\n",
    "        evaluation = evaluation,\n",
    "        optimizer = optimizer,\n",
    "        device = 'cpu',\n",
    "    )\n",
    "    return trainer\n",
    "\n",
    "for i, split in enumerate(splits):\n",
    "    trainer = create_trainer(split['train'])\n",
    "    root = '/home/cermavo3/projects/datasets/experiments/basic3'\n",
    "    path = f\"{root}/runs/Oct04_08-09-58-2210_features_model_topright/{split['name']}/model_latest.pth\"\n",
    "    trainer.load_checkpoint(path)\n",
    "\n",
    "    dataset_valid =  split['valid']\n",
    "    dataset_train = split['train']\n",
    "    pred, _ = predict_classifier(trainer.model, dataset_train, dataset_valid, k=1)\n",
    "\n",
    "    gt = dataset_valid.label_map[dataset_valid.label]\n",
    "    predictions[i].append({'gt': gt, 'pred': pred.flatten(), 'source': 'topright'})"
   ]
  },
  {
   "cell_type": "code",
   "execution_count": null,
   "id": "02146ae5",
   "metadata": {},
   "outputs": [],
   "source": []
  },
  {
   "cell_type": "markdown",
   "id": "132a9400",
   "metadata": {},
   "source": [
    "### Predict top"
   ]
  },
  {
   "cell_type": "code",
   "execution_count": 11,
   "id": "18797a1a",
   "metadata": {},
   "outputs": [
    {
     "name": "stderr",
     "output_type": "stream",
     "text": [
      "100%|██████████| 5/5 [00:11<00:00,  2.32s/it]\n",
      "100%|██████████| 5/5 [00:11<00:00,  2.36s/it]\n",
      "100%|██████████| 4/4 [00:11<00:00,  2.83s/it]\n",
      "100%|██████████| 4/4 [00:11<00:00,  2.79s/it]\n",
      "100%|██████████| 5/5 [00:10<00:00,  2.07s/it]\n"
     ]
    }
   ],
   "source": [
    "from configs.features_model_top import *\n",
    "\n",
    "def create_trainer(dataset):\n",
    "    model = create_model(\n",
    "        model_name = 'efficientnet_b0',\n",
    "        pretrained = True,\n",
    "        num_classes = dataset.num_classes,\n",
    "        )\n",
    "\n",
    "    optimizer = torch.optim.Adam(\n",
    "        params = model.parameters(),\n",
    "        lr = 1e-3\n",
    "        )\n",
    "\n",
    "    trainer = BasicTrainer(\n",
    "        model = model,\n",
    "        evaluation = evaluation,\n",
    "        optimizer = optimizer,\n",
    "        device = 'cpu',\n",
    "    )\n",
    "    return trainer\n",
    "\n",
    "for i, split in enumerate(splits):\n",
    "    trainer = create_trainer(split['train'])\n",
    "    root = '/home/cermavo3/projects/datasets/experiments/basic3'\n",
    "    path = f\"{root}/runs/Oct04_08-09-58-2127_features_model_top/{split['name']}/model_latest.pth\"\n",
    "    trainer.load_checkpoint(path)\n",
    "\n",
    "    dataset_valid =  split['valid']\n",
    "    dataset_train = split['train']\n",
    "    pred, _ = predict_classifier(trainer.model, dataset_train, dataset_valid, k=1)\n",
    "\n",
    "    gt = dataset_valid.label_map[dataset_valid.label]\n",
    "    predictions[i].append({'gt': gt, 'pred': pred.flatten(), 'source': 'top'})"
   ]
  },
  {
   "cell_type": "code",
   "execution_count": null,
   "id": "3da85da7",
   "metadata": {},
   "outputs": [],
   "source": []
  },
  {
   "cell_type": "code",
   "execution_count": 12,
   "id": "9ec7e844",
   "metadata": {},
   "outputs": [
    {
     "data": {
      "text/plain": [
       "[{'acc': 0.623066725585506, 'acc_balanced': 0.5214588958652453},\n",
       " {'acc': 0.6339522546419099, 'acc_balanced': 0.5311813633583082},\n",
       " {'acc': 0.6199115044247787, 'acc_balanced': 0.512846580166245},\n",
       " {'acc': 0.6453180212014135, 'acc_balanced': 0.5414347545990662},\n",
       " {'acc': 0.6441501103752759, 'acc_balanced': 0.527443471020523}]"
      ]
     },
     "execution_count": 12,
     "metadata": {},
     "output_type": "execute_result"
    }
   ],
   "source": [
    "scores = []\n",
    "for prediction in predictions:\n",
    "    gt = np.concatenate([p['gt'] for p in prediction])\n",
    "    pred = np.concatenate([p['pred'] for p in prediction])\n",
    "    scores.append({\n",
    "        'acc': accuracy_score(gt, pred),\n",
    "        'acc_balanced': balanced_accuracy_score(gt, pred),\n",
    "        })\n",
    "scores"
   ]
  },
  {
   "cell_type": "code",
   "execution_count": null,
   "id": "e144a939",
   "metadata": {},
   "outputs": [],
   "source": []
  },
  {
   "cell_type": "code",
   "execution_count": null,
   "id": "a7dd0606",
   "metadata": {},
   "outputs": [],
   "source": []
  },
  {
   "cell_type": "code",
   "execution_count": null,
   "id": "ef9e2ac3",
   "metadata": {},
   "outputs": [],
   "source": []
  },
  {
   "cell_type": "markdown",
   "id": "d0bee157",
   "metadata": {},
   "source": [
    "### KNN prediction"
   ]
  },
  {
   "cell_type": "code",
   "execution_count": null,
   "id": "e47409dd",
   "metadata": {},
   "outputs": [
    {
     "name": "stderr",
     "output_type": "stream",
     "text": [
      "/mnt/appl/software/torchvision/0.10.0-fosscuda-2020b-PyTorch-1.9.0/lib/python3.8/site-packages/torchvision/transforms/transforms.py:280: UserWarning: Argument interpolation should be of type InterpolationMode instead of int. Please, use InterpolationMode enum.\n",
      "  warnings.warn(\n",
      "100%|██████████| 83/83 [03:34<00:00,  2.58s/it]\n",
      "100%|██████████| 36/36 [01:32<00:00,  2.57s/it]\n",
      "100%|██████████| 83/83 [03:39<00:00,  2.64s/it]\n",
      "100%|██████████| 36/36 [01:38<00:00,  2.73s/it]\n",
      "100%|██████████| 83/83 [03:30<00:00,  2.53s/it]\n",
      "100%|██████████| 36/36 [01:32<00:00,  2.56s/it]\n",
      " 72%|███████▏  | 60/83 [02:29<00:57,  2.50s/it]"
     ]
    }
   ],
   "source": [
    "from configs.baseline import *\n",
    "\n",
    "model = create_model(\n",
    "    model_name = 'efficientnet_b0',\n",
    "    pretrained = True,\n",
    "    num_classes = 512,\n",
    "    )\n",
    "\n",
    "predictions_knn = []\n",
    "for i, split in enumerate(splits):\n",
    "    dataset_valid =  split['valid']\n",
    "    dataset_train = split['reference']\n",
    "    pred, _ = predict_knn(model, dataset_train, dataset_valid, k=1)\n",
    "\n",
    "    gt = dataset_valid.label_map[dataset_valid.label]\n",
    "    predictions_knn.append({'gt': gt, 'pred': pred.flatten()})"
   ]
  },
  {
   "cell_type": "code",
   "execution_count": null,
   "id": "b6c91232",
   "metadata": {},
   "outputs": [],
   "source": [
    "scores_knn = []\n",
    "for p in predictions_knn:\n",
    "    gt = p['gt']\n",
    "    pred = p['pred']\n",
    "    scores_knn.append({\n",
    "        'acc': accuracy_score(gt, pred),\n",
    "        'acc_balanced': balanced_accuracy_score(gt, pred),\n",
    "        })\n",
    "scores_knn"
   ]
  },
  {
   "cell_type": "code",
   "execution_count": null,
   "id": "38714d93",
   "metadata": {},
   "outputs": [],
   "source": []
  },
  {
   "cell_type": "code",
   "execution_count": null,
   "id": "127e58e0",
   "metadata": {},
   "outputs": [],
   "source": []
  }
 ],
 "metadata": {
  "kernelspec": {
   "display_name": "Python 3",
   "language": "python",
   "name": "python3"
  },
  "language_info": {
   "codemirror_mode": {
    "name": "ipython",
    "version": 3
   },
   "file_extension": ".py",
   "mimetype": "text/x-python",
   "name": "python",
   "nbconvert_exporter": "python",
   "pygments_lexer": "ipython3",
   "version": "3.8.8"
  }
 },
 "nbformat": 4,
 "nbformat_minor": 5
}
