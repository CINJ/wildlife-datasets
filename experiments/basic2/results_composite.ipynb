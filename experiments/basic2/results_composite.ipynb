{
 "cells": [
  {
   "cell_type": "code",
   "execution_count": 1,
   "id": "e72499d8",
   "metadata": {},
   "outputs": [],
   "source": [
    "from tqdm import tqdm\n",
    "import pandas as pd\n",
    "import numpy as np\n",
    "from sklearn.metrics import accuracy_score, balanced_accuracy_score\n",
    "\n",
    "import os\n",
    "import sys\n",
    "sys.path.append(os.path.join('../..'))\n",
    "from wildlife_training.inference import predict_classifier, predict_knn\n"
   ]
  },
  {
   "cell_type": "code",
   "execution_count": null,
   "id": "acecf148",
   "metadata": {},
   "outputs": [],
   "source": []
  },
  {
   "cell_type": "markdown",
   "id": "313ef1dc",
   "metadata": {},
   "source": [
    "### Predict left"
   ]
  },
  {
   "cell_type": "code",
   "execution_count": 2,
   "id": "b8b456e2",
   "metadata": {},
   "outputs": [
    {
     "name": "stderr",
     "output_type": "stream",
     "text": [
      "100%|██████████| 11/11 [00:30<00:00,  2.78s/it]\n",
      "100%|██████████| 11/11 [00:33<00:00,  3.03s/it]\n",
      "100%|██████████| 11/11 [00:31<00:00,  2.84s/it]\n",
      "100%|██████████| 11/11 [00:31<00:00,  2.85s/it]\n",
      "100%|██████████| 11/11 [00:31<00:00,  2.84s/it]\n"
     ]
    }
   ],
   "source": [
    "predictions = [[] for i in range(5)]\n",
    "from configs.features_model_left import *\n",
    "\n",
    "def create_trainer(dataset):\n",
    "    model = create_model(\n",
    "        model_name = 'efficientnet_b0',\n",
    "        pretrained = True,\n",
    "        num_classes = dataset.num_classes,\n",
    "        )\n",
    "\n",
    "    optimizer = torch.optim.Adam(\n",
    "        params = model.parameters(),\n",
    "        lr = 1e-3\n",
    "        )\n",
    "\n",
    "    trainer = BasicTrainer(\n",
    "        model = model,\n",
    "        evaluation = evaluation,\n",
    "        optimizer = optimizer,\n",
    "        device = 'cpu',\n",
    "    )\n",
    "    return trainer\n",
    "\n",
    "for i, split in enumerate(splits):\n",
    "    trainer = create_trainer(split['train'])\n",
    "    root = '/home/cermavo3/projects/datasets/experiments/final'\n",
    "    path = f\"{root}/runs/Sep26_14-09-33-1919_features_model_left/{split['name']}/model_latest.pth\"\n",
    "    trainer.load_checkpoint(path)\n",
    "\n",
    "    dataset_valid =  split['valid']\n",
    "    dataset_train = split['train']\n",
    "    pred, _ = predict_classifier(trainer.model, dataset_train, dataset_valid, k=1)\n",
    "\n",
    "    gt = dataset_valid.label_map[dataset_valid.label]\n",
    "    predictions[i].append({'gt': gt, 'pred': pred.flatten(), 'source': 'left'})"
   ]
  },
  {
   "cell_type": "code",
   "execution_count": null,
   "id": "50282050",
   "metadata": {},
   "outputs": [],
   "source": []
  },
  {
   "cell_type": "markdown",
   "id": "a970fd18",
   "metadata": {},
   "source": [
    "### Predict topleft"
   ]
  },
  {
   "cell_type": "code",
   "execution_count": 3,
   "id": "3579d21d",
   "metadata": {},
   "outputs": [
    {
     "name": "stderr",
     "output_type": "stream",
     "text": [
      "100%|██████████| 6/6 [00:17<00:00,  2.92s/it]\n",
      "100%|██████████| 6/6 [00:17<00:00,  2.86s/it]\n",
      "100%|██████████| 6/6 [00:17<00:00,  2.89s/it]\n",
      "100%|██████████| 6/6 [00:16<00:00,  2.77s/it]\n",
      "100%|██████████| 6/6 [00:16<00:00,  2.82s/it]\n"
     ]
    }
   ],
   "source": [
    "from configs.features_model_topleft import *\n",
    "\n",
    "def create_trainer(dataset):\n",
    "    model = create_model(\n",
    "        model_name = 'efficientnet_b0',\n",
    "        pretrained = True,\n",
    "        num_classes = dataset.num_classes,\n",
    "        )\n",
    "\n",
    "    optimizer = torch.optim.Adam(\n",
    "        params = model.parameters(),\n",
    "        lr = 1e-3\n",
    "        )\n",
    "\n",
    "    trainer = BasicTrainer(\n",
    "        model = model,\n",
    "        evaluation = evaluation,\n",
    "        optimizer = optimizer,\n",
    "        device = 'cpu',\n",
    "    )\n",
    "    return trainer\n",
    "\n",
    "for i, split in enumerate(splits):\n",
    "    trainer = create_trainer(split['train'])\n",
    "    root = '/home/cermavo3/projects/datasets/experiments/final'\n",
    "    path = f\"{root}/runs/Sep26_14-09-33-1916_features_model_topleft/{split['name']}/model_latest.pth\"\n",
    "    trainer.load_checkpoint(path)\n",
    "\n",
    "    dataset_valid =  split['valid']\n",
    "    dataset_train = split['train']\n",
    "    pred, _ = predict_classifier(trainer.model, dataset_train, dataset_valid, k=1)\n",
    "\n",
    "    gt = dataset_valid.label_map[dataset_valid.label]\n",
    "    predictions[i].append({'gt': gt, 'pred': pred.flatten(), 'source': 'topleft'})"
   ]
  },
  {
   "cell_type": "code",
   "execution_count": null,
   "id": "45c6eacf",
   "metadata": {},
   "outputs": [],
   "source": []
  },
  {
   "cell_type": "markdown",
   "id": "d7e4d268",
   "metadata": {},
   "source": [
    "### Predict right"
   ]
  },
  {
   "cell_type": "code",
   "execution_count": 4,
   "id": "2668b245",
   "metadata": {},
   "outputs": [
    {
     "name": "stderr",
     "output_type": "stream",
     "text": [
      "100%|██████████| 10/10 [00:28<00:00,  2.84s/it]\n",
      "100%|██████████| 9/9 [00:26<00:00,  2.90s/it]\n",
      "100%|██████████| 10/10 [00:28<00:00,  2.88s/it]\n",
      "100%|██████████| 10/10 [00:27<00:00,  2.74s/it]\n",
      "100%|██████████| 10/10 [00:28<00:00,  2.84s/it]\n"
     ]
    }
   ],
   "source": [
    "from configs.features_model_right import *\n",
    "\n",
    "def create_trainer(dataset):\n",
    "    model = create_model(\n",
    "        model_name = 'efficientnet_b0',\n",
    "        pretrained = True,\n",
    "        num_classes = dataset.num_classes,\n",
    "        )\n",
    "\n",
    "    optimizer = torch.optim.Adam(\n",
    "        params = model.parameters(),\n",
    "        lr = 1e-3\n",
    "        )\n",
    "\n",
    "    trainer = BasicTrainer(\n",
    "        model = model,\n",
    "        evaluation = evaluation,\n",
    "        optimizer = optimizer,\n",
    "        device = 'cpu',\n",
    "    )\n",
    "    return trainer\n",
    "\n",
    "for i, split in enumerate(splits):\n",
    "    trainer = create_trainer(split['train'])\n",
    "    root = '/home/cermavo3/projects/datasets/experiments/final'\n",
    "    path = f\"{root}/runs/Sep26_14-09-33-1950_features_model_right/{split['name']}/model_latest.pth\"\n",
    "    trainer.load_checkpoint(path)\n",
    "\n",
    "    dataset_valid =  split['valid']\n",
    "    dataset_train = split['train']\n",
    "    pred, _ = predict_classifier(trainer.model, dataset_train, dataset_valid, k=1)\n",
    "\n",
    "    gt = dataset_valid.label_map[dataset_valid.label]\n",
    "    predictions[i].append({'gt': gt, 'pred': pred.flatten(), 'source': 'right'})"
   ]
  },
  {
   "cell_type": "code",
   "execution_count": null,
   "id": "c50d0760",
   "metadata": {},
   "outputs": [],
   "source": []
  },
  {
   "cell_type": "markdown",
   "id": "ada12efc",
   "metadata": {},
   "source": [
    "### Predict topright"
   ]
  },
  {
   "cell_type": "code",
   "execution_count": 5,
   "id": "e891efd7",
   "metadata": {},
   "outputs": [
    {
     "name": "stderr",
     "output_type": "stream",
     "text": [
      "100%|██████████| 7/7 [00:18<00:00,  2.65s/it]\n",
      "100%|██████████| 7/7 [00:19<00:00,  2.73s/it]\n",
      "100%|██████████| 7/7 [00:18<00:00,  2.64s/it]\n",
      "100%|██████████| 7/7 [00:18<00:00,  2.64s/it]\n",
      "100%|██████████| 7/7 [00:21<00:00,  3.05s/it]\n"
     ]
    }
   ],
   "source": [
    "from configs.features_model_topright import *\n",
    "\n",
    "def create_trainer(dataset):\n",
    "    model = create_model(\n",
    "        model_name = 'efficientnet_b0',\n",
    "        pretrained = True,\n",
    "        num_classes = dataset.num_classes,\n",
    "        )\n",
    "\n",
    "    optimizer = torch.optim.Adam(\n",
    "        params = model.parameters(),\n",
    "        lr = 1e-3\n",
    "        )\n",
    "\n",
    "    trainer = BasicTrainer(\n",
    "        model = model,\n",
    "        evaluation = evaluation,\n",
    "        optimizer = optimizer,\n",
    "        device = 'cpu',\n",
    "    )\n",
    "    return trainer\n",
    "\n",
    "for i, split in enumerate(splits):\n",
    "    trainer = create_trainer(split['train'])\n",
    "    root = '/home/cermavo3/projects/datasets/experiments/final'\n",
    "    path = f\"{root}/runs/Sep26_14-09-33-1944_features_model_topright/{split['name']}/model_latest.pth\"\n",
    "    trainer.load_checkpoint(path)\n",
    "\n",
    "    dataset_valid =  split['valid']\n",
    "    dataset_train = split['train']\n",
    "    pred, _ = predict_classifier(trainer.model, dataset_train, dataset_valid, k=1)\n",
    "\n",
    "    gt = dataset_valid.label_map[dataset_valid.label]\n",
    "    predictions[i].append({'gt': gt, 'pred': pred.flatten(), 'source': 'topright'})"
   ]
  },
  {
   "cell_type": "code",
   "execution_count": null,
   "id": "02146ae5",
   "metadata": {},
   "outputs": [],
   "source": []
  },
  {
   "cell_type": "markdown",
   "id": "132a9400",
   "metadata": {},
   "source": [
    "### Predict top"
   ]
  },
  {
   "cell_type": "code",
   "execution_count": 6,
   "id": "18797a1a",
   "metadata": {},
   "outputs": [
    {
     "name": "stderr",
     "output_type": "stream",
     "text": [
      "100%|██████████| 4/4 [00:11<00:00,  2.86s/it]\n",
      "100%|██████████| 5/5 [00:11<00:00,  2.24s/it]\n",
      "100%|██████████| 4/4 [00:11<00:00,  2.83s/it]\n",
      "100%|██████████| 5/5 [00:11<00:00,  2.32s/it]\n",
      "100%|██████████| 4/4 [00:09<00:00,  2.44s/it]\n"
     ]
    }
   ],
   "source": [
    "from configs.features_model_top import *\n",
    "\n",
    "def create_trainer(dataset):\n",
    "    model = create_model(\n",
    "        model_name = 'efficientnet_b0',\n",
    "        pretrained = True,\n",
    "        num_classes = dataset.num_classes,\n",
    "        )\n",
    "\n",
    "    optimizer = torch.optim.Adam(\n",
    "        params = model.parameters(),\n",
    "        lr = 1e-3\n",
    "        )\n",
    "\n",
    "    trainer = BasicTrainer(\n",
    "        model = model,\n",
    "        evaluation = evaluation,\n",
    "        optimizer = optimizer,\n",
    "        device = 'cpu',\n",
    "    )\n",
    "    return trainer\n",
    "\n",
    "for i, split in enumerate(splits):\n",
    "    trainer = create_trainer(split['train'])\n",
    "    root = '/home/cermavo3/projects/datasets/experiments/final'\n",
    "    path = f\"{root}/runs/Sep26_14-09-33-2074_features_model_top/{split['name']}/model_latest.pth\"\n",
    "    trainer.load_checkpoint(path)\n",
    "\n",
    "    dataset_valid =  split['valid']\n",
    "    dataset_train = split['train']\n",
    "    pred, _ = predict_classifier(trainer.model, dataset_train, dataset_valid, k=1)\n",
    "\n",
    "    gt = dataset_valid.label_map[dataset_valid.label]\n",
    "    predictions[i].append({'gt': gt, 'pred': pred.flatten(), 'source': 'top'})"
   ]
  },
  {
   "cell_type": "code",
   "execution_count": null,
   "id": "3da85da7",
   "metadata": {},
   "outputs": [],
   "source": []
  },
  {
   "cell_type": "code",
   "execution_count": 36,
   "id": "9ec7e844",
   "metadata": {},
   "outputs": [],
   "source": [
    "scores = []\n",
    "for prediction in predictions:\n",
    "    gt = np.concatenate([p['gt'] for p in prediction])\n",
    "    pred = np.concatenate([p['pred'] for p in prediction])\n",
    "    scores.append({\n",
    "        'acc': accuracy_score(gt, pred),\n",
    "        'acc_balanced': balanced_accuracy_score(gt, pred),\n",
    "        })"
   ]
  },
  {
   "cell_type": "code",
   "execution_count": 38,
   "id": "e144a939",
   "metadata": {},
   "outputs": [
    {
     "data": {
      "text/plain": [
       "[{'acc': 0.5108263367211666, 'acc_balanced': 0.409484740708942},\n",
       " {'acc': 0.5712395235994706, 'acc_balanced': 0.467410486166667},\n",
       " {'acc': 0.5472197705207414, 'acc_balanced': 0.4432889819186885},\n",
       " {'acc': 0.5596289752650176, 'acc_balanced': 0.4455314733600675},\n",
       " {'acc': 0.5473032714412025, 'acc_balanced': 0.4287332540382434}]"
      ]
     },
     "execution_count": 38,
     "metadata": {},
     "output_type": "execute_result"
    }
   ],
   "source": [
    "scores"
   ]
  },
  {
   "cell_type": "code",
   "execution_count": null,
   "id": "a7dd0606",
   "metadata": {},
   "outputs": [],
   "source": []
  },
  {
   "cell_type": "code",
   "execution_count": null,
   "id": "ef9e2ac3",
   "metadata": {},
   "outputs": [],
   "source": []
  },
  {
   "cell_type": "markdown",
   "id": "d0bee157",
   "metadata": {},
   "source": [
    "### KNN prediction"
   ]
  },
  {
   "cell_type": "code",
   "execution_count": 2,
   "id": "e47409dd",
   "metadata": {},
   "outputs": [
    {
     "name": "stderr",
     "output_type": "stream",
     "text": [
      "100%|██████████| 83/83 [04:06<00:00,  2.98s/it]\n",
      "100%|██████████| 36/36 [02:02<00:00,  3.40s/it]\n",
      "100%|██████████| 83/83 [03:53<00:00,  2.81s/it]\n",
      "100%|██████████| 36/36 [01:37<00:00,  2.72s/it]\n",
      "100%|██████████| 83/83 [03:47<00:00,  2.74s/it]\n",
      "100%|██████████| 36/36 [01:37<00:00,  2.70s/it]\n",
      "100%|██████████| 83/83 [03:51<00:00,  2.79s/it]\n",
      "100%|██████████| 36/36 [01:37<00:00,  2.72s/it]\n",
      "100%|██████████| 83/83 [03:46<00:00,  2.73s/it]\n",
      "100%|██████████| 36/36 [01:37<00:00,  2.70s/it]\n"
     ]
    }
   ],
   "source": [
    "from configs.baseline import *\n",
    "\n",
    "model = create_model(\n",
    "    model_name = 'efficientnet_b0',\n",
    "    pretrained = True,\n",
    "    num_classes = 512,\n",
    "    )\n",
    "\n",
    "predictions_knn = []\n",
    "for i, split in enumerate(splits):\n",
    "    dataset_valid =  split['valid']\n",
    "    dataset_train = split['reference']\n",
    "    pred, _ = predict_knn(model, dataset_train, dataset_valid, k=1)\n",
    "\n",
    "    gt = dataset_valid.label_map[dataset_valid.label]\n",
    "    predictions_knn.append({'gt': gt, 'pred': pred.flatten()})"
   ]
  },
  {
   "cell_type": "code",
   "execution_count": 3,
   "id": "b6c91232",
   "metadata": {},
   "outputs": [],
   "source": [
    "scores_knn = []\n",
    "for p in predictions_knn:\n",
    "    gt = p['gt']\n",
    "    pred = p['pred']\n",
    "    scores_knn.append({\n",
    "        'acc': accuracy_score(gt, pred),\n",
    "        'acc_balanced': balanced_accuracy_score(gt, pred),\n",
    "        })"
   ]
  },
  {
   "cell_type": "code",
   "execution_count": 4,
   "id": "38714d93",
   "metadata": {},
   "outputs": [
    {
     "data": {
      "text/plain": [
       "[{'acc': 0.4204045734388742, 'acc_balanced': 0.34758116657671645},\n",
       " {'acc': 0.4226033421284081, 'acc_balanced': 0.36822005481814823},\n",
       " {'acc': 0.41952506596306066, 'acc_balanced': 0.3731034025164803},\n",
       " {'acc': 0.4177660510114336, 'acc_balanced': 0.3605672284719983},\n",
       " {'acc': 0.4076517150395778, 'acc_balanced': 0.34300021144179005}]"
      ]
     },
     "execution_count": 4,
     "metadata": {},
     "output_type": "execute_result"
    }
   ],
   "source": [
    "scores_knn"
   ]
  },
  {
   "cell_type": "code",
   "execution_count": null,
   "id": "127e58e0",
   "metadata": {},
   "outputs": [],
   "source": []
  }
 ],
 "metadata": {
  "kernelspec": {
   "display_name": "Python 3",
   "language": "python",
   "name": "python3"
  },
  "language_info": {
   "codemirror_mode": {
    "name": "ipython",
    "version": 3
   },
   "file_extension": ".py",
   "mimetype": "text/x-python",
   "name": "python",
   "nbconvert_exporter": "python",
   "pygments_lexer": "ipython3",
   "version": "3.8.8"
  }
 },
 "nbformat": 4,
 "nbformat_minor": 5
}
