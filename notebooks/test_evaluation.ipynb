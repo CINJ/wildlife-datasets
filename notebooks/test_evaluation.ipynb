{
 "cells": [
  {
   "cell_type": "code",
   "execution_count": 1,
   "id": "cd96f7ef",
   "metadata": {},
   "outputs": [],
   "source": [
    "%load_ext autoreload\n",
    "%autoreload 2"
   ]
  },
  {
   "cell_type": "code",
   "execution_count": 2,
   "id": "be7b71a6",
   "metadata": {},
   "outputs": [],
   "source": [
    "import sys\n",
    "sys.path.append('..')\n",
    "\n",
    "from wildlife_datasets import datasets, loader, analysis, evaluation, splits\n",
    "import numpy as np\n",
    "import sklearn.metrics as skm"
   ]
  },
  {
   "cell_type": "code",
   "execution_count": 32,
   "id": "aa45da4c",
   "metadata": {},
   "outputs": [],
   "source": [
    "def compute_metrics(y_true, y_pred):\n",
    "    score1 = skm.accuracy_score(y_true, y_pred)\n",
    "    score2 = skm.balanced_accuracy_score(y_true, y_pred)\n",
    "    score3 = skm.precision_score(y_true, y_pred, average='macro')\n",
    "    score4 = skm.recall_score(y_true, y_pred, average='macro')\n",
    "    score5 = skm.f1_score(y_true, y_pred, average='macro')\n",
    "    return score1, score2, score3, score4, score5\n",
    "    \n",
    "def macro_f1(ps, rs):\n",
    "    return np.mean([0 if (p,r)==(0,0) else 2*p*r/(p+r) for (p, r) in zip(ps, rs)])"
   ]
  },
  {
   "cell_type": "code",
   "execution_count": 33,
   "id": "5114937d",
   "metadata": {},
   "outputs": [],
   "source": [
    "y_true = [1,1,2,3,3]\n",
    "y_pred = [1,1,2,3,1]"
   ]
  },
  {
   "cell_type": "code",
   "execution_count": 34,
   "id": "7b755b5b",
   "metadata": {
    "scrolled": true
   },
   "outputs": [
    {
     "name": "stdout",
     "output_type": "stream",
     "text": [
      "[[2 0 0]\n",
      " [0 1 0]\n",
      " [1 0 1]]\n",
      "(0.8, 0.8333333333333334, 0.8888888888888888, 0.8333333333333334, 0.8222222222222223)\n",
      "(0.8, 0.8333333333333334, 0.8888888888888888, 0.8333333333333334) 0.8222222222222223\n"
     ]
    }
   ],
   "source": [
    "print(skm.confusion_matrix(y_true, y_pred))\n",
    "print(compute_metrics(y_true, y_pred))\n",
    "print((4/5, (2/2+1/1+1/2)/3, (2/3+1/1+1/1)/3, (2/2+1/1+1/2)/3), macro_f1([2/3,1/1,1/1], [2/2,1/1,1/2]))"
   ]
  },
  {
   "cell_type": "code",
   "execution_count": 35,
   "id": "b38f754f",
   "metadata": {},
   "outputs": [],
   "source": [
    "y_true = [1,1,2,3,3]\n",
    "y_pred = [1,1,2,3,0]"
   ]
  },
  {
   "cell_type": "code",
   "execution_count": 36,
   "id": "228bb708",
   "metadata": {},
   "outputs": [
    {
     "name": "stdout",
     "output_type": "stream",
     "text": [
      "[[0 0 0 0]\n",
      " [0 2 0 0]\n",
      " [0 0 1 0]\n",
      " [1 0 0 1]]\n",
      "(0.8, 0.8333333333333334, 0.75, 0.625, 0.6666666666666666)\n",
      "(0.8, 0.8333333333333334, 0.75, 0.625, 0.6666666666666666)\n"
     ]
    },
    {
     "name": "stderr",
     "output_type": "stream",
     "text": [
      "/mnt/appl/software/scikit-learn/1.0.1-foss-2021b/lib/python3.9/site-packages/sklearn/metrics/_classification.py:1953: UserWarning: y_pred contains classes not in y_true\n",
      "  warnings.warn(\"y_pred contains classes not in y_true\")\n",
      "/mnt/appl/software/scikit-learn/1.0.1-foss-2021b/lib/python3.9/site-packages/sklearn/metrics/_classification.py:1308: UndefinedMetricWarning: Recall is ill-defined and being set to 0.0 in labels with no true samples. Use `zero_division` parameter to control this behavior.\n",
      "  _warn_prf(average, modifier, msg_start, len(result))\n"
     ]
    }
   ],
   "source": [
    "print(skm.confusion_matrix(y_true, y_pred))\n",
    "print(compute_metrics(y_true, y_pred))\n",
    "print((4/5, (2/2+1/1+1/2)/3, (0/1+2/2+1/1+1/1)/4, (0+2/2+1/1+1/2)/4, macro_f1([0/1,2/2,1/1,1/1], [0,2/2,1/1,1/2])))"
   ]
  },
  {
   "cell_type": "code",
   "execution_count": 50,
   "id": "8963423e",
   "metadata": {},
   "outputs": [
    {
     "name": "stdout",
     "output_type": "stream",
     "text": [
      "[[2 0 0]\n",
      " [0 1 0]\n",
      " [0 1 1]]\n",
      "(0.8, 0.8333333333333334, 0.8333333333333334, 0.8333333333333334, 0.7777777777777777)\n"
     ]
    }
   ],
   "source": [
    "y_true = [1,1,2,3,3]\n",
    "y_pred = [1,1,2,3,0]\n",
    "e = evaluation.ClosedSet()\n",
    "y_true, y_pred = e.modify_classes(y_true, y_pred)\n",
    "print(skm.confusion_matrix(y_true, y_pred))\n",
    "print(compute_metrics(y_true, y_pred))"
   ]
  },
  {
   "cell_type": "code",
   "execution_count": 41,
   "id": "03df6906",
   "metadata": {},
   "outputs": [
    {
     "data": {
      "text/plain": [
       "([1, 1, 2, 3, 3], [1, 1, 2, 3, 0])"
      ]
     },
     "execution_count": 41,
     "metadata": {},
     "output_type": "execute_result"
    }
   ],
   "source": [
    "y_true, y_pred"
   ]
  },
  {
   "cell_type": "code",
   "execution_count": null,
   "id": "997cad91",
   "metadata": {},
   "outputs": [],
   "source": []
  },
  {
   "cell_type": "code",
   "execution_count": null,
   "id": "2fe957b1",
   "metadata": {},
   "outputs": [],
   "source": []
  },
  {
   "cell_type": "code",
   "execution_count": null,
   "id": "3cad3690",
   "metadata": {},
   "outputs": [],
   "source": [
    "known_classes = [1,2,3]\n",
    "y_true = [1,2,3,4,5]\n",
    "y_pred = [1,2,3,'new','new']"
   ]
  },
  {
   "cell_type": "code",
   "execution_count": null,
   "id": "8a04e729",
   "metadata": {},
   "outputs": [],
   "source": [
    "y_true = [y if y in known_classes else 'new' for y in y_true]"
   ]
  },
  {
   "cell_type": "code",
   "execution_count": null,
   "id": "32cf2141",
   "metadata": {},
   "outputs": [],
   "source": []
  },
  {
   "cell_type": "code",
   "execution_count": 54,
   "id": "85c0e67e",
   "metadata": {},
   "outputs": [
    {
     "data": {
      "text/plain": [
       "[1, None, 2]"
      ]
     },
     "execution_count": 54,
     "metadata": {},
     "output_type": "execute_result"
    }
   ],
   "source": [
    "[i for i in [1, None, 2]]"
   ]
  },
  {
   "cell_type": "code",
   "execution_count": 59,
   "id": "60f61e07",
   "metadata": {},
   "outputs": [
    {
     "data": {
      "text/plain": [
       "array(['a', 'qwe', 'qwe_new'], dtype='<U7')"
      ]
     },
     "execution_count": 59,
     "metadata": {},
     "output_type": "execute_result"
    }
   ],
   "source": [
    "np.sort(['a', 'qwe', 'qwe_new'])"
   ]
  },
  {
   "cell_type": "code",
   "execution_count": 63,
   "id": "f30090ff",
   "metadata": {},
   "outputs": [
    {
     "data": {
      "text/plain": [
       "array(['a', 'qwe', 'qwe_new', 'a', 'qwe', 'qwe_new'], dtype='<U7')"
      ]
     },
     "execution_count": 63,
     "metadata": {},
     "output_type": "execute_result"
    }
   ],
   "source": [
    "np.hstack((np.array(['a', 'qwe', 'qwe_new']), ['a', 'qwe', 'qwe_new']))"
   ]
  },
  {
   "cell_type": "code",
   "execution_count": null,
   "id": "11298b27",
   "metadata": {},
   "outputs": [],
   "source": []
  },
  {
   "cell_type": "code",
   "execution_count": 70,
   "id": "e0a0153c",
   "metadata": {},
   "outputs": [
    {
     "data": {
      "text/plain": [
       "['ClosedSet',\n",
       " 'DisjointSet',\n",
       " 'OpenSet',\n",
       " '__builtins__',\n",
       " '__cached__',\n",
       " '__file__',\n",
       " '__loader__',\n",
       " '__name__',\n",
       " '__package__',\n",
       " '__path__',\n",
       " '__spec__',\n",
       " 'accuracy',\n",
       " 'modify_y',\n",
       " 'np',\n",
       " 'recognize_id_split',\n",
       " 'splits']"
      ]
     },
     "execution_count": 70,
     "metadata": {},
     "output_type": "execute_result"
    }
   ],
   "source": [
    "dir(evaluation)"
   ]
  },
  {
   "cell_type": "code",
   "execution_count": 44,
   "id": "37153629",
   "metadata": {},
   "outputs": [
    {
     "data": {
      "text/plain": [
       "([1, 0, 1], [1, 20, 0], 0)"
      ]
     },
     "execution_count": 44,
     "metadata": {},
     "output_type": "execute_result"
    }
   ],
   "source": [
    "evaluation.unify_types([1,'123',1], [1,20,'123'], '123')"
   ]
  },
  {
   "cell_type": "code",
   "execution_count": 38,
   "id": "b063da21",
   "metadata": {},
   "outputs": [
    {
     "data": {
      "text/plain": [
       "True"
      ]
     },
     "execution_count": 38,
     "metadata": {},
     "output_type": "execute_result"
    }
   ],
   "source": [
    "str in [type(y) for y in [1,'a']]"
   ]
  },
  {
   "cell_type": "code",
   "execution_count": 17,
   "id": "38f82a85",
   "metadata": {},
   "outputs": [
    {
     "name": "stderr",
     "output_type": "stream",
     "text": [
      "/tmp/ipykernel_3143/1558224492.py:1: FutureWarning: elementwise comparison failed; returning scalar instead, but in the future will perform elementwise comparison\n",
      "  np.array([1,2,3]) == 'a'\n"
     ]
    },
    {
     "data": {
      "text/plain": [
       "False"
      ]
     },
     "execution_count": 17,
     "metadata": {},
     "output_type": "execute_result"
    }
   ],
   "source": [
    "np.array([1,2,3]) == 'a'"
   ]
  },
  {
   "cell_type": "code",
   "execution_count": 6,
   "id": "a128c2a2",
   "metadata": {},
   "outputs": [
    {
     "data": {
      "text/plain": [
       "array([1, 2, 3])"
      ]
     },
     "execution_count": 6,
     "metadata": {},
     "output_type": "execute_result"
    }
   ],
   "source": [
    "np.sort(list({1,2,3}))"
   ]
  },
  {
   "cell_type": "code",
   "execution_count": 26,
   "id": "7c5cbe2e",
   "metadata": {},
   "outputs": [
    {
     "name": "stdout",
     "output_type": "stream",
     "text": [
      "(0.9, 0.9, 0.5, 0.45, 0.4736842105263158)\n"
     ]
    },
    {
     "name": "stderr",
     "output_type": "stream",
     "text": [
      "/mnt/appl/software/scikit-learn/1.0.1-foss-2021b/lib/python3.9/site-packages/sklearn/metrics/_classification.py:1953: UserWarning: y_pred contains classes not in y_true\n",
      "  warnings.warn(\"y_pred contains classes not in y_true\")\n",
      "/mnt/appl/software/scikit-learn/1.0.1-foss-2021b/lib/python3.9/site-packages/sklearn/metrics/_classification.py:1308: UndefinedMetricWarning: Recall is ill-defined and being set to 0.0 in labels with no true samples. Use `zero_division` parameter to control this behavior.\n",
      "  _warn_prf(average, modifier, msg_start, len(result))\n"
     ]
    }
   ],
   "source": [
    "y_true=9*[1,2]\n",
    "y_true.append(1)\n",
    "y_true.append(2)\n",
    "y_pred=9*[1,2]\n",
    "y_pred.append(3)\n",
    "y_pred.append(4)\n",
    "\n",
    "print(compute_metrics(y_true, y_pred))"
   ]
  },
  {
   "cell_type": "code",
   "execution_count": 22,
   "id": "0ce60276",
   "metadata": {},
   "outputs": [
    {
     "data": {
      "text/plain": [
       "[1, 2, 1, 2, 1, 2, 1, 2, 1, 2, 1, 2, 1, 2, 1, 2, 1, 2, [1, 2]]"
      ]
     },
     "execution_count": 22,
     "metadata": {},
     "output_type": "execute_result"
    }
   ],
   "source": [
    "y_true"
   ]
  },
  {
   "cell_type": "code",
   "execution_count": null,
   "id": "f4bd3ec4",
   "metadata": {},
   "outputs": [],
   "source": []
  },
  {
   "cell_type": "code",
   "execution_count": 8,
   "id": "6c5f25f5",
   "metadata": {},
   "outputs": [],
   "source": [
    "y_true = [1,1,2,3,3]\n",
    "y_pred = [1,1,2,3,1]"
   ]
  },
  {
   "cell_type": "code",
   "execution_count": 9,
   "id": "0f1441a2",
   "metadata": {},
   "outputs": [
    {
     "data": {
      "text/plain": [
       "0.8"
      ]
     },
     "execution_count": 9,
     "metadata": {},
     "output_type": "execute_result"
    }
   ],
   "source": [
    "evaluation.accuracy(y_true, y_pred)"
   ]
  },
  {
   "cell_type": "code",
   "execution_count": null,
   "id": "c774bb83",
   "metadata": {},
   "outputs": [],
   "source": []
  },
  {
   "cell_type": "code",
   "execution_count": null,
   "id": "f587ce50",
   "metadata": {},
   "outputs": [],
   "source": []
  },
  {
   "cell_type": "code",
   "execution_count": null,
   "id": "a6bb0e03",
   "metadata": {},
   "outputs": [],
   "source": []
  },
  {
   "cell_type": "code",
   "execution_count": null,
   "id": "f5c28282",
   "metadata": {},
   "outputs": [],
   "source": []
  }
 ],
 "metadata": {
  "kernelspec": {
   "display_name": "Python 3 (ipykernel)",
   "language": "python",
   "name": "python3"
  },
  "language_info": {
   "codemirror_mode": {
    "name": "ipython",
    "version": 3
   },
   "file_extension": ".py",
   "mimetype": "text/x-python",
   "name": "python",
   "nbconvert_exporter": "python",
   "pygments_lexer": "ipython3",
   "version": "3.9.13"
  }
 },
 "nbformat": 4,
 "nbformat_minor": 5
}
