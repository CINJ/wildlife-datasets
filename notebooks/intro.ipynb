{
 "cells": [
  {
   "cell_type": "code",
   "execution_count": null,
   "metadata": {},
   "outputs": [],
   "source": [
    "%load_ext autoreload\n",
    "%autoreload 2"
   ]
  },
  {
   "cell_type": "code",
   "execution_count": null,
   "metadata": {},
   "outputs": [],
   "source": [
    "import os\n",
    "import sys\n",
    "sys.path.append('..')\n",
    "\n",
    "from wildlife_datasets import datasets, loader, analysis\n",
    "\n",
    "#root_dataset = '/mnt/data/turtles/datasets/datasets'\n",
    "#root_dataframe = '/mnt/data/turtles/datasets/dataframes'\n",
    "root_dataset = '../data'\n",
    "root_dataframe = '../data/_dataframes'\n",
    "\n",
    "#d = datasets.MacaqueFaces(os.path.join(root_dataset, 'MacaqueFaces'))\n",
    "d = datasets.SeaTurtleIDHeads(os.path.join(root_dataset, 'SeaTurtleIDHeads'))"
   ]
  },
  {
   "cell_type": "code",
   "execution_count": null,
   "metadata": {},
   "outputs": [],
   "source": [
    "d.df"
   ]
  },
  {
   "cell_type": "code",
   "execution_count": null,
   "metadata": {},
   "outputs": [],
   "source": [
    "os.path.sep"
   ]
  },
  {
   "cell_type": "code",
   "execution_count": null,
   "metadata": {},
   "outputs": [],
   "source": [
    "analysis.display_statistics(d.df)"
   ]
  },
  {
   "cell_type": "code",
   "execution_count": null,
   "metadata": {},
   "outputs": [],
   "source": [
    "analysis.get_image(os.path.join(root_dataset, d.__class__.__name__, d.df.iloc[100]['path']))"
   ]
  },
  {
   "cell_type": "code",
   "execution_count": null,
   "metadata": {},
   "outputs": [],
   "source": [
    "analysis.plot_grid(d.df, os.path.join(root_dataset, d.__class__.__name__), n_cols=4, n_rows=3)"
   ]
  },
  {
   "cell_type": "code",
   "execution_count": null,
   "metadata": {},
   "outputs": [],
   "source": [
    "analysis.plot_grid(d.df[d.df['orientation']=='left'], os.path.join(root_dataset, d.__class__.__name__), n_cols=4, n_rows=3)"
   ]
  },
  {
   "cell_type": "code",
   "execution_count": null,
   "metadata": {},
   "outputs": [],
   "source": [
    "analysis.plot_grid(d.df[(d.df['orientation']=='left') * (d.df['identity']=='t441')], os.path.join(root_dataset, d.__class__.__name__), n_cols=4, n_rows=3)"
   ]
  },
  {
   "cell_type": "code",
   "execution_count": null,
   "metadata": {},
   "outputs": [],
   "source": [
    "#years = pd.to_datetime(d.df['date']).dt.year\n",
    "\n",
    "analysis.plot_grid(d.df[(d.df['orientation']=='left') * (d.df['identity']=='t441') * (pd.to_datetime(d.df['date']).dt.year <= 2014)], os.path.join(root_dataset, d.__class__.__name__), n_cols=4, n_rows=3)"
   ]
  },
  {
   "cell_type": "code",
   "execution_count": null,
   "metadata": {},
   "outputs": [],
   "source": [
    "df.identity.value_counts()"
   ]
  },
  {
   "cell_type": "code",
   "execution_count": null,
   "metadata": {},
   "outputs": [],
   "source": [
    "for x,y in df.groupby('identity'):\n",
    "    print(x, pd.to_datetime(y.date).dt.year.unique())"
   ]
  }
 ],
 "metadata": {
  "kernelspec": {
   "display_name": "Python 3",
   "language": "python",
   "name": "python3"
  },
  "language_info": {
   "codemirror_mode": {
    "name": "ipython",
    "version": 3
   },
   "file_extension": ".py",
   "mimetype": "text/x-python",
   "name": "python",
   "nbconvert_exporter": "python",
   "pygments_lexer": "ipython3",
   "version": "3.12.0"
  }
 },
 "nbformat": 4,
 "nbformat_minor": 2
}
