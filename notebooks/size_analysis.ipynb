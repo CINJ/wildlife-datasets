{
 "cells": [
  {
   "cell_type": "code",
   "execution_count": 24,
   "id": "fa67a804",
   "metadata": {},
   "outputs": [],
   "source": [
    "import os\n",
    "import subprocess\n",
    "root = '/mnt/data/turtles/datasets/datasets'"
   ]
  },
  {
   "cell_type": "code",
   "execution_count": 28,
   "id": "9a7b6140",
   "metadata": {},
   "outputs": [],
   "source": [
    "file = os.listdir(root)[0]"
   ]
  },
  {
   "cell_type": "code",
   "execution_count": 38,
   "id": "20cb6a03",
   "metadata": {
    "scrolled": true
   },
   "outputs": [
    {
     "name": "stdout",
     "output_type": "stream",
     "text": [
      "Processing NDD20\n",
      "Processing ZindiTurtleRecall\n",
      "Processing SealID\n",
      "Processing Cows2021\n",
      "Processing FriesianCattle2015\n",
      "Processing NOAARightWhale\n",
      "Processing HyenaID2022\n",
      "Processing WhaleSharkID\n",
      "Processing GiraffeZebraID\n",
      "Processing AAUZebraFishID\n",
      "Processing FriesianCattle2017\n",
      "Processing BelugaID\n",
      "Processing ATRW\n",
      "Processing IPanda50\n",
      "Processing LionData\n",
      "Processing Giraffes\n",
      "Processing OpenCows2020\n",
      "Processing BristolGorillas2020\n",
      "Processing AerialCattle2017\n",
      "Processing MacaqueFaces\n",
      "Processing StripeSpotter\n",
      "Processing Drosophila\n",
      "Processing HumpbackWhaleID\n",
      "Processing HappyWhale\n",
      "Processing CTai\n",
      "Processing CZoo\n",
      "Processing NyalaData\n",
      "Processing LeopardID2022\n",
      "Processing BirdIndividualID\n",
      "Processing WNIGiraffes\n",
      "Processing SeaTurtleID\n",
      "Processing SMALST\n"
     ]
    }
   ],
   "source": [
    "data = {}\n",
    "for file in os.listdir(root):\n",
    "    print(f'Processing {file}')\n",
    "    path = os.path.join(root, file)\n",
    "    output = subprocess.check_output(['du','-sh', path])\n",
    "    data[file] = output.split()[0].decode('utf-8')"
   ]
  },
  {
   "cell_type": "code",
   "execution_count": 39,
   "id": "ae438540",
   "metadata": {},
   "outputs": [
    {
     "data": {
      "text/plain": [
       "{'NDD20': '3,8G',\n",
       " 'ZindiTurtleRecall': '11G',\n",
       " 'SealID': '4,0G',\n",
       " 'Cows2021': '29G',\n",
       " 'FriesianCattle2015': '191M',\n",
       " 'NOAARightWhale': '14G',\n",
       " 'HyenaID2022': '4,8G',\n",
       " 'WhaleSharkID': '9,0G',\n",
       " 'GiraffeZebraID': '14G',\n",
       " 'AAUZebraFishID': '16G',\n",
       " 'FriesianCattle2017': '619M',\n",
       " 'BelugaID': '1,9G',\n",
       " 'ATRW': '3,0G',\n",
       " 'IPanda50': '2,6G',\n",
       " 'LionData': '39M',\n",
       " 'Giraffes': '2,4G',\n",
       " 'OpenCows2020': '5,1G',\n",
       " 'BristolGorillas2020': '16G',\n",
       " 'AerialCattle2017': '3,7G',\n",
       " 'MacaqueFaces': '302M',\n",
       " 'StripeSpotter': '562M',\n",
       " 'Drosophila': '298G',\n",
       " 'HumpbackWhaleID': '14G',\n",
       " 'HappyWhale': '89G',\n",
       " 'CTai': '1,1G',\n",
       " 'CZoo': '659M',\n",
       " 'NyalaData': '972M',\n",
       " 'LeopardID2022': '12G',\n",
       " 'BirdIndividualID': '100G',\n",
       " 'WNIGiraffes': '254G',\n",
       " 'SeaTurtleID': '52G',\n",
       " 'SMALST': '14G'}"
      ]
     },
     "execution_count": 39,
     "metadata": {},
     "output_type": "execute_result"
    }
   ],
   "source": [
    "data"
   ]
  },
  {
   "cell_type": "code",
   "execution_count": 40,
   "id": "d8591b2a",
   "metadata": {},
   "outputs": [],
   "source": []
  },
  {
   "cell_type": "code",
   "execution_count": 68,
   "id": "5556e7ec",
   "metadata": {},
   "outputs": [],
   "source": [
    "import pandas as pd\n",
    "\n",
    "df = pd.Series(data)\n",
    "df = df.str.replace('G', '000')\n",
    "df = df.str.replace('M', '')\n",
    "df = df.str.replace(',', '')\n",
    "df = df.astype(int) / 1000\n",
    "df = df.sort_values(ascending=False)"
   ]
  },
  {
   "cell_type": "code",
   "execution_count": 69,
   "id": "559a5038",
   "metadata": {},
   "outputs": [
    {
     "data": {
      "text/plain": [
       "Drosophila             298.000\n",
       "WNIGiraffes            254.000\n",
       "BirdIndividualID       100.000\n",
       "WhaleSharkID            90.000\n",
       "HappyWhale              89.000\n",
       "SeaTurtleID             52.000\n",
       "OpenCows2020            51.000\n",
       "HyenaID2022             48.000\n",
       "SealID                  40.000\n",
       "NDD20                   38.000\n",
       "AerialCattle2017        37.000\n",
       "ATRW                    30.000\n",
       "Cows2021                29.000\n",
       "IPanda50                26.000\n",
       "Giraffes                24.000\n",
       "BelugaID                19.000\n",
       "BristolGorillas2020     16.000\n",
       "AAUZebraFishID          16.000\n",
       "NOAARightWhale          14.000\n",
       "GiraffeZebraID          14.000\n",
       "HumpbackWhaleID         14.000\n",
       "SMALST                  14.000\n",
       "LeopardID2022           12.000\n",
       "CTai                    11.000\n",
       "ZindiTurtleRecall       11.000\n",
       "NyalaData                0.972\n",
       "CZoo                     0.659\n",
       "FriesianCattle2017       0.619\n",
       "StripeSpotter            0.562\n",
       "MacaqueFaces             0.302\n",
       "FriesianCattle2015       0.191\n",
       "LionData                 0.039\n",
       "dtype: float64"
      ]
     },
     "execution_count": 69,
     "metadata": {},
     "output_type": "execute_result"
    }
   ],
   "source": [
    "df"
   ]
  },
  {
   "cell_type": "code",
   "execution_count": 61,
   "id": "7b5eddd8",
   "metadata": {},
   "outputs": [
    {
     "data": {
      "text/plain": [
       "<AxesSubplot:>"
      ]
     },
     "execution_count": 61,
     "metadata": {},
     "output_type": "execute_result"
    },
    {
     "data": {
      "image/png": "[encoded data removed]",
      "text/plain": [
       "<Figure size 432x288 with 1 Axes>"
      ]
     },
     "metadata": {
      "needs_background": "light"
     },
     "output_type": "display_data"
    }
   ],
   "source": [
    "df.sort_values().plot()"
   ]
  }
 ],
 "metadata": {
  "kernelspec": {
   "display_name": "Python 3",
   "language": "python",
   "name": "python3"
  },
  "language_info": {
   "codemirror_mode": {
    "name": "ipython",
    "version": 3
   },
   "file_extension": ".py",
   "mimetype": "text/x-python",
   "name": "python",
   "nbconvert_exporter": "python",
   "pygments_lexer": "ipython3",
   "version": "3.8.8"
  }
 },
 "nbformat": 4,
 "nbformat_minor": 5
}
