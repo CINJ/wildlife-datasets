{
 "cells": [
  {
   "cell_type": "code",
   "execution_count": null,
   "metadata": {},
   "outputs": [],
   "source": [
    "%load_ext autoreload\n",
    "%autoreload 2"
   ]
  },
  {
   "cell_type": "code",
   "execution_count": null,
   "metadata": {},
   "outputs": [],
   "source": [
    "import sys\n",
    "sys.path.append('../../wildlife-tools')\n",
    "sys.path.append('..')\n",
    "\n",
    "import timm\n",
    "import torch\n",
    "import torchvision.transforms as T\n",
    "import numpy as np\n",
    "import pandas as pd\n",
    "\n",
    "from wildlife_datasets import datasets, loader\n",
    "from wildlife_tools.data import WildlifeDataset\n",
    "from wildlife_tools.features import DeepFeatures\n",
    "from PIL import Image\n",
    "from urllib.request import urlopen"
   ]
  },
  {
   "cell_type": "code",
   "execution_count": null,
   "metadata": {},
   "outputs": [],
   "source": [
    "model = timm.create_model(\"hf-hub:BVRA/MegaDescriptor-L-384\", pretrained=True)\n",
    "model = model.eval()\n",
    "root_dataset = '../data/'\n",
    "root_dataframe = '../data/_dataframes/'"
   ]
  },
  {
   "cell_type": "code",
   "execution_count": null,
   "metadata": {},
   "outputs": [],
   "source": [
    "transform = T.Compose([T.Resize(size=(384, 384)),\n",
    "                              T.ToTensor(), \n",
    "                              T.Normalize([0.5, 0.5, 0.5], [0.5, 0.5, 0.5])]) "
   ]
  },
  {
   "cell_type": "code",
   "execution_count": null,
   "metadata": {},
   "outputs": [],
   "source": [
    "for d_name in datasets.names_all[11:]:\n",
    "    d = loader.load_dataset(d_name, root_dataset, root_dataframe)\n",
    "    if len(d.df) > 10000:\n",
    "        print(len(d.df), d)\n",
    "        with torch.no_grad():\n",
    "            dataset = WildlifeDataset(d.df, d.root, transform=transform)\n",
    "            extractor = DeepFeatures(model, device='cuda', batch_size=32)\n",
    "            output = extractor(dataset)\n",
    "            np.save(f'../data/_features/features_{d_name.__name__}.npy', output)"
   ]
  }
 ],
 "metadata": {
  "kernelspec": {
   "display_name": "venv_torch",
   "language": "python",
   "name": "python3"
  },
  "language_info": {
   "codemirror_mode": {
    "name": "ipython",
    "version": 3
   },
   "file_extension": ".py",
   "mimetype": "text/x-python",
   "name": "python",
   "nbconvert_exporter": "python",
   "pygments_lexer": "ipython3",
   "version": "3.12.0"
  }
 },
 "nbformat": 4,
 "nbformat_minor": 2
}
