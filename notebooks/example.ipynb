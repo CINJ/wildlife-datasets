{
 "cells": [
  {
   "cell_type": "code",
   "execution_count": 1,
   "metadata": {},
   "outputs": [
    {
     "name": "stderr",
     "output_type": "stream",
     "text": [
      "c:\\Users\\sadda\\Downloads\\Github\\wildlife-datasets\\venv_wt\\lib\\site-packages\\tqdm\\auto.py:21: TqdmWarning: IProgress not found. Please update jupyter and ipywidgets. See https://ipywidgets.readthedocs.io/en/stable/user_install.html\n",
      "  from .autonotebook import tqdm as notebook_tqdm\n"
     ]
    }
   ],
   "source": [
    "import sys\n",
    "sys.path.insert(0, '../../wildlife-tools')\n",
    "sys.path.insert(0, '..')\n",
    "\n",
    "import matplotlib.pyplot as plt\n",
    "import pandas as pd\n",
    "import torchvision.transforms as T\n",
    "import timm\n",
    "\n",
    "from wildlife_datasets import datasets\n",
    "from wildlife_tools.data import WildlifeDataset\n",
    "from wildlife_tools.features import DeepFeatures\n",
    "from wildlife_tools.similarity import CosineSimilarity\n",
    "from wildlife_tools.inference import KnnClassifier\n"
   ]
  },
  {
   "cell_type": "code",
   "execution_count": null,
   "metadata": {},
   "outputs": [],
   "source": []
  },
  {
   "cell_type": "code",
   "execution_count": 16,
   "metadata": {},
   "outputs": [
    {
     "name": "stdout",
     "output_type": "stream",
     "text": [
      "<class 'wildlife_datasets.datasets.datasets.Giraffes'>\n",
      "<class 'wildlife_datasets.datasets.datasets.HappyWhale'>\n",
      "<class 'wildlife_datasets.datasets.datasets.HumpbackWhaleID'>\n",
      "<class 'wildlife_datasets.datasets.datasets.NOAARightWhale'>\n",
      "<class 'wildlife_datasets.datasets.datasets.SarahZelvy'>\n",
      "<class 'wildlife_datasets.datasets.datasets.StripeSpotter'>\n",
      "<class 'wildlife_datasets.datasets.datasets.ZindiTurtleRecall'>\n"
     ]
    },
    {
     "data": {
      "text/plain": [
       "6612.0"
      ]
     },
     "execution_count": 16,
     "metadata": {},
     "output_type": "execute_result"
    }
   ],
   "source": [
    "qwe = 0\n",
    "for d_name in datasets.names_all:\n",
    "    try:\n",
    "        #print(d_name.__name__, int(d_name.metadata['reported_n_individuals']))\n",
    "        #d_name.metadata\n",
    "        qwe += d_name.metadata['reported_n_individuals']\n",
    "    except:\n",
    "        print(d_name)\n",
    "\n",
    "        pass\n",
    "qwe"
   ]
  },
  {
   "cell_type": "code",
   "execution_count": 14,
   "metadata": {},
   "outputs": [
    {
     "data": {
      "text/plain": [
       "{'url': 'https://www.kaggle.com/competitions/happy-whale-and-dolphin',\n",
       " 'cite': 'cheeseman2017happywhale',\n",
       " 'animals': {'dolphin', 'whale'},\n",
       " 'real_animals': True,\n",
       " 'year': 2022,\n",
       " 'wild': True,\n",
       " 'clear_photos': True,\n",
       " 'pose': 'multiple',\n",
       " 'unique_pattern': True,\n",
       " 'from_video': False,\n",
       " 'cropped': False,\n",
       " 'span': 'very long',\n",
       " 'size': 61912.0}"
      ]
     },
     "execution_count": 14,
     "metadata": {},
     "output_type": "execute_result"
    }
   ],
   "source": [
    "datasets.HappyWhale.metadata"
   ]
  },
  {
   "cell_type": "code",
   "execution_count": 5,
   "metadata": {},
   "outputs": [
    {
     "data": {
      "text/plain": [
       "{'url': 'ftp://pbil.univ-lyon1.fr/pub/datasets/miele2021',\n",
       " 'cite': 'miele2021revisiting',\n",
       " 'animals': {'giraffe'},\n",
       " 'real_animals': True,\n",
       " 'year': 2021,\n",
       " 'wild': True,\n",
       " 'clear_photos': True,\n",
       " 'pose': 'double',\n",
       " 'unique_pattern': True,\n",
       " 'from_video': True,\n",
       " 'cropped': True,\n",
       " 'span': 'unknown',\n",
       " 'size': 1719.0}"
      ]
     },
     "execution_count": 5,
     "metadata": {},
     "output_type": "execute_result"
    }
   ],
   "source": [
    "d_name.metadata"
   ]
  },
  {
   "cell_type": "code",
   "execution_count": null,
   "metadata": {},
   "outputs": [],
   "source": []
  },
  {
   "cell_type": "code",
   "execution_count": null,
   "metadata": {},
   "outputs": [],
   "source": []
  },
  {
   "cell_type": "code",
   "execution_count": null,
   "metadata": {},
   "outputs": [],
   "source": []
  },
  {
   "cell_type": "code",
   "execution_count": null,
   "metadata": {},
   "outputs": [],
   "source": []
  },
  {
   "cell_type": "code",
   "execution_count": null,
   "metadata": {},
   "outputs": [],
   "source": [
    "root = 'data/FriesianCattle2015'\n",
    "datasets.FriesianCattle2015.get_data(root)"
   ]
  },
  {
   "cell_type": "code",
   "execution_count": null,
   "metadata": {},
   "outputs": [],
   "source": [
    "d = datasets.FriesianCattle2015(root)\n",
    "dataset = WildlifeDataset(d.df, d.root)"
   ]
  },
  {
   "cell_type": "code",
   "execution_count": null,
   "metadata": {},
   "outputs": [],
   "source": [
    "dataset.plot_grid(n_cols=5);"
   ]
  },
  {
   "cell_type": "code",
   "execution_count": null,
   "metadata": {},
   "outputs": [],
   "source": [
    "dataset = WildlifeDataset(d.df, d.root, img_load='crop_black')\n",
    "dataset.plot_grid(n_cols=5);"
   ]
  },
  {
   "cell_type": "code",
   "execution_count": null,
   "metadata": {},
   "outputs": [],
   "source": [
    "plt.plot(dataset.metadata['identity'].value_counts().values)"
   ]
  },
  {
   "cell_type": "code",
   "execution_count": null,
   "metadata": {},
   "outputs": [],
   "source": [
    "# Show how various datasets were created - FriesianCattle2015 / Drosophila"
   ]
  },
  {
   "cell_type": "code",
   "execution_count": null,
   "metadata": {},
   "outputs": [],
   "source": [
    "model_name = 'hf-hub:BVRA/MegaDescriptor-T-224'\n",
    "model = timm.create_model(model_name, num_classes=0, pretrained=True)\n",
    "transform = T.Compose([T.Resize([224, 224]), T.ToTensor(), T.Normalize(mean=(0.485, 0.456, 0.406), std=(0.229, 0.224, 0.225))])\n",
    "extractor = DeepFeatures(model)"
   ]
  },
  {
   "cell_type": "code",
   "execution_count": null,
   "metadata": {},
   "outputs": [],
   "source": [
    "df1 = dataset.metadata[dataset.metadata['identity'] == 1]\n",
    "df2 = dataset.metadata[dataset.metadata['identity'] == 2]\n",
    "df_database = pd.concat((df1.iloc[2:], df2.iloc[2:]))\n",
    "df_query = pd.concat((df1.iloc[:2], df2.iloc[:2]))\n"
   ]
  },
  {
   "cell_type": "code",
   "execution_count": null,
   "metadata": {},
   "outputs": [],
   "source": [
    "d_database = WildlifeDataset(df_database, d.root, transform=transform, img_load='crop_black')\n",
    "d_query = WildlifeDataset(df_query, d.root, transform=transform, img_load='crop_black')"
   ]
  },
  {
   "cell_type": "code",
   "execution_count": null,
   "metadata": {},
   "outputs": [],
   "source": [
    "d_query.plot_grid(n_cols=5);"
   ]
  },
  {
   "cell_type": "code",
   "execution_count": null,
   "metadata": {},
   "outputs": [],
   "source": [
    "database = extractor(d_database)\n",
    "query = extractor(d_query)"
   ]
  },
  {
   "cell_type": "code",
   "execution_count": null,
   "metadata": {},
   "outputs": [],
   "source": [
    "query.shape"
   ]
  },
  {
   "cell_type": "code",
   "execution_count": null,
   "metadata": {},
   "outputs": [],
   "source": [
    "similarity_function = CosineSimilarity()\n",
    "similarity = similarity_function(query, database)['cosine']"
   ]
  },
  {
   "cell_type": "code",
   "execution_count": null,
   "metadata": {},
   "outputs": [],
   "source": [
    "similarity[:2,:]"
   ]
  },
  {
   "cell_type": "code",
   "execution_count": null,
   "metadata": {},
   "outputs": [],
   "source": [
    "similarity[2:,:]"
   ]
  },
  {
   "cell_type": "code",
   "execution_count": null,
   "metadata": {},
   "outputs": [],
   "source": [
    "classifier = KnnClassifier(k=1, database_labels=d_database.labels_string)\n",
    "predictions = classifier(similarity)\n",
    "predictions"
   ]
  },
  {
   "cell_type": "code",
   "execution_count": null,
   "metadata": {},
   "outputs": [],
   "source": [
    "idx = (-similarity).argsort(axis=-1)[:, :5]"
   ]
  },
  {
   "cell_type": "code",
   "execution_count": null,
   "metadata": {},
   "outputs": [],
   "source": [
    "idx_true = df_query.index\n",
    "idx_pred = df_database.index.to_numpy()[idx]\n",
    "\n",
    "dataset.plot_predictions(idx_true, idx_pred);"
   ]
  }
 ],
 "metadata": {
  "kernelspec": {
   "display_name": "venv_wt",
   "language": "python",
   "name": "python3"
  },
  "language_info": {
   "codemirror_mode": {
    "name": "ipython",
    "version": 3
   },
   "file_extension": ".py",
   "mimetype": "text/x-python",
   "name": "python",
   "nbconvert_exporter": "python",
   "pygments_lexer": "ipython3",
   "version": "3.10.11"
  }
 },
 "nbformat": 4,
 "nbformat_minor": 2
}
