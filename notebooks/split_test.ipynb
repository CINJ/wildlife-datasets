{
 "cells": [
  {
   "cell_type": "code",
   "execution_count": 1,
   "id": "c718ab5c",
   "metadata": {},
   "outputs": [],
   "source": [
    "%load_ext autoreload\n",
    "%autoreload 2"
   ]
  },
  {
   "cell_type": "code",
   "execution_count": 2,
   "id": "bf2f9ea1",
   "metadata": {},
   "outputs": [],
   "source": [
    "import sys\n",
    "sys.path.append('..')\n",
    "\n",
    "from wildlife_datasets import datasets\n",
    "from wildlife_datasets import utils\n",
    "\n",
    "# datasets.MacaqueFaces.download.get_data('data/MacaqueFaces')\n",
    "dataset = datasets.MacaqueFaces('data/MacaqueFaces')\n",
    "seed = 100"
   ]
  },
  {
   "cell_type": "code",
   "execution_count": 3,
   "id": "aefd3743",
   "metadata": {},
   "outputs": [],
   "source": [
    "def analyze_split(df, idx_train, idx_test):\n",
    "    ids_train = set(df.iloc[idx_train]['identity'])\n",
    "    ids_test = set(df.iloc[idx_test]['identity'])\n",
    "    ids_train_only = ids_train - ids_test\n",
    "    ids_test_only = ids_test - ids_train\n",
    "    \n",
    "    n = len(idx_train)+len(idx_test)\n",
    "    n_train = len(idx_train)\n",
    "    n_test_only = sum([sum(df['identity'] == ids) for ids in ids_test_only])    \n",
    "    \n",
    "    ratio_train = n_train / n    \n",
    "    ratio_test_only = n_test_only / n   \n",
    "    \n",
    "    print('Total individuals = %d' % len(ids_train.union(ids_test)))\n",
    "    print('Joint individuals = %d' % len(ids_train.intersection(ids_test)))\n",
    "    print('Only in train     = %d' % len(ids_train - ids_test))\n",
    "    print('Only in test      = %d' % len(ids_test - ids_train))\n",
    "    print('')    \n",
    "    print('Fraction of train set = %1.2f%%' % (100*ratio_train))\n",
    "    print('Fraction of test set only = %1.2f%%' % (100*ratio_test_only))"
   ]
  },
  {
   "cell_type": "markdown",
   "id": "2bab868b",
   "metadata": {},
   "source": [
    "# Closed-set split"
   ]
  },
  {
   "cell_type": "code",
   "execution_count": 4,
   "id": "2a141399",
   "metadata": {},
   "outputs": [
    {
     "name": "stdout",
     "output_type": "stream",
     "text": [
      "Total individuals = 34\n",
      "Joint individuals = 34\n",
      "Only in train     = 0\n",
      "Only in test      = 0\n",
      "\n",
      "Fraction of train set = 50.00%\n",
      "Fraction of test set only = 0.00%\n"
     ]
    }
   ],
   "source": [
    "splitter = utils.splits.Split(dataset.df, seed)\n",
    "idx_train, idx_test = splitter.closed_set_split(0.5)\n",
    "analyze_split(dataset.df, idx_train, idx_test)"
   ]
  },
  {
   "cell_type": "markdown",
   "id": "2419cea2",
   "metadata": {},
   "source": [
    "# Open-set split"
   ]
  },
  {
   "cell_type": "code",
   "execution_count": 5,
   "id": "cb18bdf2",
   "metadata": {},
   "outputs": [
    {
     "name": "stdout",
     "output_type": "stream",
     "text": [
      "Total individuals = 34\n",
      "Joint individuals = 31\n",
      "Only in train     = 0\n",
      "Only in test      = 3\n",
      "\n",
      "Fraction of train set = 49.92%\n",
      "Fraction of test set only = 8.92%\n"
     ]
    }
   ],
   "source": [
    "splitter = utils.splits.Split(dataset.df, seed)\n",
    "idx_train, idx_test = splitter.open_set_split(0.5, 0.1)\n",
    "analyze_split(dataset.df, idx_train, idx_test)"
   ]
  },
  {
   "cell_type": "markdown",
   "id": "06a6388a",
   "metadata": {},
   "source": [
    "# Disjoint split"
   ]
  },
  {
   "cell_type": "code",
   "execution_count": 6,
   "id": "dc03628f",
   "metadata": {},
   "outputs": [
    {
     "name": "stdout",
     "output_type": "stream",
     "text": [
      "Total individuals = 34\n",
      "Joint individuals = 0\n",
      "Only in train     = 17\n",
      "Only in test      = 17\n",
      "\n",
      "Fraction of train set = 50.32%\n",
      "Fraction of test set only = 49.68%\n"
     ]
    }
   ],
   "source": [
    "splitter = utils.splits.Split(dataset.df, seed)\n",
    "idx_train, idx_test = splitter.disjoint_set_split(0.5)\n",
    "analyze_split(dataset.df, idx_train, idx_test)"
   ]
  }
 ],
 "metadata": {
  "kernelspec": {
   "display_name": "Python 3",
   "language": "python",
   "name": "python3"
  },
  "language_info": {
   "codemirror_mode": {
    "name": "ipython",
    "version": 3
   },
   "file_extension": ".py",
   "mimetype": "text/x-python",
   "name": "python",
   "nbconvert_exporter": "python",
   "pygments_lexer": "ipython3",
   "version": "3.8.8"
  }
 },
 "nbformat": 4,
 "nbformat_minor": 5
}
