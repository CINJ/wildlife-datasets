{
 "cells": [
  {
   "cell_type": "code",
   "execution_count": null,
   "id": "c718ab5c",
   "metadata": {},
   "outputs": [],
   "source": [
    "%load_ext autoreload\n",
    "%autoreload 2"
   ]
  },
  {
   "cell_type": "code",
   "execution_count": null,
   "id": "bf2f9ea1",
   "metadata": {},
   "outputs": [],
   "source": [
    "import sys\n",
    "sys.path.append('..')\n",
    "\n",
    "from wildlife_datasets import datasets\n",
    "from wildlife_datasets.utils.splits import *\n",
    "\n",
    "# datasets.MacaqueFaces.download.get_data('data/MacaqueFaces')\n",
    "dataset = datasets.MacaqueFaces('data/MacaqueFaces')\n",
    "df = dataset.df.copy()\n",
    "\n",
    "# For testing purposes only\n",
    "df = df.iloc[4:]\n",
    "df['date'].iloc[:1000] = '2016-01-01'\n",
    "\n",
    "seed = 100"
   ]
  },
  {
   "cell_type": "code",
   "execution_count": null,
   "id": "aefd3743",
   "metadata": {},
   "outputs": [],
   "source": [
    "def analyze_split(df, idx_train, idx_test):\n",
    "    ids_train = set(df.loc[idx_train]['identity'])\n",
    "    ids_test = set(df.loc[idx_test]['identity'])\n",
    "    ids_train_only = ids_train - ids_test\n",
    "    ids_test_only = ids_test - ids_train\n",
    "    \n",
    "    n = len(idx_train)+len(idx_test)\n",
    "    n_train = len(idx_train)\n",
    "    n_test_only = sum([sum(df['identity'] == ids) for ids in ids_test_only])    \n",
    "    \n",
    "    ratio_train = n_train / n    \n",
    "    ratio_test_only = n_test_only / n   \n",
    "    \n",
    "    print('Total individuals = %d' % len(ids_train.union(ids_test)))\n",
    "    print('Joint individuals = %d' % len(ids_train.intersection(ids_test)))\n",
    "    print('Only in train     = %d' % len(ids_train - ids_test))\n",
    "    print('Only in test      = %d' % len(ids_test - ids_train))\n",
    "    print('')    \n",
    "    print('Fraction of train set = %1.2f%%' % (100*ratio_train))\n",
    "    print('Fraction of test set only = %1.2f%%' % (100*ratio_test_only))"
   ]
  },
  {
   "cell_type": "markdown",
   "id": "2bab868b",
   "metadata": {},
   "source": [
    "# Closed-set split"
   ]
  },
  {
   "cell_type": "code",
   "execution_count": null,
   "id": "2a141399",
   "metadata": {},
   "outputs": [],
   "source": [
    "splitter = ClosedSetSplit(df, seed)\n",
    "idx_train, idx_test = splitter.split(0.5)\n",
    "analyze_split(df, idx_train, idx_test)"
   ]
  },
  {
   "cell_type": "code",
   "execution_count": null,
   "id": "d7a49da0",
   "metadata": {},
   "outputs": [],
   "source": [
    "splitter = ReplicableRandomSplit(splitter=ClosedSetSplit, random_state=seed, ratio_train=0.5)\n",
    "splits = splitter.split(df.index.to_numpy(), df['identity'].to_numpy())\n",
    "for (idx_train, idx_test) in splits:\n",
    "    analyze_split(df, idx_train, idx_test)"
   ]
  },
  {
   "cell_type": "markdown",
   "id": "2419cea2",
   "metadata": {},
   "source": [
    "# Open-set split"
   ]
  },
  {
   "cell_type": "code",
   "execution_count": null,
   "id": "cb18bdf2",
   "metadata": {},
   "outputs": [],
   "source": [
    "splitter = OpenSetSplit(df, seed)\n",
    "idx_train, idx_test = splitter.split(0.5, 0.1)\n",
    "analyze_split(df, idx_train, idx_test)"
   ]
  },
  {
   "cell_type": "code",
   "execution_count": null,
   "id": "0a106561",
   "metadata": {},
   "outputs": [],
   "source": [
    "splitter = OpenSetSplit(df, seed)\n",
    "idx_train, idx_test = splitter.split(0.5, n_class_test=5)\n",
    "analyze_split(df, idx_train, idx_test)"
   ]
  },
  {
   "cell_type": "code",
   "execution_count": null,
   "id": "c3ae43cb",
   "metadata": {},
   "outputs": [],
   "source": [
    "splitter = ReplicableRandomSplit(splitter=OpenSetSplit, random_state=seed, ratio_train=0.5, ratio_class_test=0.1)\n",
    "splits = splitter.split(df.index.to_numpy(), df['identity'].to_numpy())\n",
    "for (idx_train, idx_test) in splits:\n",
    "    analyze_split(df, idx_train, idx_test)"
   ]
  },
  {
   "cell_type": "code",
   "execution_count": null,
   "id": "549e5d35",
   "metadata": {},
   "outputs": [],
   "source": [
    "splitter = ReplicableRandomSplit(splitter=OpenSetSplit, random_state=seed, ratio_train=0.5, n_class_test=5)\n",
    "splits = splitter.split(df.index.to_numpy(), df['identity'].to_numpy())\n",
    "for (idx_train, idx_test) in splits:\n",
    "    analyze_split(df, idx_train, idx_test)"
   ]
  },
  {
   "cell_type": "markdown",
   "id": "06a6388a",
   "metadata": {},
   "source": [
    "# Disjoint split"
   ]
  },
  {
   "cell_type": "code",
   "execution_count": null,
   "id": "dc03628f",
   "metadata": {},
   "outputs": [],
   "source": [
    "splitter = DisjointSetSplit(df, seed)\n",
    "idx_train, idx_test = splitter.split(0.5)\n",
    "analyze_split(df, idx_train, idx_test)"
   ]
  },
  {
   "cell_type": "code",
   "execution_count": null,
   "id": "9169b60b",
   "metadata": {},
   "outputs": [],
   "source": [
    "splitter = DisjointSetSplit(df, seed)\n",
    "idx_train, idx_test = splitter.split(n_class_test=10)\n",
    "analyze_split(df, idx_train, idx_test)"
   ]
  },
  {
   "cell_type": "code",
   "execution_count": null,
   "id": "60345c27",
   "metadata": {},
   "outputs": [],
   "source": [
    "splitter = ReplicableRandomSplit(splitter=DisjointSetSplit, random_state=seed, ratio_class_test=0.5)\n",
    "splits = splitter.split(df.index.to_numpy(), df['identity'].to_numpy())\n",
    "for (idx_train, idx_test) in splits:\n",
    "    analyze_split(df, idx_train, idx_test)"
   ]
  },
  {
   "cell_type": "code",
   "execution_count": null,
   "id": "4ceac8b1",
   "metadata": {},
   "outputs": [],
   "source": [
    "splitter = ReplicableRandomSplit(splitter=DisjointSetSplit, random_state=seed, n_class_test=10)\n",
    "splits = splitter.split(df.index.to_numpy(), df['identity'].to_numpy())\n",
    "for (idx_train, idx_test) in splits:\n",
    "    analyze_split(df, idx_train, idx_test)"
   ]
  },
  {
   "cell_type": "markdown",
   "id": "fa961acd",
   "metadata": {},
   "source": [
    "# Time-proportion splits"
   ]
  },
  {
   "cell_type": "code",
   "execution_count": null,
   "id": "c0396e8d",
   "metadata": {},
   "outputs": [],
   "source": [
    "#import datetime\n",
    "\n",
    "#df['date'] = df['date'].apply(lambda x: datetime.datetime.strptime(x[:10], '%Y-%m-%d'))"
   ]
  },
  {
   "cell_type": "code",
   "execution_count": null,
   "id": "7e30e4c8",
   "metadata": {},
   "outputs": [],
   "source": [
    "splitter = TimeProportionSplit(df, seed)\n",
    "idx_train, idx_test = splitter.split()\n",
    "analyze_split(df, idx_train, idx_test)"
   ]
  },
  {
   "cell_type": "code",
   "execution_count": null,
   "id": "86518fd6",
   "metadata": {},
   "outputs": [],
   "source": [
    "idx_train, idx_test = splitter.resplit_random(idx_train, idx_test)\n",
    "analyze_split(df, idx_train, idx_test)"
   ]
  },
  {
   "cell_type": "code",
   "execution_count": null,
   "id": "3d5dd982",
   "metadata": {},
   "outputs": [],
   "source": [
    "splitter = ReplicableRandomSplit(splitter=TimeProportionSplit, random_state=seed)\n",
    "splits = splitter.split(df.index.to_numpy(), df['identity'].to_numpy(), df['date'].to_numpy())\n",
    "for (idx_train, idx_test) in splits:\n",
    "    analyze_split(df, idx_train, idx_test)"
   ]
  },
  {
   "cell_type": "code",
   "execution_count": null,
   "id": "60fe2bc4",
   "metadata": {},
   "outputs": [],
   "source": [
    "splitter = ReplicableRandomSplit(splitter=TimeProportionSplit, random_state=seed, resplit=True)\n",
    "splits = splitter.split(df.index.to_numpy(), df['identity'].to_numpy(), df['date'].to_numpy())\n",
    "for (idx_train, idx_test) in splits:\n",
    "    analyze_split(df, idx_train, idx_test)"
   ]
  },
  {
   "cell_type": "markdown",
   "id": "9cde0e0b",
   "metadata": {},
   "source": [
    "# Time-cutoff split"
   ]
  },
  {
   "cell_type": "code",
   "execution_count": null,
   "id": "3ea2a551",
   "metadata": {},
   "outputs": [],
   "source": [
    "splitter = TimeCutoffSplit(df, seed)\n",
    "idx_train, idx_test = splitter.split(2015)\n",
    "analyze_split(df, idx_train, idx_test)"
   ]
  },
  {
   "cell_type": "code",
   "execution_count": null,
   "id": "950929d1",
   "metadata": {},
   "outputs": [],
   "source": [
    "idx_train, idx_test = splitter.resplit_random(idx_train, idx_test)\n",
    "analyze_split(df, idx_train, idx_test)"
   ]
  },
  {
   "cell_type": "code",
   "execution_count": null,
   "id": "0bde4e6a",
   "metadata": {},
   "outputs": [],
   "source": [
    "splitter = ReplicableRandomSplit(splitter=TimeCutoffSplit, random_state=seed)\n",
    "splits = splitter.split(df.index.to_numpy(), df['identity'].to_numpy(), df['date'].to_numpy())\n",
    "for (idx_train, idx_test) in splits:\n",
    "    analyze_split(df, idx_train, idx_test)"
   ]
  },
  {
   "cell_type": "code",
   "execution_count": null,
   "id": "7acfc0c5",
   "metadata": {},
   "outputs": [],
   "source": [
    "splitter = ReplicableRandomSplit(splitter=TimeCutoffSplit, random_state=seed, resplit=True)\n",
    "splits = splitter.split(df.index.to_numpy(), df['identity'].to_numpy(), df['date'].to_numpy())\n",
    "for (idx_train, idx_test) in splits:\n",
    "    analyze_split(df, idx_train, idx_test)"
   ]
  }
 ],
 "metadata": {
  "kernelspec": {
   "display_name": "Python 3",
   "language": "python",
   "name": "python3"
  },
  "language_info": {
   "codemirror_mode": {
    "name": "ipython",
    "version": 3
   },
   "file_extension": ".py",
   "mimetype": "text/x-python",
   "name": "python",
   "nbconvert_exporter": "python",
   "pygments_lexer": "ipython3",
   "version": "3.8.8"
  }
 },
 "nbformat": 4,
 "nbformat_minor": 5
}
