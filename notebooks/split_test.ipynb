{
 "cells": [
  {
   "cell_type": "code",
   "execution_count": null,
   "id": "c718ab5c",
   "metadata": {
    "scrolled": true
   },
   "outputs": [],
   "source": [
    "%load_ext autoreload\n",
    "%autoreload 2"
   ]
  },
  {
   "cell_type": "code",
   "execution_count": null,
   "id": "bf2f9ea1",
   "metadata": {
    "scrolled": true
   },
   "outputs": [],
   "source": [
    "import sys\n",
    "sys.path.append('..')\n",
    "\n",
    "from wildlife_datasets import datasets\n",
    "from wildlife_datasets.utils.splits import *\n",
    "\n",
    "# datasets.MacaqueFaces.download.get_data('data/MacaqueFaces')\n",
    "dataset = datasets.MacaqueFaces('data/MacaqueFaces')\n",
    "df = dataset.df.copy()\n",
    "\n",
    "# For testing purposes only\n",
    "df = df.iloc[4:]\n",
    "df['date'].iloc[:1000] = '2016-01-01'\n",
    "\n",
    "seed = 100"
   ]
  },
  {
   "cell_type": "code",
   "execution_count": null,
   "id": "aefd3743",
   "metadata": {
    "scrolled": true
   },
   "outputs": [],
   "source": [
    "def analyze_split(df, idx_train, idx_test):\n",
    "    ids_train = set(df.loc[idx_train]['identity'])\n",
    "    ids_test = set(df.loc[idx_test]['identity'])\n",
    "    ids_train_only = ids_train - ids_test\n",
    "    ids_test_only = ids_test - ids_train\n",
    "    \n",
    "    n = len(idx_train)+len(idx_test)\n",
    "    n_train = len(idx_train)\n",
    "    n_test_only = sum([sum(df['identity'] == ids) for ids in ids_test_only])    \n",
    "    \n",
    "    ratio_train = n_train / n    \n",
    "    ratio_test_only = n_test_only / n   \n",
    "    \n",
    "    print('Total individuals = %d' % len(ids_train.union(ids_test)))\n",
    "    print('Joint individuals = %d' % len(ids_train.intersection(ids_test)))\n",
    "    print('Only in train     = %d' % len(ids_train - ids_test))\n",
    "    print('Only in test      = %d' % len(ids_test - ids_train))\n",
    "    print('')    \n",
    "    print('Fraction of train set = %1.2f%%' % (100*ratio_train))\n",
    "    print('Fraction of test set only = %1.2f%%' % (100*ratio_test_only))"
   ]
  },
  {
   "cell_type": "markdown",
   "id": "2bab868b",
   "metadata": {},
   "source": [
    "# Closed-set split"
   ]
  },
  {
   "cell_type": "code",
   "execution_count": null,
   "id": "2a141399",
   "metadata": {
    "scrolled": true
   },
   "outputs": [],
   "source": [
    "splitter = ClosedSetSplit(df, seed)\n",
    "idx_train, idx_test = splitter.split(0.5)\n",
    "analyze_split(df, idx_train, idx_test)"
   ]
  },
  {
   "cell_type": "markdown",
   "id": "2419cea2",
   "metadata": {},
   "source": [
    "# Open-set split"
   ]
  },
  {
   "cell_type": "code",
   "execution_count": null,
   "id": "cb18bdf2",
   "metadata": {
    "scrolled": true
   },
   "outputs": [],
   "source": [
    "splitter = OpenSetSplit(df, seed)\n",
    "idx_train, idx_test = splitter.split(0.5, 0.1)\n",
    "analyze_split(df, idx_train, idx_test)"
   ]
  },
  {
   "cell_type": "code",
   "execution_count": null,
   "id": "0a106561",
   "metadata": {
    "scrolled": true
   },
   "outputs": [],
   "source": [
    "splitter = OpenSetSplit(df, seed)\n",
    "idx_train, idx_test = splitter.split(0.5, n_class_test=5)\n",
    "analyze_split(df, idx_train, idx_test)"
   ]
  },
  {
   "cell_type": "markdown",
   "id": "06a6388a",
   "metadata": {},
   "source": [
    "# Disjoint split"
   ]
  },
  {
   "cell_type": "code",
   "execution_count": null,
   "id": "dc03628f",
   "metadata": {
    "scrolled": true
   },
   "outputs": [],
   "source": [
    "splitter = DisjointSetSplit(df, seed)\n",
    "idx_train, idx_test = splitter.split(0.5)\n",
    "analyze_split(df, idx_train, idx_test)"
   ]
  },
  {
   "cell_type": "code",
   "execution_count": null,
   "id": "9169b60b",
   "metadata": {
    "scrolled": true
   },
   "outputs": [],
   "source": [
    "splitter = DisjointSetSplit(df, seed)\n",
    "idx_train, idx_test = splitter.split(n_class_test=10)\n",
    "analyze_split(df, idx_train, idx_test)"
   ]
  },
  {
   "cell_type": "markdown",
   "id": "fa961acd",
   "metadata": {},
   "source": [
    "# Time-proportion splits"
   ]
  },
  {
   "cell_type": "code",
   "execution_count": null,
   "id": "7e30e4c8",
   "metadata": {
    "scrolled": true
   },
   "outputs": [],
   "source": [
    "splitter = TimeProportionSplit(df, seed)\n",
    "idx_train, idx_test = splitter.split()\n",
    "analyze_split(df, idx_train, idx_test)"
   ]
  },
  {
   "cell_type": "code",
   "execution_count": null,
   "id": "86518fd6",
   "metadata": {
    "scrolled": true
   },
   "outputs": [],
   "source": [
    "idx_train, idx_test = splitter.resplit_random(idx_train, idx_test)\n",
    "analyze_split(df, idx_train, idx_test)"
   ]
  },
  {
   "cell_type": "markdown",
   "id": "9cde0e0b",
   "metadata": {},
   "source": [
    "# Time-cutoff split"
   ]
  },
  {
   "cell_type": "code",
   "execution_count": null,
   "id": "3ea2a551",
   "metadata": {
    "scrolled": true
   },
   "outputs": [],
   "source": [
    "splitter = TimeCutoffSplit(df, seed)\n",
    "idx_train, idx_test = splitter.split(2015)\n",
    "analyze_split(df, idx_train, idx_test)"
   ]
  },
  {
   "cell_type": "code",
   "execution_count": null,
   "id": "950929d1",
   "metadata": {
    "scrolled": true
   },
   "outputs": [],
   "source": [
    "idx_train, idx_test = splitter.resplit_random(idx_train, idx_test)\n",
    "analyze_split(df, idx_train, idx_test)"
   ]
  },
  {
   "cell_type": "code",
   "execution_count": null,
   "id": "19101388",
   "metadata": {
    "scrolled": true
   },
   "outputs": [],
   "source": [
    "splits = splitter.splits_all()[0]\n",
    "for (idx_train, idx_test) in splits:\n",
    "    analyze_split(df, idx_train, idx_test)"
   ]
  }
 ],
 "metadata": {
  "kernelspec": {
   "display_name": "Python 3",
   "language": "python",
   "name": "python3"
  },
  "language_info": {
   "codemirror_mode": {
    "name": "ipython",
    "version": 3
   },
   "file_extension": ".py",
   "mimetype": "text/x-python",
   "name": "python",
   "nbconvert_exporter": "python",
   "pygments_lexer": "ipython3",
   "version": "3.8.8"
  }
 },
 "nbformat": 4,
 "nbformat_minor": 5
}
