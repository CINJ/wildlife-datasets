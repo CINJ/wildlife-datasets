{
 "cells": [
  {
   "cell_type": "code",
   "execution_count": 1,
   "id": "c718ab5c",
   "metadata": {},
   "outputs": [],
   "source": [
    "%load_ext autoreload\n",
    "%autoreload 2"
   ]
  },
  {
   "cell_type": "code",
   "execution_count": 2,
   "id": "bf2f9ea1",
   "metadata": {},
   "outputs": [],
   "source": [
    "import sys\n",
    "sys.path.append('..')\n",
    "\n",
    "import os\n",
    "from analysis import info_datasets, unique_datasets_list, add_paths\n",
    "from datasets import DatasetFactory\n",
    "\n",
    "root_dataset = os.path.join('/mnt', 'data', 'turtles', 'datasets', 'datasets')\n",
    "root_dataframe = os.path.join('/mnt', 'data', 'turtles', 'datasets', 'dataframes')\n",
    "\n",
    "info_datasets = add_paths(info_datasets, root_dataset, root_dataframe)\n",
    "\n",
    "datasets = []\n",
    "for info_dataset in info_datasets:\n",
    "    dataset = info_dataset[0].from_file(info_dataset[2], info_dataset[3], **info_dataset[1])\n",
    "    datasets.append(dataset)"
   ]
  },
  {
   "cell_type": "code",
   "execution_count": 3,
   "id": "bb0e75d7",
   "metadata": {},
   "outputs": [],
   "source": [
    "import numpy as np\n",
    "from splits import Lcg, Split\n",
    "\n",
    "#df = methods[6].df\n",
    "df = datasets[2].df\n",
    "\n",
    "n = 100\n",
    "n_train = 80\n",
    "seed = 666\n",
    "split = Split(df, seed)\n",
    "df_train1, df_test1 = split.random_split(0.8)\n",
    "df_train2, df_test2 = split.closed_set_split(0.8)\n",
    "df_train3, df_test3 = split.semiopen_set_split(0.8, 0.05)\n",
    "df_train4, df_test4 = split.open_set_split(0.05)\n",
    "\n",
    "df_trains = [df_train1, df_train2, df_train3, df_train4]\n",
    "df_tests = [df_test1, df_test2, df_test3, df_test4]"
   ]
  },
  {
   "cell_type": "code",
   "execution_count": 4,
   "id": "b4e5b50d",
   "metadata": {},
   "outputs": [
    {
     "name": "stdout",
     "output_type": "stream",
     "text": [
      "0\n",
      "0\n",
      "0\n",
      "0\n"
     ]
    }
   ],
   "source": [
    "# Number of ignored (unknown) photos\n",
    "for df_train, df_test in zip(df_trains, df_tests):\n",
    "    print(len(df) - len(df_train) - len(df_test))"
   ]
  },
  {
   "cell_type": "code",
   "execution_count": 5,
   "id": "2a120ef6",
   "metadata": {},
   "outputs": [
    {
     "name": "stdout",
     "output_type": "stream",
     "text": [
      "4.0\n",
      "4.037209302325581\n",
      "3.967889908256881\n",
      "19.433962264150942\n"
     ]
    }
   ],
   "source": [
    "# Ratio of train/test size\n",
    "for df_train, df_test in zip(df_trains, df_tests):\n",
    "    print(len(df_train) / len(df_test))"
   ]
  },
  {
   "cell_type": "code",
   "execution_count": 6,
   "id": "f75217f4",
   "metadata": {},
   "outputs": [
    {
     "name": "stdout",
     "output_type": "stream",
     "text": [
      "0.0\n",
      "0.0\n",
      "0.041735918744228995\n",
      "0.048938134810710986\n"
     ]
    }
   ],
   "source": [
    "# Ratio of individuals only in the test size\n",
    "for df_train, df_test in zip(df_trains, df_tests):\n",
    "    df_train_id = df_train['identity'].unique()\n",
    "    df_test_id = df_test['identity'].unique()\n",
    "    n_test_only = 0\n",
    "    for identity in df_test_id:\n",
    "        if identity not in df_train_id:\n",
    "            n_test_only += sum(df['identity'] == identity)\n",
    "    print(n_test_only / (len(df_train)+len(df_test)))"
   ]
  },
  {
   "cell_type": "code",
   "execution_count": 7,
   "id": "6026e45e",
   "metadata": {},
   "outputs": [
    {
     "name": "stdout",
     "output_type": "stream",
     "text": [
      "[ 3.                 inf  3.          5.5         6.          3.8\n",
      "  2.14285714  6.2         4.5         6.          4.6         4.5\n",
      "  4.81818182  5.          2.25       13.         10.                 inf\n",
      "  4.         10.          5.5         3.4         4.5         4.\n",
      "  3.         21.          3.          2.5         9.          1.8\n",
      "  2.          3.4         3.5         9.          4.          4.\n",
      "  8.5         2.14285714  1.6         1.2         3.57142857  2.6\n",
      "  8.          2.8         2.33333333  3.          3.         12.\n",
      "  3.14285714  1.44444444         inf  2.25        5.         10.\n",
      "  3.          6.33333333 10.          3.66666667  4.5                inf\n",
      " 10.         23.          4.          2.          2.14285714  4.71428571\n",
      "  1.33333333         inf  6.5         5.8         7.5         6.\n",
      "  9.          4.          6.          2.5         2.66666667  1.75\n",
      "  2.66666667  3.8         1.6                inf  5.         11.\n",
      "  7.66666667  9.          2.66666667  2.33333333  5.4         2.47826087\n",
      "  3.22222222 10.         10.          7.66666667  5.5         4.33333333\n",
      " 15.          1.83333333         inf  3.4        10.          3.66666667\n",
      "  6.          3.20512821  4.90909091  4.46341463  3.40909091  3.62962963\n",
      "  4.25925926  3.93333333  4.09677419  4.6         4.09090909  2.2\n",
      " 14.          5.          3.          3.66666667  6.          3.33333333\n",
      "  2.          5.66666667  4.11111111  2.33333333  2.33333333  2.66666667\n",
      "  6.2         2.66666667  2.66666667  9.          4.5         4.\n",
      "  1.85714286  7.5         8.          9.          3.8         6.33333333\n",
      "  9.          4.5         2.         10.          1.2         9.\n",
      "  2.5         6.          4.5         1.2         2.5         3.8\n",
      "         inf  5.         11.          7.66666667  5.66666667  3.9\n",
      "  4.05263158  5.16666667  6.33333333  1.66666667  3.55555556  2.28571429\n",
      "  3.          2.          5.16666667  2.          5.          2.5\n",
      "  4.          5.66666667  2.84615385 15.         13.          3.66666667\n",
      "         inf  6.6         4.75        2.85714286  2.91666667  3.66666667\n",
      "  7.          2.25      ]\n",
      "[10 12 11 11 28 20 10 10 26]\n",
      "[5.         4.         4.         4.2        3.66666667 3.8\n",
      " 4.5        4.14285714 4.5        3.66666667 3.66666667 3.88888889\n",
      " 3.92307692 4.25       4.2        3.66666667 4.5        5.\n",
      " 4.         4.5        3.33333333 4.5        4.5        4.\n",
      " 4.         4.5        5.         3.66666667 4.         3.66666667\n",
      " 5.         4.5        4.14285714 4.         4.         4.\n",
      " 3.75       4.5        3.33333333 4.5        4.33333333 4.14285714\n",
      " 3.5        3.75       4.         5.         3.8        3.33333333\n",
      " 3.83333333 4.5        4.5        3.33333333 3.8        4.5\n",
      " 5.         4.5        4.5        4.25       4.5        4.5\n",
      " 4.5        3.8        4.         5.         4.5        4.\n",
      " 4.25       3.66666667 4.         3.85714286 4.66666667 3.66666667\n",
      " 4.         4.         3.66666667 3.66666667 4.5        4.5\n",
      " 4.5        3.8        4.2        4.         5.         5.\n",
      " 4.2        4.         4.5        4.         4.33333333 4.\n",
      " 3.75       3.88888889 4.5        4.2        3.33333333 3.8\n",
      " 4.33333333 3.85714286 4.         4.5        4.5        3.9\n",
      " 3.9        3.96969697 4.         3.97777778 4.10526316 4.\n",
      " 4.07142857 3.93333333 3.9375     3.66666667 4.09090909 4.33333333\n",
      " 4.         3.8        4.         3.66666667 3.66666667 4.2\n",
      " 5.         4.         4.11111111 4.         4.         4.5\n",
      " 4.14285714 4.5        4.5        4.         4.5        4.\n",
      " 4.         4.66666667 3.5        4.         3.8        4.5\n",
      " 4.         4.5        5.         4.5        4.5        4.\n",
      " 3.66666667 3.66666667 4.5        4.5        3.66666667 3.8\n",
      " 4.         5.         5.         4.2        4.         3.9\n",
      " 4.05263158 4.28571429 4.5        4.33333333 4.125      3.6\n",
      " 3.8        3.71428571 4.28571429 3.5        5.         3.66666667\n",
      " 4.         4.         4.         4.33333333 3.66666667 4.\n",
      " 4.2        3.75       3.6        4.4        3.94736842 3.66666667\n",
      " 4.33333333 3.33333333]\n",
      "[]\n",
      "[5.         4.         5.66666667 5.5        6.         5.\n",
      " 0.         5.         4.5        6.         4.6        5.28571429\n",
      " 4.81818182 5.         5.5        6.         4.5        5.\n",
      " 4.         4.5        5.5        4.5        4.5        4.\n",
      " 5.66666667 4.5        5.         6.         4.         6.\n",
      " 5.         4.5        5.         5.66666667 4.         5.66666667\n",
      " 5.33333333 4.5        5.5        4.5        5.4        5.\n",
      " 5.         5.33333333 4.         5.         5.         5.5\n",
      " 4.8        4.5        4.5        5.5        5.         4.5\n",
      " 5.         4.5        4.5        5.         4.5        4.5\n",
      " 4.5        5.         4.         5.         4.5        4.71428571\n",
      " 6.         4.6        5.         4.66666667 4.66666667 6.\n",
      " 4.         5.25       4.6        6.         4.5        4.5\n",
      " 4.5        5.         5.5        5.66666667 0.         5.\n",
      " 5.5        4.         4.5        4.         5.4        5.15384615\n",
      " 5.33333333 5.28571429 4.5        5.5        5.5        5.\n",
      " 4.33333333 4.66666667 4.         4.5        4.5        5.125\n",
      " 5.125      5.07407407 5.19047619 5.05405405 5.0625     5.09756098\n",
      " 5.17391304 5.16666667 0.         4.6        5.22222222 4.33333333\n",
      " 5.         5.         5.66666667 6.         6.         5.5\n",
      " 5.         5.66666667 4.75       5.66666667 4.         4.5\n",
      " 5.         4.5        4.5        4.         4.5        4.\n",
      " 5.66666667 4.66666667 5.         5.66666667 5.         4.5\n",
      " 4.         4.5        5.         4.5        4.5        4.\n",
      " 6.         4.6        4.5        4.5        6.         0.\n",
      " 0.         5.         5.         5.5        5.66666667 5.125\n",
      " 5.         5.16666667 4.5        4.33333333 4.85714286 4.75\n",
      " 5.         5.6        5.16666667 5.         5.         6.\n",
      " 6.5        5.66666667 5.25       4.33333333 4.6        4.83333333\n",
      " 5.5        5.33333333 4.75       5.75       4.875      6.\n",
      " 4.33333333 5.5       ]\n",
      "[]\n",
      "[inf inf inf inf inf inf inf inf inf inf inf inf inf inf inf inf inf inf\n",
      "  0. inf inf inf inf inf inf inf inf inf inf inf inf inf inf inf inf inf\n",
      " inf inf inf inf inf inf inf inf inf inf inf inf inf inf inf inf inf  0.\n",
      " inf inf inf inf inf inf inf  0. inf inf inf inf inf inf inf  0.  0. inf\n",
      " inf  0. inf inf inf  0. inf inf inf inf inf inf inf inf inf inf inf inf\n",
      " inf inf inf inf inf  0. inf inf inf inf inf inf inf inf inf inf inf inf\n",
      " inf inf inf inf inf inf inf inf inf inf inf inf inf inf inf inf inf inf\n",
      " inf inf inf inf inf inf inf inf inf inf inf inf  0. inf inf inf inf inf\n",
      " inf inf inf inf inf inf inf inf inf inf inf inf inf inf inf inf inf inf\n",
      " inf inf inf inf inf inf inf inf  0. inf inf inf inf inf inf inf inf inf\n",
      " inf inf]\n",
      "[ 12  10  20  26  14  48  22  36  11  14  28  44  64  42  26  14  11  12\n",
      "  11  13  22  11  10  20  22  12  14  10  14  12  22  72  20  10  20  19\n",
      "  22  13  11  32  36  18  19  10  12  24  13  58  22  11  13  24  12  22\n",
      "  11  42  11  11  11  10  12  22  40  21  28  30  14  10  28  14  11  22\n",
      "  24  26  20  12  12  26  10  11  10  32  80  38  44  11  26  13  16  34\n",
      "  10  22  11  98  49 164 130 224  97 250 142  74 158  28  56  16  30  48\n",
      "  20  14  14  26  12  20  46  20  10  22  36  22  22  10  11  10  20  17\n",
      "  18  20  24  22  22  12  11  22  10  14  28  11  11  14  24  10  12  12\n",
      "  26  20  98  96  37  22  16  41  23  48  33  37  18  12  14  15  20  16\n",
      "  28  70  26  38  23  27  94  14  16  13]\n"
     ]
    },
    {
     "name": "stderr",
     "output_type": "stream",
     "text": [
      "/mnt/appl/software/SciPy-bundle/2020.11-fosscuda-2020b/lib/python3.8/site-packages/numpy/lib/arraysetops.py:576: FutureWarning: elementwise comparison failed; returning scalar instead, but in the future will perform elementwise comparison\n",
      "  mask &= (ar1 != a)\n",
      "<ipython-input-7-d6379ad901df>:6: RuntimeWarning: divide by zero encountered in true_divide\n",
      "  ratio = np.array([sum(df_train.identity == k) for k in identities]) / np.array([sum(df_test.identity == k) for k in identities])\n",
      "<ipython-input-7-d6379ad901df>:6: RuntimeWarning: divide by zero encountered in true_divide\n",
      "  ratio = np.array([sum(df_train.identity == k) for k in identities]) / np.array([sum(df_test.identity == k) for k in identities])\n"
     ]
    }
   ],
   "source": [
    "# Ratio of train/test size within all individials\n",
    "identities = df['identity'].unique()\n",
    "identities = np.setdiff1d(identities, 'unknown')\n",
    "\n",
    "for df_train, df_test in zip(df_trains, df_tests):\n",
    "    ratio = np.array([sum(df_train.identity == k) for k in identities]) / np.array([sum(df_test.identity == k) for k in identities])\n",
    "    print(ratio)\n",
    "    failed_counts = []\n",
    "    for k in np.where(ratio == np.inf)[0]:\n",
    "        failed_counts.append(sum(df.identity == identities[k]))\n",
    "    print(np.array(failed_counts))"
   ]
  }
 ],
 "metadata": {
  "kernelspec": {
   "display_name": "Python 3",
   "language": "python",
   "name": "python3"
  },
  "language_info": {
   "codemirror_mode": {
    "name": "ipython",
    "version": 3
   },
   "file_extension": ".py",
   "mimetype": "text/x-python",
   "name": "python",
   "nbconvert_exporter": "python",
   "pygments_lexer": "ipython3",
   "version": "3.8.8"
  }
 },
 "nbformat": 4,
 "nbformat_minor": 5
}
