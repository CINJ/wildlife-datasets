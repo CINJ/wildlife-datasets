{
 "cells": [
  {
   "cell_type": "code",
   "execution_count": null,
   "id": "c718ab5c",
   "metadata": {
    "scrolled": true
   },
   "outputs": [],
   "source": [
    "%load_ext autoreload\n",
    "%autoreload 2"
   ]
  },
  {
   "cell_type": "code",
   "execution_count": null,
   "id": "bf2f9ea1",
   "metadata": {
    "scrolled": true
   },
   "outputs": [],
   "source": [
    "import sys\n",
    "sys.path.append('..')\n",
    "\n",
    "from wildlife_datasets import datasets, loader, splits\n",
    "\n",
    "# datasets.MacaqueFaces.download.get_data('data/MacaqueFaces')\n",
    "dataset = datasets.MacaqueFaces('data/MacaqueFaces')\n",
    "df = dataset.df.copy()\n",
    "\n",
    "# For testing purposes only\n",
    "df = df.iloc[4:]\n",
    "df['date'].iloc[:1000] = '2016-01-01'"
   ]
  },
  {
   "cell_type": "markdown",
   "id": "2bab868b",
   "metadata": {},
   "source": [
    "# Closed-set split"
   ]
  },
  {
   "cell_type": "code",
   "execution_count": null,
   "id": "2a141399",
   "metadata": {
    "scrolled": true
   },
   "outputs": [],
   "source": [
    "splitter = splits.ClosedSetSplit(0.5)\n",
    "idx_train, idx_test = splitter.split(df)[0]\n",
    "splits.analyze_split(df, idx_train, idx_test)"
   ]
  },
  {
   "cell_type": "markdown",
   "id": "2419cea2",
   "metadata": {},
   "source": [
    "# Open-set split"
   ]
  },
  {
   "cell_type": "code",
   "execution_count": null,
   "id": "cb18bdf2",
   "metadata": {
    "scrolled": true
   },
   "outputs": [],
   "source": [
    "splitter = splits.OpenSetSplit(0.5, 0.1)\n",
    "idx_train, idx_test = splitter.split(df)[0]\n",
    "splits.analyze_split(df, idx_train, idx_test)"
   ]
  },
  {
   "cell_type": "code",
   "execution_count": null,
   "id": "0a106561",
   "metadata": {
    "scrolled": true
   },
   "outputs": [],
   "source": [
    "splitter = splits.OpenSetSplit(0.5, n_class_test=5)\n",
    "idx_train, idx_test = splitter.split(df)[0]\n",
    "splits.analyze_split(df, idx_train, idx_test)"
   ]
  },
  {
   "cell_type": "markdown",
   "id": "06a6388a",
   "metadata": {},
   "source": [
    "# Disjoint split"
   ]
  },
  {
   "cell_type": "code",
   "execution_count": null,
   "id": "dc03628f",
   "metadata": {
    "scrolled": true
   },
   "outputs": [],
   "source": [
    "splitter = splits.DisjointSetSplit(0.5)\n",
    "idx_train, idx_test = splitter.split(df)[0]\n",
    "splits.analyze_split(df, idx_train, idx_test)"
   ]
  },
  {
   "cell_type": "code",
   "execution_count": null,
   "id": "9169b60b",
   "metadata": {
    "scrolled": true
   },
   "outputs": [],
   "source": [
    "splitter = splits.DisjointSetSplit(n_class_test=10)\n",
    "idx_train, idx_test = splitter.split(df)[0]\n",
    "splits.analyze_split(df, idx_train, idx_test)"
   ]
  },
  {
   "cell_type": "markdown",
   "id": "fa961acd",
   "metadata": {},
   "source": [
    "# Time-proportion splits"
   ]
  },
  {
   "cell_type": "code",
   "execution_count": null,
   "id": "7e30e4c8",
   "metadata": {
    "scrolled": true
   },
   "outputs": [],
   "source": [
    "splitter = splits.TimeProportionSplit()\n",
    "idx_train, idx_test = splitter.split(df)[0]\n",
    "splits.analyze_split(df, idx_train, idx_test)"
   ]
  },
  {
   "cell_type": "code",
   "execution_count": null,
   "id": "86518fd6",
   "metadata": {
    "scrolled": true
   },
   "outputs": [],
   "source": [
    "idx_train, idx_test = splitter.resplit_random(df, idx_train, idx_test)\n",
    "splits.analyze_split(df, idx_train, idx_test)"
   ]
  },
  {
   "cell_type": "code",
   "execution_count": null,
   "metadata": {},
   "outputs": [],
   "source": [
    "splitter = splits.RandomProportion()\n",
    "idx_train, idx_test = splitter.split(df)[0]\n",
    "splits.analyze_split(df, idx_train, idx_test)"
   ]
  },
  {
   "cell_type": "markdown",
   "id": "9cde0e0b",
   "metadata": {},
   "source": [
    "# Time-cutoff split"
   ]
  },
  {
   "cell_type": "code",
   "execution_count": null,
   "id": "3ea2a551",
   "metadata": {
    "scrolled": true
   },
   "outputs": [],
   "source": [
    "splitter = splits.TimeCutoffSplit(2015)\n",
    "idx_train, idx_test = splitter.split(df)[0]\n",
    "splits.analyze_split(df, idx_train, idx_test)"
   ]
  },
  {
   "cell_type": "code",
   "execution_count": null,
   "id": "950929d1",
   "metadata": {
    "scrolled": false
   },
   "outputs": [],
   "source": [
    "idx_train, idx_test = splitter.resplit_random(df, idx_train, idx_test)\n",
    "splits.analyze_split(df, idx_train, idx_test)"
   ]
  }
 ],
 "metadata": {
  "kernelspec": {
   "display_name": "Python 3 (ipykernel)",
   "language": "python",
   "name": "python3"
  },
  "language_info": {
   "codemirror_mode": {
    "name": "ipython",
    "version": 3
   },
   "file_extension": ".py",
   "mimetype": "text/x-python",
   "name": "python",
   "nbconvert_exporter": "python",
   "pygments_lexer": "ipython3",
   "version": "3.12.0"
  }
 },
 "nbformat": 4,
 "nbformat_minor": 5
}
