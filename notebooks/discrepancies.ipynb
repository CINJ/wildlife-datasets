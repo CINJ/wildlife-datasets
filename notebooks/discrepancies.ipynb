{
 "cells": [
  {
   "cell_type": "code",
   "execution_count": 1,
   "id": "5c7438ea",
   "metadata": {},
   "outputs": [],
   "source": [
    "%load_ext autoreload\n",
    "%autoreload 2"
   ]
  },
  {
   "cell_type": "code",
   "execution_count": 2,
   "id": "1350ab38",
   "metadata": {},
   "outputs": [],
   "source": [
    "import sys\n",
    "sys.path.append('..')\n",
    "\n",
    "from wildlife_datasets import utils\n",
    "from wildlife_datasets import datasets\n",
    "\n",
    "root_dataset = '/mnt/data/turtles/datasets/datasets'\n",
    "root_dataframe = '/mnt/data/turtles/datasets/dataframes'\n",
    "\n",
    "dataset_names = [dataset_name for dataset_name in datasets.dataset_names]\n",
    "#dataset_names = [dataset_name for dataset_name in datasets.dataset_names if 'Segmented' not in dataset_name.__name__]\n",
    "\n",
    "datasets = utils.loader.load_datasets(dataset_names, root_dataset, root_dataframe)"
   ]
  },
  {
   "cell_type": "code",
   "execution_count": 3,
   "id": "2d6bca80",
   "metadata": {},
   "outputs": [],
   "source": [
    "def print_discrepancies(dataset):\n",
    "    df = dataset.df\n",
    "    metadata = dataset.metadata\n",
    "    keys = metadata.keys()\n",
    "    \n",
    "    if 'reported_n_total' in keys:\n",
    "        val1 = metadata['reported_n_total']\n",
    "        val2 = len(df)\n",
    "        error_msg = 'Different number of entries'\n",
    "        check_equality(val1, val2, error_msg, dataset)\n",
    "\n",
    "    if 'reported_n_identified' in keys:\n",
    "        val1 = metadata['reported_n_identified']\n",
    "        val2 = len(df[df['identity'] != 'unknown'])\n",
    "        error_msg = 'Different number of identified entries'\n",
    "        check_equality(val1, val2, error_msg, dataset)            \n",
    "\n",
    "    if 'reported_n_photos' in keys:\n",
    "        val1 = metadata['reported_n_photos']\n",
    "        val2 = len(df['path'].unique())\n",
    "        error_msg = 'Different number of photos'\n",
    "        check_equality(val1, val2, error_msg, dataset)            \n",
    "\n",
    "    if 'reported_n_individuals' in keys:\n",
    "        val1 = metadata['reported_n_individuals']\n",
    "        val2 = len(df['identity'].unique())\n",
    "        if 'unknown' in list(df['identity'].unique()):\n",
    "            val2 -= 1\n",
    "        error_msg = 'Different number of individuals'\n",
    "        check_equality(val1, val2, error_msg, dataset)            \n",
    "\n",
    "def check_equality(val1, val2, error_msg, dataset):\n",
    "    if val1 is not None and val1 != val2:\n",
    "        print('%s. %s. Reported = %d. Observed = %d.' % (dataset.__class__.__name__, error_msg, val1, val2))"
   ]
  },
  {
   "cell_type": "code",
   "execution_count": 4,
   "id": "9e0bf0ca",
   "metadata": {},
   "outputs": [
    {
     "name": "stdout",
     "output_type": "stream",
     "text": [
      "ATRW. Different number of entries. Reported = 9496. Observed = 5415.\n",
      "ATRW. Different number of identified entries. Reported = 3649. Observed = 5415.\n",
      "ATRW. Different number of photos. Reported = 8076. Observed = 5302.\n",
      "ATRW. Different number of individuals. Reported = 92. Observed = 182.\n",
      "BirdIndividualID. Different number of entries. Reported = 50643. Observed = 52434.\n",
      "BirdIndividualID. Different number of identified entries. Reported = 50643. Observed = 51934.\n",
      "BirdIndividualID. Different number of photos. Reported = 50643. Observed = 52434.\n",
      "BirdIndividualIDSegmented. Different number of entries. Reported = 50643. Observed = 52774.\n",
      "BirdIndividualIDSegmented. Different number of identified entries. Reported = 50643. Observed = 52274.\n",
      "BirdIndividualIDSegmented. Different number of photos. Reported = 50643. Observed = 52774.\n",
      "CTai. Different number of identified entries. Reported = 5078. Observed = 4662.\n",
      "CTai. Different number of individuals. Reported = 78. Observed = 71.\n",
      "Cows2021. Different number of entries. Reported = 13784. Observed = 8670.\n",
      "Cows2021. Different number of identified entries. Reported = 13784. Observed = 8670.\n",
      "Cows2021. Different number of photos. Reported = 13784. Observed = 8670.\n",
      "Drosophila. Different number of entries. Reported = 2592000. Observed = 2591820.\n",
      "Drosophila. Different number of identified entries. Reported = 2592000. Observed = 2591700.\n",
      "Drosophila. Different number of photos. Reported = 2592000. Observed = 2591820.\n",
      "LeopardID2022. Different number of identified entries. Reported = 6805. Observed = 6806.\n",
      "LionData. Different number of entries. Reported = 750. Observed = 740.\n",
      "LionData. Different number of identified entries. Reported = 750. Observed = 740.\n",
      "LionData. Different number of photos. Reported = 750. Observed = 740.\n",
      "LionData. Different number of individuals. Reported = 98. Observed = 94.\n",
      "MacaqueFaces. Different number of entries. Reported = 6460. Observed = 6280.\n",
      "MacaqueFaces. Different number of identified entries. Reported = 6460. Observed = 6280.\n",
      "MacaqueFaces. Different number of photos. Reported = 6460. Observed = 6280.\n",
      "NyalaData. Different number of entries. Reported = 1934. Observed = 1942.\n",
      "NyalaData. Different number of identified entries. Reported = 1934. Observed = 1942.\n",
      "NyalaData. Different number of photos. Reported = 1934. Observed = 1942.\n",
      "NyalaData. Different number of individuals. Reported = 274. Observed = 237.\n"
     ]
    }
   ],
   "source": [
    "for dataset in datasets:\n",
    "    print_discrepancies(dataset)"
   ]
  },
  {
   "cell_type": "markdown",
   "id": "8fd880e7",
   "metadata": {},
   "source": [
    "- ATRW - ???.\n",
    "- BirdIndividualID - ???.\n",
    "- CTai - OK. I believe that the 'Adult identity is a mistake. CHECK!\n",
    "- Cows2021 - OK. We contacted the authors.\n",
    "- Drosophila - OK. Few images had different structure. We ignored them.\n",
    "- LeopardID2022 - ???.\n",
    "- LionData - OK.\n",
    "- MacaqueFaces - OK. In the paper they write that it is slightly less (not enough photos for some individuals).\n",
    "- NyalaData - OK."
   ]
  }
 ],
 "metadata": {
  "kernelspec": {
   "display_name": "Python 3",
   "language": "python",
   "name": "python3"
  },
  "language_info": {
   "codemirror_mode": {
    "name": "ipython",
    "version": 3
   },
   "file_extension": ".py",
   "mimetype": "text/x-python",
   "name": "python",
   "nbconvert_exporter": "python",
   "pygments_lexer": "ipython3",
   "version": "3.8.8"
  }
 },
 "nbformat": 4,
 "nbformat_minor": 5
}
