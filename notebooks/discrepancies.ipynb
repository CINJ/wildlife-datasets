{
 "cells": [
  {
   "cell_type": "code",
   "execution_count": null,
   "id": "5c7438ea",
   "metadata": {},
   "outputs": [],
   "source": [
    "%load_ext autoreload\n",
    "%autoreload 2"
   ]
  },
  {
   "cell_type": "code",
   "execution_count": null,
   "id": "1350ab38",
   "metadata": {},
   "outputs": [],
   "source": [
    "import sys\n",
    "sys.path.append('..')\n",
    "\n",
    "from wildlife_datasets import datasets, loader\n",
    "\n",
    "root_dataset = '/mnt/data/turtles/datasets/datasets'\n",
    "root_dataframe = '/mnt/data/turtles/datasets/dataframes'\n",
    "\n",
    "dataset_names = [dataset_name for dataset_name in datasets.names_all]\n",
    "\n",
    "ds = loader.load_datasets(dataset_names, root_dataset, root_dataframe)"
   ]
  },
  {
   "cell_type": "code",
   "execution_count": null,
   "id": "2d6bca80",
   "metadata": {},
   "outputs": [],
   "source": [
    "def print_discrepancies(d):\n",
    "    df = d.df\n",
    "    metadata = d.metadata\n",
    "    keys = metadata.keys()\n",
    "    \n",
    "    if 'reported_n_total' in keys:\n",
    "        val1 = metadata['reported_n_total']\n",
    "        val2 = len(df)\n",
    "        error_msg = 'Different number of entries'\n",
    "        check_equality(val1, val2, error_msg, d)\n",
    "\n",
    "    if 'reported_n_identified' in keys:\n",
    "        val1 = metadata['reported_n_identified']\n",
    "        val2 = len(df[df['identity'] != 'unknown'])\n",
    "        error_msg = 'Different number of identified entries'\n",
    "        check_equality(val1, val2, error_msg, d)            \n",
    "\n",
    "    if 'reported_n_photos' in keys:\n",
    "        val1 = metadata['reported_n_photos']\n",
    "        val2 = len(df['path'].unique())\n",
    "        error_msg = 'Different number of photos'\n",
    "        check_equality(val1, val2, error_msg, d)            \n",
    "\n",
    "    if 'reported_n_individuals' in keys:\n",
    "        val1 = metadata['reported_n_individuals']\n",
    "        val2 = len(df['identity'].unique())\n",
    "        if 'unknown' in list(df['identity'].unique()):\n",
    "            val2 -= 1\n",
    "        error_msg = 'Different number of d'\n",
    "        check_equality(val1, val2, error_msg, d)            \n",
    "\n",
    "def check_equality(val1, val2, error_msg, d):\n",
    "    if val1 is not None and val1 != val2:\n",
    "        print('%s. %s. Reported = %d. Observed = %d.' % (d.__class__.__name__, error_msg, val1, val2))"
   ]
  },
  {
   "cell_type": "code",
   "execution_count": null,
   "id": "9e0bf0ca",
   "metadata": {},
   "outputs": [],
   "source": [
    "for d in ds:\n",
    "    print_discrepancies(d)"
   ]
  },
  {
   "cell_type": "markdown",
   "id": "8fd880e7",
   "metadata": {},
   "source": [
    "- ATRW - ???.\n",
    "- BirdIndividualID - ???.\n",
    "- CTai - OK. I believe that the 'Adult identity is a mistake. CHECK!\n",
    "- Cows2021 - OK. We contacted the authors.\n",
    "- Drosophila - OK. Few images had different structure. We ignored them.\n",
    "- LeopardID2022 - ???.\n",
    "- LionData - OK.\n",
    "- MacaqueFaces - OK. In the paper they write that it is slightly less (not enough photos for some individuals).\n",
    "- NyalaData - OK."
   ]
  }
 ],
 "metadata": {
  "kernelspec": {
   "display_name": "Python 3 (ipykernel)",
   "language": "python",
   "name": "python3"
  },
  "language_info": {
   "codemirror_mode": {
    "name": "ipython",
    "version": 3
   },
   "file_extension": ".py",
   "mimetype": "text/x-python",
   "name": "python",
   "nbconvert_exporter": "python",
   "pygments_lexer": "ipython3",
   "version": "3.9.13"
  }
 },
 "nbformat": 4,
 "nbformat_minor": 5
}
