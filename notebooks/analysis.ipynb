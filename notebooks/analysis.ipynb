{
 "cells": [
  {
   "cell_type": "code",
   "execution_count": 1,
   "id": "224d4c14",
   "metadata": {},
   "outputs": [
    {
     "data": {
      "application/javascript": [
       "IPython.OutputArea.prototype._should_scroll = function(lines) {\n",
       "    return false;\n",
       "}\n"
      ],
      "text/plain": [
       "<IPython.core.display.Javascript object>"
      ]
     },
     "metadata": {},
     "output_type": "display_data"
    }
   ],
   "source": [
    "%%javascript\n",
    "IPython.OutputArea.prototype._should_scroll = function(lines) {\n",
    "    return false;\n",
    "}"
   ]
  },
  {
   "cell_type": "code",
   "execution_count": 2,
   "id": "66b31335",
   "metadata": {},
   "outputs": [],
   "source": [
    "%load_ext autoreload\n",
    "%autoreload 2"
   ]
  },
  {
   "cell_type": "code",
   "execution_count": 19,
   "id": "de6671a0",
   "metadata": {},
   "outputs": [],
   "source": [
    "import sys\n",
    "sys.path.append('..')\n",
    "\n",
    "import os\n",
    "import numpy as np\n",
    "from analysis import info_datasets, unique_datasets_list, add_paths\n",
    "\n",
    "root_dataset = os.path.join('/mnt', 'data', 'turtles', 'datasets', 'datasets')\n",
    "root_dataframe = os.path.join('/mnt', 'data', 'turtles', 'datasets', 'dataframes')\n",
    "\n",
    "info_datasets = unique_datasets_list(info_datasets)\n",
    "info_datasets = add_paths(info_datasets, root_dataset, root_dataframe)\n",
    "\n",
    "datasets = []\n",
    "for info_dataset in info_datasets:\n",
    "    dataset = info_dataset[0].from_file(info_dataset[2], info_dataset[3], **info_dataset[1])\n",
    "    datasets.append(dataset)"
   ]
  },
  {
   "cell_type": "code",
   "execution_count": 28,
   "id": "7ba554a2",
   "metadata": {},
   "outputs": [
    {
     "data": {
      "text/plain": [
       "[0, 1, 4, 9, 16, 25, 36, 49, 64, 81]"
      ]
     },
     "execution_count": 28,
     "metadata": {},
     "output_type": "execute_result"
    }
   ],
   "source": [
    "[x**2 for x in range(10)]"
   ]
  },
  {
   "cell_type": "code",
   "execution_count": null,
   "id": "25cded07",
   "metadata": {},
   "outputs": [],
   "source": []
  },
  {
   "cell_type": "code",
   "execution_count": 42,
   "id": "5d5701b1",
   "metadata": {},
   "outputs": [
    {
     "name": "stdout",
     "output_type": "stream",
     "text": [
      "\\begin{tabular}{lrrrrllll}\n",
      "\\toprule\n",
      "                                            name &  year &   images &  individuals &  individuals small &        span &    wild & pattern & full frame \\\\\n",
      "\\midrule\n",
      "            AAUZebraFishID \\cite{bruslund2020re} &  2020 &     6672 &            6 &                  0 &       1 day &  \\xmark &  \\xmark &     \\cmark \\\\\n",
      "        AerialCattle2017 \\cite{andrew2017visual} &  2017 &    46340 &           23 &                  4 &       1 day &  \\xmark &  \\cmark &     \\xmark \\\\\n",
      "                          ATRW \\cite{li2019atrw} &  2019 &     5415 &          182 &                121 &       short &  \\xmark &  \\cmark &     \\cmark \\\\\n",
      "                        BelugaID \\cite{belugaid} &  2022 &     5902 &          788 &                635 &   2.1 years &  \\cmark &  \\xmark &     \\xmark \\\\\n",
      "        BirdIndividualID \\cite{ferreira2020deep} &  2019 &    51934 &           50 &                  0 &     15 days &  \\xmark &  \\xmark &     \\cmark \\\\\n",
      "               CTai \\cite{freytag2016chimpanzee} &  2016 &     4662 &           71 &                 30 &     unknown &  \\cmark &  \\xmark &     \\xmark \\\\\n",
      "               CZoo \\cite{freytag2016chimpanzee} &  2016 &     2109 &           24 &                  0 &     unknown &  \\xmark &  \\xmark &     \\xmark \\\\\n",
      "                  Cows2021 \\cite{gao2021towards} &  2021 &     8670 &          181 &                  9 &     1 month &  \\xmark &  \\cmark &     \\xmark \\\\\n",
      "              Drosophila \\cite{schneider2018can} &  2018 &  2591700 &           60 &                  0 &      3 days &  \\xmark &  \\cmark &     \\xmark \\\\\n",
      "   FriesianCattle2015 \\cite{andrew2016automatic} &  2016 &      377 &           40 &                  3 &       1 day &  \\xmark &  \\cmark &     \\xmark \\\\\n",
      "      FriesianCattle2017 \\cite{andrew2017visual} &  2017 &      940 &           89 &                 32 &       1 day &  \\xmark &  \\cmark &     \\xmark \\\\\n",
      "          GiraffeZebraID \\cite{parham2017animal} &  2017 &     6925 &         2056 &               1694 &     12 days &  \\cmark &  \\cmark &     \\cmark \\\\\n",
      "             Giraffes \\cite{miele2021revisiting} &  2021 &     1393 &          178 &                  0 &     unknown &  \\cmark &  \\cmark &     \\xmark \\\\\n",
      "       HappyWhale \\cite{cheeseman2017happywhale} &  2022 &    51033 &        15587 &              15421 &   very long &  \\cmark &  \\cmark &     \\cmark \\\\\n",
      "            HumpbackWhaleID \\cite{humpbackwhale} &  2019 &    15697 &         5004 &               4593 &   very long &  \\cmark &  \\cmark &     \\xmark \\\\\n",
      "                 HyenaID2022 \\cite{botswana2022} &  2022 &     3129 &          256 &                155 &     unknown &  \\cmark &  \\cmark &     \\cmark \\\\\n",
      "                   IPanda50 \\cite{wang2021giant} &  2021 &     6874 &           50 &                  0 &     unknown &  \\xmark &  \\cmark &     \\xmark \\\\\n",
      "               LeopardID2022 \\cite{botswana2022} &  2022 &     6806 &          430 &                399 &     unknown &  \\cmark &  \\cmark &     \\cmark \\\\\n",
      "            LionData \\cite{dlamini2020automated} &  2020 &      740 &           94 &                  0 &     unknown &  \\cmark &  \\cmark &     \\xmark \\\\\n",
      "         MacaqueFaces \\cite{witham2018automated} &  2018 &     6280 &           34 &                  0 &   1.4 years &  \\xmark &  \\xmark &     \\xmark \\\\\n",
      "                   NDD20 \\cite{trotter2020ndd20} &  2020 &     2657 &           82 &                  5 &     7 years &  \\xmark &  \\cmark &     \\cmark \\\\\n",
      "                NOAARightWhale \\cite{rightwhale} &  2015 &     4544 &          447 &                103 &    10 years &  \\cmark &  \\xmark &     \\cmark \\\\\n",
      "           NyalaData \\cite{dlamini2020automated} &  2020 &     1942 &          237 &                 58 &     unknown &  \\cmark &  \\cmark &     \\cmark \\\\\n",
      "            OpenCows2020 \\cite{andrew2021visual} &  2020 &     4736 &           46 &                 10 &       short &  \\xmark &  \\cmark &     \\xmark \\\\\n",
      "             SealID \\cite{nepovinnykh2022sealid} &  2022 &     2080 &           57 &                  4 &    10 years &  \\cmark &  \\cmark &     \\cmark \\\\\n",
      "                    SMALST \\cite{zuffi2019three} &  2019 &    12850 &           10 &                  0 &  artificial &  \\xmark &  \\cmark &     \\cmark \\\\\n",
      "        StripeSpotter \\cite{lahiri2011biometric} &  2011 &      820 &           45 &                  4 &      7 days &  \\cmark &  \\cmark &     \\cmark \\\\\n",
      "      WhaleSharkID \\cite{holmberg2009estimating} &  2020 &     7693 &          543 &                402 &   5.2 years &  \\cmark &  \\cmark &     \\cmark \\\\\n",
      " WNIGiraffes \\cite{clavadetscher2021development} &  2021 &    29806 &         1000 &                  0 &     7 years &  \\cmark &  \\cmark &     \\cmark \\\\\n",
      "           ZindiTurtleRecall \\cite{zinditurtles} &  2022 &    12803 &         2265 &               2074 &     unknown &  \\cmark &  \\cmark &     \\xmark \\\\\n",
      "\\bottomrule\n",
      "\\end{tabular}\n",
      "\n"
     ]
    }
   ],
   "source": [
    "import pandas as pd\n",
    "\n",
    "def number_individuals(df):\n",
    "    identities = df['identity'].unique()\n",
    "    if 'unknown' in list(identities):\n",
    "        return len(identities)-1\n",
    "    else:\n",
    "        return len(identities)\n",
    "\n",
    "def number_small(df, ratio=0.1):\n",
    "    df_red = df[df['identity'] != 'unknown']\n",
    "    counts = df_red['identity'].value_counts().to_numpy()\n",
    "    return np.sum(counts <= ratio*np.max(counts))\n",
    "\n",
    "def average_photo_number(df):\n",
    "    df_red = df[df['identity'] != 'unknown']\n",
    "    counts = df_red['identity'].value_counts().to_numpy()\n",
    "    return '$' + str(np.round(np.mean(counts), 1)) + '\\pm' + str(np.round(np.std(counts), 1)) + '$'\n",
    "\n",
    "def get_checkmark(condition):\n",
    "    if condition:\n",
    "        return r'\\cmark'\n",
    "    else:\n",
    "        return r'\\xmark'\n",
    "    \n",
    "def create_dict(i):\n",
    "    return {\n",
    "        'name': i.__class__.__name__ + ' \\cite{' + i.cite + '}',\n",
    "        #'source': '\\cite{' + i.cite + '}',\n",
    "        'year': i.year,\n",
    "        'images': len(i.df[i.df['identity'] != 'unknown']),\n",
    "        'individuals': number_individuals(i.df),\n",
    "        'individuals small': number_small(i.df),\n",
    "        'span': i.span,\n",
    "        'wild': get_checkmark(i.wild),\n",
    "        'pattern': get_checkmark(i.unique_pattern),\n",
    "        'full frame': get_checkmark(i.full_frame),     \n",
    "    }\n",
    "\n",
    "df = pd.DataFrame([create_dict(dataset) for dataset in datasets])\n",
    "\n",
    "latex = df.to_latex(index=False, escape = False, float_format=\"%.0f\")\n",
    "print(latex)"
   ]
  },
  {
   "cell_type": "code",
   "execution_count": 40,
   "id": "c7b699b9",
   "metadata": {},
   "outputs": [
    {
     "data": {
      "text/plain": [
       "[False,\n",
       " False,\n",
       " False,\n",
       " True,\n",
       " False,\n",
       " True,\n",
       " False,\n",
       " False,\n",
       " False,\n",
       " False,\n",
       " False,\n",
       " True,\n",
       " True,\n",
       " True,\n",
       " True,\n",
       " True,\n",
       " False,\n",
       " True,\n",
       " True,\n",
       " False,\n",
       " False,\n",
       " True,\n",
       " True,\n",
       " False,\n",
       " True,\n",
       " False,\n",
       " True,\n",
       " True,\n",
       " True,\n",
       " True]"
      ]
     },
     "execution_count": 40,
     "metadata": {},
     "output_type": "execute_result"
    }
   ],
   "source": [
    "[dataset.wild for dataset in datasets]"
   ]
  },
  {
   "cell_type": "code",
   "execution_count": null,
   "id": "8a648d6f",
   "metadata": {},
   "outputs": [],
   "source": [
    "import numpy as np\n",
    "import matplotlib.pyplot as plt\n",
    "\n",
    "year_min = 2016\n",
    "year_max = 2022\n",
    "\n",
    "years = np.array([dataset.year for dataset in datasets])\n",
    "counts = [sum(years < year_min)]\n",
    "for year in range(year_min, year_max+1):\n",
    "    counts.append(sum(year == years))\n",
    "y_max = np.max(counts)\n",
    "    \n",
    "xlabel = np.concatenate((['older'], np.array(range(year_min, year_max+1))))\n",
    "plt.plot(counts)\n",
    "plt.xticks(ticks=range(len(xlabel)), labels=xlabel);\n",
    "plt.yticks(ticks=range(0,y_max+1), labels=range(0,y_max+1));\n",
    "plt.savefig('counts.jpg', bbox_inches = 'tight')"
   ]
  },
  {
   "cell_type": "code",
   "execution_count": null,
   "id": "35d1b686",
   "metadata": {},
   "outputs": [],
   "source": []
  }
 ],
 "metadata": {
  "kernelspec": {
   "display_name": "Python 3",
   "language": "python",
   "name": "python3"
  },
  "language_info": {
   "codemirror_mode": {
    "name": "ipython",
    "version": 3
   },
   "file_extension": ".py",
   "mimetype": "text/x-python",
   "name": "python",
   "nbconvert_exporter": "python",
   "pygments_lexer": "ipython3",
   "version": "3.8.8"
  }
 },
 "nbformat": 4,
 "nbformat_minor": 5
}
