{
 "cells": [
  {
   "cell_type": "code",
   "execution_count": null,
   "id": "812a2d6e",
   "metadata": {},
   "outputs": [],
   "source": [
    "import sys\n",
    "sys.path.append('..')\n",
    "\n",
    "from wildlife_datasets import datasets, loader\n",
    "\n",
    "root_dataset = '/mnt/data/turtles/datasets/datasets'\n",
    "root_dataframe = '/mnt/data/turtles/datasets/dataframes'\n",
    "\n",
    "dataset_names = [dataset_name for dataset_name in datasets.dataset_names]\n",
    "dataset_names = [dataset_name for dataset_name in datasets.dataset_names \n",
    "                    if 'Segmented' not in dataset_name.__name__\n",
    "                        and 'SeaTurtleIDHeads' != dataset_name.__name__\n",
    "                ]\n",
    "\n",
    "datasets = loader.load_datasets(dataset_names, root_dataset, root_dataframe)"
   ]
  },
  {
   "cell_type": "code",
   "execution_count": null,
   "id": "5d5701b1",
   "metadata": {},
   "outputs": [],
   "source": [
    "import numpy as np\n",
    "import pandas as pd\n",
    "import unicodedata\n",
    "\n",
    "def number_individuals(df):\n",
    "    identities = df['identity'].unique()\n",
    "    if 'unknown' in list(identities):\n",
    "        return len(identities)-1\n",
    "    else:\n",
    "        return len(identities)\n",
    "\n",
    "def number_images(df):\n",
    "    return sum(df['identity'] != 'unknown')\n",
    "    \n",
    "def average_photo_number(df):\n",
    "    df_red = df[df['identity'] != 'unknown']\n",
    "    counts = df_red['identity'].value_counts().to_numpy()\n",
    "    return '$' + str(np.round(np.mean(counts), 1)) + '\\pm' + str(np.round(np.std(counts), 1)) + '$'\n",
    "\n",
    "def create_dict(i):\n",
    "    return {\n",
    "        'year': i.metadata['year'],\n",
    "        '$n_{\\\\rm img}$': number_images(i.df),\n",
    "        '$n_{\\\\rm ind}$': number_individuals(i.df),\n",
    "        'span': i.metadata['span'],\n",
    "        'source': 'video' if i.metadata['from_video'] else 'photo',\n",
    "        'pose': i.metadata['pose'],\n",
    "        'timestamp': 'date' in i.df.columns,\n",
    "        'wild': i.metadata['wild'],\n",
    "        #'pattern': i.metadata['unique_pattern'],\n",
    "        'more species': len(i.metadata['animals']) > 1,\n",
    "    }\n",
    "\n",
    "names = [dataset.__class__.__name__ for dataset in datasets]\n",
    "df = pd.DataFrame([create_dict(dataset) for dataset in datasets], index=names)\n",
    "\n",
    "df_print = df.copy()\n",
    "df_print.replace(True, \"\\u2714\", inplace=True)\n",
    "df_print.replace(False, \"\\u2716\", inplace=True)\n",
    "df_print"
   ]
  },
  {
   "cell_type": "code",
   "execution_count": null,
   "id": "8a648d6f",
   "metadata": {},
   "outputs": [],
   "source": [
    "import numpy as np\n",
    "import matplotlib.pyplot as plt\n",
    "\n",
    "year_min = 2016\n",
    "year_max = 2022\n",
    "\n",
    "years = np.array([dataset.metadata['year'] for dataset in datasets])\n",
    "counts = [sum(years < year_min)]\n",
    "for year in range(year_min, year_max+1):\n",
    "    counts.append(sum(year == years))\n",
    "y_max = np.max(counts)\n",
    "    \n",
    "xlabel = np.concatenate((['older'], np.array(range(year_min, year_max+1))))\n",
    "plt.plot(counts)\n",
    "plt.xticks(ticks=range(len(xlabel)), labels=xlabel);\n",
    "plt.yticks(ticks=range(0,y_max+1), labels=range(0,y_max+1));\n",
    "#plt.savefig('counts.jpg', bbox_inches = 'tight')"
   ]
  },
  {
   "cell_type": "code",
   "execution_count": null,
   "id": "84d027ff",
   "metadata": {},
   "outputs": [],
   "source": [
    "def rotate_text(c, angle=90):\n",
    "    return '\\\\rotatebox{90}{' + \"\\_\".join(c.split(\"_\")) + '}'\n",
    "\n",
    "def convert_latex(df, datasets, add_citations=True):    \n",
    "    df = df.copy()\n",
    "    if add_citations:\n",
    "        cites = [' \\cite{' + dataset.metadata['cite'] + '}' for dataset in datasets]\n",
    "        df.insert(loc=0, column = 'name', value=df.index+cites)\n",
    "    else:\n",
    "        df.insert(loc=0, column = 'name', value=df.index)\n",
    "    header = [rotate_text(c) if df[c].dtypes.name == 'bool' else c for c in df.columns]\n",
    "    df.replace(True, r'\\cmark', inplace=True)\n",
    "    df.replace(False, r'\\xmark', inplace=True)\n",
    "    return df.to_latex(index=False, escape=False, float_format=\"%.0f\", header=header)\n",
    "\n",
    "print(convert_latex(df, datasets))"
   ]
  },
  {
   "cell_type": "code",
   "execution_count": null,
   "id": "f0ad85d0",
   "metadata": {},
   "outputs": [],
   "source": [
    "def is_splittable(i):\n",
    "    cond1 = i.metadata['pose'] == 'double'\n",
    "    cond2 = False\n",
    "    return cond1 | cond2\n",
    "\n",
    "def create_dict(i):\n",
    "    return {\n",
    "        '$n_{\\\\rm img}$': int(number_images(i.df) >= 1000),\n",
    "        '$n_{\\\\rm ind}$': int(number_individuals(i.df) >= 100),\n",
    "        'span': int('year' in i.metadata['span'] or 'long' in i.metadata['span']),\n",
    "        'source': int(not i.metadata['from_video']),\n",
    "        'pose': int(i.metadata['pose'] != 'single'),\n",
    "        'time': int('date' in i.df.columns),\n",
    "        'wild': int(i.metadata['wild']),\n",
    "        'tough photos': int(not i.metadata['clear_photos']),\n",
    "        'splittable': int(is_splittable(i)),\n",
    "    }\n",
    "\n",
    "names = [dataset.__class__.__name__ for dataset in datasets]\n",
    "df = pd.DataFrame([create_dict(dataset) for dataset in datasets], index=names)\n",
    "df['difficulty'] = df.sum(axis=1).values\n",
    "df"
   ]
  },
  {
   "cell_type": "code",
   "execution_count": null,
   "id": "1c2d06d7",
   "metadata": {},
   "outputs": [],
   "source": [
    "print(convert_latex(df, datasets, add_citations=False))"
   ]
  }
 ],
 "metadata": {
  "kernelspec": {
   "display_name": "Python 3",
   "language": "python",
   "name": "python3"
  },
  "language_info": {
   "codemirror_mode": {
    "name": "ipython",
    "version": 3
   },
   "file_extension": ".py",
   "mimetype": "text/x-python",
   "name": "python",
   "nbconvert_exporter": "python",
   "pygments_lexer": "ipython3",
   "version": "3.8.8"
  },
  "vscode": {
   "interpreter": {
    "hash": "916dbcbb3f70747c44a77c7bcd40155683ae19c65e1c03b4aa3499c5328201f1"
   }
  }
 },
 "nbformat": 4,
 "nbformat_minor": 5
}
