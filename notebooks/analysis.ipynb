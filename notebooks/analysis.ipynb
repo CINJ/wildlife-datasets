{
 "cells": [
  {
   "cell_type": "code",
   "execution_count": 1,
   "id": "224d4c14",
   "metadata": {},
   "outputs": [
    {
     "data": {
      "application/javascript": [
       "IPython.OutputArea.prototype._should_scroll = function(lines) {\n",
       "    return false;\n",
       "}\n"
      ],
      "text/plain": [
       "<IPython.core.display.Javascript object>"
      ]
     },
     "metadata": {},
     "output_type": "display_data"
    }
   ],
   "source": [
    "%%javascript\n",
    "IPython.OutputArea.prototype._should_scroll = function(lines) {\n",
    "    return false;\n",
    "}"
   ]
  },
  {
   "cell_type": "code",
   "execution_count": 2,
   "id": "66b31335",
   "metadata": {},
   "outputs": [],
   "source": [
    "%load_ext autoreload\n",
    "%autoreload 2"
   ]
  },
  {
   "cell_type": "code",
   "execution_count": 3,
   "id": "de6671a0",
   "metadata": {},
   "outputs": [],
   "source": [
    "import sys\n",
    "sys.path.append('..')\n",
    "\n",
    "import os\n",
    "from analysis import info_datasets, unique_datasets_list, add_paths\n",
    "from datasets import DatasetFactory\n",
    "\n",
    "root_dataset = os.path.join('/mnt', 'data', 'turtles', 'datasets', 'datasets')\n",
    "root_dataframe = os.path.join('/mnt', 'data', 'turtles', 'datasets', 'dataframes')\n",
    "\n",
    "info_datasets = add_paths(info_datasets, root_dataset, root_dataframe)\n",
    "\n",
    "datasets = []\n",
    "for info_dataset in info_datasets:\n",
    "    dataset = info_dataset[0].from_file(info_dataset[2], info_dataset[3], **info_dataset[1])\n",
    "    datasets.append(dataset)"
   ]
  },
  {
   "cell_type": "code",
   "execution_count": 4,
   "id": "5d5701b1",
   "metadata": {},
   "outputs": [
    {
     "name": "stdout",
     "output_type": "stream",
     "text": [
      "\\begin{tabular}{lrrrllll}\n",
      "\\toprule\n",
      "               name &   images &  individuals &  year &                          source & in the wild & unique pattern & full frame \\\\\n",
      "\\midrule\n",
      "     AAUZebraFishID &     6672 &            6 &  2020 &           \\cite{bruslund2020re} &      \\xmark &         \\xmark &     \\cmark \\\\\n",
      "   AerialCattle2017 &    46340 &           23 &  2017 &         \\cite{andrew2017visual} &      \\xmark &         \\cmark &     \\xmark \\\\\n",
      "               ATRW &     5415 &          182 &  2019 &               \\cite{li2019atrw} &      \\xmark &         \\cmark &     \\cmark \\\\\n",
      "           BelugaID &     5902 &          788 &  2022 &                      \\cite{???} &      \\cmark &         \\xmark &     \\xmark \\\\\n",
      "   BirdIndividualID &    51934 &           50 &  2019 &         \\cite{ferreira2020deep} &      \\xmark &         \\xmark &     \\cmark \\\\\n",
      "   BirdIndividualID &    52274 &           50 &  2019 &         \\cite{ferreira2020deep} &      \\xmark &         \\xmark &     \\cmark \\\\\n",
      "               CTai &     4662 &           77 &  2016 &    \\cite{freytag2016chimpanzee} &      \\cmark &         \\xmark &     \\xmark \\\\\n",
      "               CZoo &     2109 &           24 &  2016 &    \\cite{freytag2016chimpanzee} &      \\xmark &         \\xmark &     \\xmark \\\\\n",
      "           Cows2021 &     8670 &          181 &  2021 &           \\cite{gao2021towards} &      \\xmark &         \\cmark &     \\xmark \\\\\n",
      "         Drosophila &  2591700 &           60 &  2018 &         \\cite{schneider2018can} &      \\xmark &         \\cmark &     \\xmark \\\\\n",
      " FriesianCattle2015 &      377 &           40 &  2016 &      \\cite{andrew2016automatic} &      \\xmark &         \\cmark &     \\xmark \\\\\n",
      " FriesianCattle2017 &      940 &           89 &  2017 &         \\cite{andrew2017visual} &      \\xmark &         \\cmark &     \\xmark \\\\\n",
      "     GiraffeZebraID &     6925 &         2056 &  2017 &         \\cite{parham2017animal} &      \\cmark &         \\cmark &     \\cmark \\\\\n",
      "           Giraffes &     1393 &          178 &  2021 &      \\cite{miele2021revisiting} &      \\cmark &         \\cmark &     \\xmark \\\\\n",
      "         HappyWhale &    51033 &        15587 &  2022 &  \\cite{cheeseman2017happywhale} &      \\cmark &         \\cmark &     \\cmark \\\\\n",
      "    HumpbackWhaleID &    15697 &         5004 &  2019 &                      \\cite{???} &      \\cmark &         \\cmark &     \\xmark \\\\\n",
      "        HyenaID2022 &     3129 &          256 &  2022 &             \\cite{botswana2022} &      \\cmark &         \\cmark &     \\cmark \\\\\n",
      "           IPanda50 &     6874 &           50 &  2021 &            \\cite{wang2021giant} &      \\xmark &         \\cmark &     \\xmark \\\\\n",
      "      LeopardID2022 &     6806 &          430 &  2022 &             \\cite{botswana2022} &      \\cmark &         \\cmark &     \\cmark \\\\\n",
      "           LionData &      740 &           94 &  2020 &     \\cite{dlamini2020automated} &      \\cmark &         \\cmark &     \\xmark \\\\\n",
      "       MacaqueFaces &     6280 &           34 &  2018 &      \\cite{witham2018automated} &      \\xmark &         \\xmark &     \\xmark \\\\\n",
      "              NDD20 &     2657 &           82 &  2020 &         \\cite{trotter2020ndd20} &      \\xmark &         \\cmark &     \\cmark \\\\\n",
      "     NOAARightWhale &     4544 &          447 &  2015 &                      \\cite{???} &      \\cmark &         \\xmark &     \\cmark \\\\\n",
      "          NyalaData &     1942 &          237 &  2020 &     \\cite{dlamini2020automated} &      \\cmark &         \\cmark &     \\cmark \\\\\n",
      "       OpenCows2020 &     4736 &           46 &  2020 &         \\cite{andrew2021visual} &      \\xmark &         \\cmark &     \\xmark \\\\\n",
      "             SealID &     2080 &           57 &  2022 &    \\cite{nepovinnykh2022sealid} &      \\cmark &         \\cmark &     \\cmark \\\\\n",
      "             SealID &     2080 &           57 &  2022 &    \\cite{nepovinnykh2022sealid} &      \\cmark &         \\cmark &     \\cmark \\\\\n",
      "             SMALST &    12850 &           10 &  2019 &           \\cite{zuffi2019three} &      \\xmark &         \\cmark &     \\cmark \\\\\n",
      "      StripeSpotter &      820 &           45 &  2011 &      \\cite{lahiri2011biometric} &      \\cmark &         \\cmark &     \\cmark \\\\\n",
      "       WhaleSharkID &     7693 &          543 &  2020 &   \\cite{holmberg2009estimating} &      \\cmark &         \\cmark &     \\cmark \\\\\n",
      "        WNIGiraffes &    29806 &         1000 &  2021 &                      \\cite{???} &      \\cmark &         \\cmark &     \\cmark \\\\\n",
      "  ZindiTurtleRecall &    12803 &         2265 &  2022 &                      \\cite{???} &      \\cmark &         \\cmark &     \\xmark \\\\\n",
      "\\bottomrule\n",
      "\\end{tabular}\n",
      "\n"
     ]
    }
   ],
   "source": [
    "import pandas as pd\n",
    "\n",
    "def number_individuals(df):\n",
    "    identities = df['identity'].unique()\n",
    "    if 'unknown' in list(identities):\n",
    "        return len(identities)-1\n",
    "    else:\n",
    "        return len(identities)\n",
    "\n",
    "def get_checkmark(condition):\n",
    "    if condition:\n",
    "        return r'\\cmark'\n",
    "    else:\n",
    "        return r'\\xmark'\n",
    "    \n",
    "create_dict = lambda i: {\n",
    "    'name': i.__class__.__name__,\n",
    "    #'images': i.reported_n_identified,\n",
    "    'images': len(i.df[i.df['identity'] != 'unknown']),\n",
    "    'individuals': number_individuals(i.df),\n",
    "    'year': i.year,\n",
    "    'source': '\\cite{' + i.cite + '}',\n",
    "    'in the wild': get_checkmark(i.wild),\n",
    "    'unique pattern': get_checkmark(i.unique_pattern),\n",
    "    'full frame': get_checkmark(i.full_frame),     \n",
    "}\n",
    "\n",
    "\n",
    "df = pd.DataFrame([create_dict(dataset) for dataset in datasets])\n",
    "\n",
    "latex = df.to_latex(index=False, escape = False, float_format=\"%.0f\")\n",
    "print(latex)"
   ]
  }
 ],
 "metadata": {
  "kernelspec": {
   "display_name": "Python 3",
   "language": "python",
   "name": "python3"
  },
  "language_info": {
   "codemirror_mode": {
    "name": "ipython",
    "version": 3
   },
   "file_extension": ".py",
   "mimetype": "text/x-python",
   "name": "python",
   "nbconvert_exporter": "python",
   "pygments_lexer": "ipython3",
   "version": "3.8.8"
  }
 },
 "nbformat": 4,
 "nbformat_minor": 5
}
