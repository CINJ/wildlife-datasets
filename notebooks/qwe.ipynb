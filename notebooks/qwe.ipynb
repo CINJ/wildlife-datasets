{
 "cells": [
  {
   "cell_type": "code",
   "execution_count": 11,
   "metadata": {},
   "outputs": [],
   "source": [
    "import sys\n",
    "sys.path.insert(0, '../../wildlife-tools')\n",
    "sys.path.insert(0, '..')\n",
    "\n",
    "import pandas as pd"
   ]
  },
  {
   "cell_type": "code",
   "execution_count": 12,
   "metadata": {},
   "outputs": [],
   "source": [
    "metadata = pd.read_csv('combined_all.csv')"
   ]
  },
  {
   "cell_type": "code",
   "execution_count": 13,
   "metadata": {},
   "outputs": [],
   "source": [
    "from wildlife_datasets import splits\n",
    "\n",
    "splitter = splits.ClosedSetSplit(0.8)"
   ]
  },
  {
   "cell_type": "code",
   "execution_count": 20,
   "metadata": {},
   "outputs": [],
   "source": [
    "from wildlife_tools.data import WildlifeDataset\n",
    "from wildlife_tools.data import SplitMetadata\n",
    "\n",
    "image_root = '../data/images/size-518'\n",
    "dataset = WildlifeDataset(\n",
    "    metadata = metadata, \n",
    "    root = image_root,\n",
    "    split = SplitMetadata('split', 'train'),\n",
    ")"
   ]
  },
  {
   "cell_type": "code",
   "execution_count": 24,
   "metadata": {},
   "outputs": [
    {
     "data": {
      "text/plain": [
       "'train'"
      ]
     },
     "execution_count": 24,
     "metadata": {},
     "output_type": "execute_result"
    }
   ],
   "source": [
    "split = SplitMetadata('split', 'train')\n",
    "split.value"
   ]
  }
 ],
 "metadata": {
  "kernelspec": {
   "display_name": "venv_wt",
   "language": "python",
   "name": "python3"
  },
  "language_info": {
   "codemirror_mode": {
    "name": "ipython",
    "version": 3
   },
   "file_extension": ".py",
   "mimetype": "text/x-python",
   "name": "python",
   "nbconvert_exporter": "python",
   "pygments_lexer": "ipython3",
   "version": "3.10.11"
  }
 },
 "nbformat": 4,
 "nbformat_minor": 2
}
