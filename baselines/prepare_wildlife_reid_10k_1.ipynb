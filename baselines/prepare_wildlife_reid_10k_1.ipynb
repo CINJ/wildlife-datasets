{
 "cells": [
  {
   "cell_type": "markdown",
   "id": "ef3c62d9",
   "metadata": {},
   "source": [
    "# WildlifeReID-10k creation - part 1\n",
    "\n",
    "This is the first part for creating the WildlifeReID-10k dataset. It copies the files to a separate folder, applies bounding boxes and masks and combined them together. The split is created in the second part.\n",
    "\n",
    "First load the necessary packages."
   ]
  },
  {
   "cell_type": "code",
   "execution_count": 1,
   "id": "1d83e15e",
   "metadata": {},
   "outputs": [],
   "source": [
    "import sys\n",
    "sys.path.insert(0, '..')\n",
    "\n",
    "import os\n",
    "import pandas as pd\n",
    "from prepare_wildlife_reid_10k import prepare_functions, species_conversion"
   ]
  },
  {
   "cell_type": "markdown",
   "id": "f5b64d16",
   "metadata": {},
   "source": [
    "Then specify the roots, where the dataset is located. Parameters `size` specifies the size to which the datasets will be resized and parameters `copy_files` whether the files copied from `root_datasets` to `root`. Since bounding boxes and masks are applied and the black borders are cropped, it is relatively time-consuming."
   ]
  },
  {
   "cell_type": "code",
   "execution_count": 2,
   "id": "4d562243",
   "metadata": {},
   "outputs": [],
   "source": [
    "root_datasets = '/data/wildlife_datasets/data'\n",
    "root = os.path.join(root_datasets, 'WildlifeReID10k')\n",
    "root_images = os.path.join(root, 'images')\n",
    "root_metadata = os.path.join(root, 'metadata')\n",
    "size = None\n",
    "copy_files = False"
   ]
  },
  {
   "cell_type": "markdown",
   "id": "28c12480",
   "metadata": {},
   "source": [
    "Create metadata for each dataset and potentially copy the files."
   ]
  },
  {
   "cell_type": "code",
   "execution_count": 3,
   "id": "08e1236c",
   "metadata": {},
   "outputs": [
    {
     "name": "stdout",
     "output_type": "stream",
     "text": [
      "AAUZebraFish\n"
     ]
    },
    {
     "name": "stderr",
     "output_type": "stream",
     "text": [
      "100%|████████████████████████████████████████████████████████| 6672/6672 [00:00<00:00, 11505.84it/s]\n"
     ]
    },
    {
     "name": "stdout",
     "output_type": "stream",
     "text": [
      "AerialCattle2017\n"
     ]
    },
    {
     "name": "stderr",
     "output_type": "stream",
     "text": [
      "100%|████████████████████████████████████████████████████████| 4700/4700 [00:00<00:00, 12358.95it/s]\n"
     ]
    },
    {
     "name": "stdout",
     "output_type": "stream",
     "text": [
      "ATRW\n"
     ]
    },
    {
     "name": "stderr",
     "output_type": "stream",
     "text": [
      "100%|████████████████████████████████████████████████████████| 5415/5415 [00:00<00:00, 11568.92it/s]\n"
     ]
    },
    {
     "name": "stdout",
     "output_type": "stream",
     "text": [
      "BelugaID\n"
     ]
    },
    {
     "name": "stderr",
     "output_type": "stream",
     "text": [
      "100%|████████████████████████████████████████████████████████| 8559/8559 [00:00<00:00, 14096.96it/s]\n"
     ]
    },
    {
     "name": "stdout",
     "output_type": "stream",
     "text": [
      "BirdIndividualID\n"
     ]
    },
    {
     "name": "stderr",
     "output_type": "stream",
     "text": [
      "100%|██████████████████████████████████████████████████████| 52274/52274 [00:02<00:00, 19736.62it/s]\n"
     ]
    },
    {
     "name": "stdout",
     "output_type": "stream",
     "text": [
      "CatIndividualImages\n"
     ]
    },
    {
     "name": "stderr",
     "output_type": "stream",
     "text": [
      "100%|██████████████████████████████████████████████████████| 13021/13021 [00:01<00:00, 12571.94it/s]\n"
     ]
    },
    {
     "name": "stdout",
     "output_type": "stream",
     "text": [
      "CowDataset\n"
     ]
    },
    {
     "name": "stderr",
     "output_type": "stream",
     "text": [
      "100%|████████████████████████████████████████████████████████| 1485/1485 [00:00<00:00, 12427.85it/s]\n"
     ]
    },
    {
     "name": "stdout",
     "output_type": "stream",
     "text": [
      "Cows2021\n"
     ]
    },
    {
     "name": "stderr",
     "output_type": "stream",
     "text": [
      "100%|████████████████████████████████████████████████████████| 8670/8670 [00:00<00:00, 12041.91it/s]\n"
     ]
    },
    {
     "name": "stdout",
     "output_type": "stream",
     "text": [
      "CTai\n"
     ]
    },
    {
     "name": "stderr",
     "output_type": "stream",
     "text": [
      "100%|████████████████████████████████████████████████████████| 4662/4662 [00:00<00:00, 12025.88it/s]\n"
     ]
    },
    {
     "name": "stdout",
     "output_type": "stream",
     "text": [
      "CZoo\n"
     ]
    },
    {
     "name": "stderr",
     "output_type": "stream",
     "text": [
      "100%|████████████████████████████████████████████████████████| 2109/2109 [00:00<00:00, 12123.25it/s]\n"
     ]
    },
    {
     "name": "stdout",
     "output_type": "stream",
     "text": [
      "DogFaceNet\n"
     ]
    },
    {
     "name": "stderr",
     "output_type": "stream",
     "text": [
      "100%|████████████████████████████████████████████████████████| 8363/8363 [00:00<00:00, 12557.74it/s]\n"
     ]
    },
    {
     "name": "stdout",
     "output_type": "stream",
     "text": [
      "FriesianCattle2015\n"
     ]
    },
    {
     "name": "stderr",
     "output_type": "stream",
     "text": [
      "100%|██████████████████████████████████████████████████████████| 193/193 [00:00<00:00, 12097.99it/s]\n"
     ]
    },
    {
     "name": "stdout",
     "output_type": "stream",
     "text": [
      "FriesianCattle2017\n"
     ]
    },
    {
     "name": "stderr",
     "output_type": "stream",
     "text": [
      "100%|██████████████████████████████████████████████████████████| 940/940 [00:00<00:00, 12175.76it/s]\n"
     ]
    },
    {
     "name": "stdout",
     "output_type": "stream",
     "text": [
      "Giraffes\n"
     ]
    },
    {
     "name": "stderr",
     "output_type": "stream",
     "text": [
      "100%|████████████████████████████████████████████████████████| 1393/1393 [00:00<00:00, 19533.17it/s]\n"
     ]
    },
    {
     "name": "stdout",
     "output_type": "stream",
     "text": [
      "GiraffeZebraID\n"
     ]
    },
    {
     "name": "stderr",
     "output_type": "stream",
     "text": [
      "100%|████████████████████████████████████████████████████████| 6925/6925 [00:00<00:00, 14111.50it/s]\n"
     ]
    },
    {
     "name": "stdout",
     "output_type": "stream",
     "text": [
      "HyenaID2022\n"
     ]
    },
    {
     "name": "stderr",
     "output_type": "stream",
     "text": [
      "100%|████████████████████████████████████████████████████████| 3129/3129 [00:00<00:00, 13424.69it/s]\n"
     ]
    },
    {
     "name": "stdout",
     "output_type": "stream",
     "text": [
      "IPanda50\n"
     ]
    },
    {
     "name": "stderr",
     "output_type": "stream",
     "text": [
      "100%|████████████████████████████████████████████████████████| 6874/6874 [00:00<00:00, 20097.16it/s]\n"
     ]
    },
    {
     "name": "stdout",
     "output_type": "stream",
     "text": [
      "LeopardID2022\n"
     ]
    },
    {
     "name": "stderr",
     "output_type": "stream",
     "text": [
      "100%|████████████████████████████████████████████████████████| 6806/6806 [00:00<00:00, 13475.92it/s]\n"
     ]
    },
    {
     "name": "stdout",
     "output_type": "stream",
     "text": [
      "MPDD\n"
     ]
    },
    {
     "name": "stderr",
     "output_type": "stream",
     "text": [
      "100%|████████████████████████████████████████████████████████| 1657/1657 [00:00<00:00, 11781.53it/s]\n"
     ]
    },
    {
     "name": "stdout",
     "output_type": "stream",
     "text": [
      "NDD20\n"
     ]
    },
    {
     "name": "stderr",
     "output_type": "stream",
     "text": [
      "100%|████████████████████████████████████████████████████████| 2657/2657 [00:00<00:00, 13497.21it/s]\n"
     ]
    },
    {
     "name": "stdout",
     "output_type": "stream",
     "text": [
      "NyalaData\n"
     ]
    },
    {
     "name": "stderr",
     "output_type": "stream",
     "text": [
      "100%|████████████████████████████████████████████████████████| 1942/1942 [00:00<00:00, 11919.26it/s]\n"
     ]
    },
    {
     "name": "stdout",
     "output_type": "stream",
     "text": [
      "OpenCows2020\n"
     ]
    },
    {
     "name": "stderr",
     "output_type": "stream",
     "text": [
      "100%|████████████████████████████████████████████████████████| 4736/4736 [00:00<00:00, 20325.99it/s]\n"
     ]
    },
    {
     "name": "stdout",
     "output_type": "stream",
     "text": [
      "PolarBearVidID\n"
     ]
    },
    {
     "name": "stderr",
     "output_type": "stream",
     "text": [
      "100%|██████████████████████████████████████████████████████| 13918/13918 [00:01<00:00, 12854.40it/s]\n"
     ]
    },
    {
     "name": "stdout",
     "output_type": "stream",
     "text": [
      "SealID\n"
     ]
    },
    {
     "name": "stderr",
     "output_type": "stream",
     "text": [
      "100%|████████████████████████████████████████████████████████| 2080/2080 [00:00<00:00, 11856.64it/s]"
     ]
    },
    {
     "name": "stdout",
     "output_type": "stream",
     "text": [
      "SeaStarReID2023\n"
     ]
    },
    {
     "name": "stderr",
     "output_type": "stream",
     "text": [
      "\n",
      "100%|████████████████████████████████████████████████████████| 2187/2187 [00:00<00:00, 21284.31it/s]\n"
     ]
    },
    {
     "name": "stdout",
     "output_type": "stream",
     "text": [
      "SeaTurtleID2022\n"
     ]
    },
    {
     "name": "stderr",
     "output_type": "stream",
     "text": [
      "100%|████████████████████████████████████████████████████████| 8729/8729 [00:00<00:00, 13711.03it/s]\n"
     ]
    },
    {
     "name": "stdout",
     "output_type": "stream",
     "text": [
      "SMALST\n"
     ]
    },
    {
     "name": "stderr",
     "output_type": "stream",
     "text": [
      "100%|██████████| 12850/12850 [00:00<00:00, 25550.85it/s]\n"
     ]
    },
    {
     "name": "stdout",
     "output_type": "stream",
     "text": [
      "StripeSpotter\n"
     ]
    },
    {
     "name": "stderr",
     "output_type": "stream",
     "text": [
      "100%|██████████████████████████████████████████████████████████| 820/820 [00:00<00:00, 21802.68it/s]\n"
     ]
    },
    {
     "name": "stdout",
     "output_type": "stream",
     "text": [
      "WhaleSharkID\n"
     ]
    },
    {
     "name": "stderr",
     "output_type": "stream",
     "text": [
      "100%|████████████████████████████████████████████████████████| 7693/7693 [00:00<00:00, 13954.32it/s]\n"
     ]
    },
    {
     "name": "stdout",
     "output_type": "stream",
     "text": [
      "ZindiTurtleRecall\n"
     ]
    },
    {
     "name": "stderr",
     "output_type": "stream",
     "text": [
      "100%|██████████████████████████████████████████████████████| 12803/12803 [00:00<00:00, 20280.86it/s]\n"
     ]
    }
   ],
   "source": [
    "for name, prepare in prepare_functions.items():\n",
    "    print(name)\n",
    "    os.makedirs(f'{root_metadata}/{name}/', exist_ok=True)\n",
    "    metadata_part = prepare(size=size, root=f'{root_datasets}/{name}', new_root=f'{root_images}/{name}', copy_files=copy_files)\n",
    "    metadata_part.to_csv(f'{root_metadata}/{name}/metadata.csv', index=False)"
   ]
  },
  {
   "cell_type": "markdown",
   "id": "1ffc548d",
   "metadata": {},
   "source": [
    "The next codes adds additional information to the metadata and combines them together. After this code, the dataset is finished but splits. To compute splits, we first need to compute the features from `extract_features.py` and then compute the actual splits in `prepare_wildlife_reid_10k_2.ipynb`."
   ]
  },
  {
   "cell_type": "code",
   "execution_count": 4,
   "id": "88dcdd2d",
   "metadata": {},
   "outputs": [],
   "source": [
    "metadata = []\n",
    "for name in prepare_functions:\n",
    "    metadata_part = pd.read_csv(f'{root_metadata}/{name}/metadata.csv')\n",
    "    metadata_part['dataset'] = name\n",
    "    metadata_part['identity'] = name + '_' + metadata_part['identity'].astype(str)\n",
    "    metadata_part['path'] = 'images/' + name + '/' + metadata_part['path']\n",
    "    metadata_part['species'] = metadata_part['species'].apply(lambda x: species_conversion[x])\n",
    "    metadata.append(metadata_part)\n",
    "metadata = pd.concat(metadata).reset_index(drop=True)\n",
    "metadata = metadata.drop('image_id', axis=1)\n",
    "metadata['image_id'] = range(len(metadata))\n",
    "idx = ~metadata['date'].isnull()\n",
    "idx = metadata.index[idx]\n",
    "metadata.loc[idx, 'date'] = pd.to_datetime(metadata.loc[idx, 'date'].astype(str).apply(lambda x: x[:10]), format='%Y-%m-%d')\n",
    "metadata['orientation'] = metadata['orientation'].replace({'below': 'down', 'up': 'top', 'above': 'top'})\n",
    "metadata.to_csv(f'{root}/metadata.csv', index=False)"
   ]
  }
 ],
 "metadata": {
  "kernelspec": {
   "display_name": "Python 3 (ipykernel)",
   "language": "python",
   "name": "python3"
  },
  "language_info": {
   "codemirror_mode": {
    "name": "ipython",
    "version": 3
   },
   "file_extension": ".py",
   "mimetype": "text/x-python",
   "name": "python",
   "nbconvert_exporter": "python",
   "pygments_lexer": "ipython3",
   "version": "3.10.12"
  }
 },
 "nbformat": 4,
 "nbformat_minor": 5
}
