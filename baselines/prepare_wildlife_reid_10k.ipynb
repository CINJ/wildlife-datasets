{
 "cells": [
  {
   "cell_type": "code",
   "execution_count": 1,
   "id": "75c2d079",
   "metadata": {},
   "outputs": [],
   "source": [
    "import sys\n",
    "sys.path.insert(0, '../../wildlife-tools')\n",
    "sys.path.insert(0, '..')\n",
    "\n",
    "import pandas as pd\n",
    "from prepare_wildlife_reid_10k import *\n",
    "from wildlife_datasets import splits"
   ]
  },
  {
   "cell_type": "code",
   "execution_count": 2,
   "id": "a646b0ee",
   "metadata": {},
   "outputs": [],
   "source": [
    "prepare_functions = {\n",
    "    'AAUZebraFish': prepare_aau_zebrafish,\n",
    "    'AerialCattle2017': prepare_aerial_cattle_2017,\n",
    "    'ATRW': prepare_atrw,\n",
    "    'BelugaID': prepare_beluga_id,\n",
    "    'BirdIndividualID': prepare_bird_individual_id,\n",
    "    'CatIndividualImages': prepare_cat_individual_images,\n",
    "    'CowDataset': prepare_cow_dataset,\n",
    "    'Cows2021': prepare_cows2021,\n",
    "    'CTai': prepare_ctai,\n",
    "    'CZoo': prepare_czoo,\n",
    "    'DogFaceNet': prepare_dog_facenet,\n",
    "    'FriesianCattle2015': prepare_friesian_cattle_2015,\n",
    "    'FriesianCattle2017': prepare_friesian_cattle_2017,\n",
    "    'Giraffes': prepare_giraffes,\n",
    "    'GiraffeZebraID': prepare_giraffe_zebra_id,\n",
    "    'HyenaID2022': prepare_hyena_id_2022,\n",
    "    'IPanda50': prepare_ipanda_50,\n",
    "    'LeopardID2022': prepare_leopard_id_2022,\n",
    "    'MPDD': prepare_mpdd,\n",
    "    'NDD20': prepare_ndd20,\n",
    "    'NyalaData': prepare_nyala_data,\n",
    "    'OpenCows2020': prepare_open_cows_2020,\n",
    "    'PolarBearVidID': prepare_polar_bear_vidid,\n",
    "    'SealID': prepare_seal_id,\n",
    "    'SeaStarReID2023': prepare_sea_star_reid_2023,\n",
    "    'SeaTurtleID2022': prepare_sea_turtle_id_2022,\n",
    "    'SMALST': prepare_smalst,\n",
    "    'StripeSpotter': prepare_stripe_spotter,\n",
    "    'WhaleSharkID': prepare_whaleshark_id,\n",
    "    'ZindiTurtleRecall': prepare_zindi_turtle_recall,\n",
    "}"
   ]
  },
  {
   "cell_type": "code",
   "execution_count": 3,
   "id": "9b0c8664",
   "metadata": {},
   "outputs": [],
   "source": [
    "species_conversion = {\n",
    "    'Anthenea australiae': 'sea star',\n",
    "    'Asteria rubens': 'sea star',\n",
    "    'BND': 'doplhin',\n",
    "    'Friesian cattle': 'cow',\n",
    "    'WBD': 'doplhin',\n",
    "    'amur tiger': 'tiger',\n",
    "    'beluga whale': 'whale',\n",
    "    'cat': 'cat',\n",
    "    'chimpanzee': 'chimpanzee',\n",
    "    'cow': 'cow',\n",
    "    'dog': 'dog',\n",
    "    'giraffe': 'giraffe',\n",
    "    'giraffe_masai': 'giraffe',\n",
    "    'great panda': 'panda',\n",
    "    'great_tits': 'bird',\n",
    "    'leopard': 'leopard',\n",
    "    'loggerhead turtle': 'sea turtle',\n",
    "    'nyala': 'nyala',\n",
    "    'polar bear': 'polar bear',\n",
    "    'ringed seal': 'seal',\n",
    "    'sea turtle': 'sea turtle',\n",
    "    'sociable_weavers': 'bird',\n",
    "    'spotted hyena': 'hyena',\n",
    "    'whale shark': 'shark',\n",
    "    'zebra': 'zebra',\n",
    "    'zebra_finch': 'zebra',\n",
    "    'zebra_plains': 'zebra',\n",
    "    'zebrafish': 'fish',\n",
    "}"
   ]
  },
  {
   "cell_type": "code",
   "execution_count": 4,
   "id": "4d562243",
   "metadata": {},
   "outputs": [],
   "source": [
    "datasets_folder = '/data/wildlife_datasets/data'\n",
    "new_root = os.path.join(datasets_folder, 'WildlifeReID-10k')\n",
    "new_root_images = os.path.join(new_root, 'images')\n",
    "new_root_metadata = os.path.join(new_root, 'metadata')\n",
    "size = None\n",
    "copy_files = False\n",
    "save_clusters_prefix = 'clusters/cluster'"
   ]
  },
  {
   "cell_type": "code",
   "execution_count": 5,
   "id": "08e1236c",
   "metadata": {},
   "outputs": [
    {
     "name": "stdout",
     "output_type": "stream",
     "text": [
      "AAUZebraFish\n"
     ]
    },
    {
     "name": "stderr",
     "output_type": "stream",
     "text": [
      "100%|████████████████████████████████████████████████████████| 6672/6672 [00:00<00:00, 11448.16it/s]\n"
     ]
    },
    {
     "name": "stdout",
     "output_type": "stream",
     "text": [
      "AerialCattle2017\n"
     ]
    },
    {
     "name": "stderr",
     "output_type": "stream",
     "text": [
      "100%|████████████████████████████████████████████████████████| 4700/4700 [00:00<00:00, 12550.18it/s]\n"
     ]
    },
    {
     "name": "stdout",
     "output_type": "stream",
     "text": [
      "ATRW\n"
     ]
    },
    {
     "name": "stderr",
     "output_type": "stream",
     "text": [
      "100%|████████████████████████████████████████████████████████| 5415/5415 [00:00<00:00, 11703.71it/s]\n"
     ]
    },
    {
     "name": "stdout",
     "output_type": "stream",
     "text": [
      "BelugaID\n"
     ]
    },
    {
     "name": "stderr",
     "output_type": "stream",
     "text": [
      "100%|████████████████████████████████████████████████████████| 8559/8559 [00:00<00:00, 14166.81it/s]\n"
     ]
    },
    {
     "name": "stdout",
     "output_type": "stream",
     "text": [
      "BirdIndividualID\n"
     ]
    },
    {
     "name": "stderr",
     "output_type": "stream",
     "text": [
      "100%|██████████████████████████████████████████████████████| 52274/52274 [00:02<00:00, 20329.63it/s]\n"
     ]
    },
    {
     "name": "stdout",
     "output_type": "stream",
     "text": [
      "CatIndividualImages\n"
     ]
    },
    {
     "name": "stderr",
     "output_type": "stream",
     "text": [
      "100%|██████████████████████████████████████████████████████| 13021/13021 [00:01<00:00, 12426.98it/s]\n"
     ]
    },
    {
     "name": "stdout",
     "output_type": "stream",
     "text": [
      "CowDataset\n"
     ]
    },
    {
     "name": "stderr",
     "output_type": "stream",
     "text": [
      "100%|████████████████████████████████████████████████████████| 1485/1485 [00:00<00:00, 12244.23it/s]\n"
     ]
    },
    {
     "name": "stdout",
     "output_type": "stream",
     "text": [
      "Cows2021\n"
     ]
    },
    {
     "name": "stderr",
     "output_type": "stream",
     "text": [
      "100%|████████████████████████████████████████████████████████| 8670/8670 [00:00<00:00, 12102.48it/s]\n"
     ]
    },
    {
     "name": "stdout",
     "output_type": "stream",
     "text": [
      "CTai\n"
     ]
    },
    {
     "name": "stderr",
     "output_type": "stream",
     "text": [
      "100%|████████████████████████████████████████████████████████| 4662/4662 [00:00<00:00, 11679.32it/s]\n"
     ]
    },
    {
     "name": "stdout",
     "output_type": "stream",
     "text": [
      "CZoo\n"
     ]
    },
    {
     "name": "stderr",
     "output_type": "stream",
     "text": [
      "100%|████████████████████████████████████████████████████████| 2109/2109 [00:00<00:00, 12297.89it/s]\n"
     ]
    },
    {
     "name": "stdout",
     "output_type": "stream",
     "text": [
      "DogFaceNet\n"
     ]
    },
    {
     "name": "stderr",
     "output_type": "stream",
     "text": [
      "100%|████████████████████████████████████████████████████████| 8363/8363 [00:00<00:00, 12497.86it/s]\n"
     ]
    },
    {
     "name": "stdout",
     "output_type": "stream",
     "text": [
      "FriesianCattle2015\n"
     ]
    },
    {
     "name": "stderr",
     "output_type": "stream",
     "text": [
      "100%|██████████████████████████████████████████████████████████| 193/193 [00:00<00:00, 12229.22it/s]\n"
     ]
    },
    {
     "name": "stdout",
     "output_type": "stream",
     "text": [
      "FriesianCattle2017\n"
     ]
    },
    {
     "name": "stderr",
     "output_type": "stream",
     "text": [
      "100%|██████████████████████████████████████████████████████████| 940/940 [00:00<00:00, 12245.53it/s]\n"
     ]
    },
    {
     "name": "stdout",
     "output_type": "stream",
     "text": [
      "Giraffes\n"
     ]
    },
    {
     "name": "stderr",
     "output_type": "stream",
     "text": [
      "100%|████████████████████████████████████████████████████████| 1393/1393 [00:00<00:00, 20241.98it/s]\n"
     ]
    },
    {
     "name": "stdout",
     "output_type": "stream",
     "text": [
      "GiraffeZebraID\n"
     ]
    },
    {
     "name": "stderr",
     "output_type": "stream",
     "text": [
      "100%|████████████████████████████████████████████████████████| 6925/6925 [00:00<00:00, 14333.04it/s]\n"
     ]
    },
    {
     "name": "stdout",
     "output_type": "stream",
     "text": [
      "HyenaID2022\n"
     ]
    },
    {
     "name": "stderr",
     "output_type": "stream",
     "text": [
      "100%|████████████████████████████████████████████████████████| 3129/3129 [00:00<00:00, 13437.65it/s]\n"
     ]
    },
    {
     "name": "stdout",
     "output_type": "stream",
     "text": [
      "IPanda50\n"
     ]
    },
    {
     "name": "stderr",
     "output_type": "stream",
     "text": [
      "100%|████████████████████████████████████████████████████████| 6874/6874 [00:00<00:00, 20419.69it/s]\n"
     ]
    },
    {
     "name": "stdout",
     "output_type": "stream",
     "text": [
      "LeopardID2022\n"
     ]
    },
    {
     "name": "stderr",
     "output_type": "stream",
     "text": [
      "100%|████████████████████████████████████████████████████████| 6806/6806 [00:00<00:00, 13534.48it/s]\n"
     ]
    },
    {
     "name": "stdout",
     "output_type": "stream",
     "text": [
      "MPDD\n"
     ]
    },
    {
     "name": "stderr",
     "output_type": "stream",
     "text": [
      "100%|████████████████████████████████████████████████████████| 1657/1657 [00:00<00:00, 11913.23it/s]\n"
     ]
    },
    {
     "name": "stdout",
     "output_type": "stream",
     "text": [
      "NDD20\n"
     ]
    },
    {
     "name": "stderr",
     "output_type": "stream",
     "text": [
      "100%|████████████████████████████████████████████████████████| 2657/2657 [00:00<00:00, 13279.85it/s]\n"
     ]
    },
    {
     "name": "stdout",
     "output_type": "stream",
     "text": [
      "NyalaData\n"
     ]
    },
    {
     "name": "stderr",
     "output_type": "stream",
     "text": [
      "100%|████████████████████████████████████████████████████████| 1942/1942 [00:00<00:00, 11994.74it/s]\n"
     ]
    },
    {
     "name": "stdout",
     "output_type": "stream",
     "text": [
      "OpenCows2020\n"
     ]
    },
    {
     "name": "stderr",
     "output_type": "stream",
     "text": [
      "100%|████████████████████████████████████████████████████████| 4736/4736 [00:00<00:00, 20419.43it/s]\n"
     ]
    },
    {
     "name": "stdout",
     "output_type": "stream",
     "text": [
      "PolarBearVidID\n"
     ]
    },
    {
     "name": "stderr",
     "output_type": "stream",
     "text": [
      "100%|██████████████████████████████████████████████████████| 13918/13918 [00:01<00:00, 12607.13it/s]\n"
     ]
    },
    {
     "name": "stdout",
     "output_type": "stream",
     "text": [
      "SealID\n"
     ]
    },
    {
     "name": "stderr",
     "output_type": "stream",
     "text": [
      "100%|████████████████████████████████████████████████████████| 2080/2080 [00:00<00:00, 11898.98it/s]"
     ]
    },
    {
     "name": "stdout",
     "output_type": "stream",
     "text": [
      "SeaStarReID2023\n"
     ]
    },
    {
     "name": "stderr",
     "output_type": "stream",
     "text": [
      "\n",
      "100%|████████████████████████████████████████████████████████| 2187/2187 [00:00<00:00, 20241.10it/s]\n"
     ]
    },
    {
     "name": "stdout",
     "output_type": "stream",
     "text": [
      "SeaTurtleID2022\n"
     ]
    },
    {
     "name": "stderr",
     "output_type": "stream",
     "text": [
      "100%|████████████████████████████████████████████████████████| 8729/8729 [00:00<00:00, 13891.41it/s]\n"
     ]
    },
    {
     "name": "stdout",
     "output_type": "stream",
     "text": [
      "SMALST\n"
     ]
    },
    {
     "name": "stderr",
     "output_type": "stream",
     "text": [
      "100%|██████████| 12850/12850 [00:00<00:00, 26450.90it/s]\n"
     ]
    },
    {
     "name": "stdout",
     "output_type": "stream",
     "text": [
      "StripeSpotter\n"
     ]
    },
    {
     "name": "stderr",
     "output_type": "stream",
     "text": [
      "100%|██████████████████████████████████████████████████████████| 820/820 [00:00<00:00, 22207.70it/s]\n"
     ]
    },
    {
     "name": "stdout",
     "output_type": "stream",
     "text": [
      "WhaleSharkID\n"
     ]
    },
    {
     "name": "stderr",
     "output_type": "stream",
     "text": [
      "100%|████████████████████████████████████████████████████████| 7693/7693 [00:00<00:00, 14318.21it/s]\n"
     ]
    },
    {
     "name": "stdout",
     "output_type": "stream",
     "text": [
      "ZindiTurtleRecall\n"
     ]
    },
    {
     "name": "stderr",
     "output_type": "stream",
     "text": [
      "100%|██████████████████████████████████████████████████████| 12803/12803 [00:00<00:00, 21016.41it/s]\n"
     ]
    }
   ],
   "source": [
    "for name, prepare in prepare_functions.items():\n",
    "    print(name)\n",
    "    os.makedirs(f'{new_root_metadata}/{name}/', exist_ok=True)\n",
    "    metadata = prepare(size=size, root=f'{datasets_folder}/{name}', new_root=f'{new_root_images}/{name}', copy_files=copy_files)\n",
    "    metadata.to_csv(f'{new_root_metadata}/{name}/metadata.csv', index=False)"
   ]
  },
  {
   "cell_type": "code",
   "execution_count": 6,
   "id": "43bdeef1",
   "metadata": {},
   "outputs": [],
   "source": [
    "features = np.load('features/features_dino.npy')\n",
    "for i in range(len(features)):\n",
    "    features[i] /= np.linalg.norm(features[i])"
   ]
  },
  {
   "cell_type": "code",
   "execution_count": 7,
   "id": "29de03f8",
   "metadata": {},
   "outputs": [
    {
     "name": "stdout",
     "output_type": "stream",
     "text": [
      "AAUZebraFish\n"
     ]
    },
    {
     "name": "stderr",
     "output_type": "stream",
     "text": [
      "100%|██████████| 6/6 [00:01<00:00,  3.24it/s]\n"
     ]
    },
    {
     "name": "stdout",
     "output_type": "stream",
     "text": [
      "AerialCattle2017\n"
     ]
    },
    {
     "name": "stderr",
     "output_type": "stream",
     "text": [
      "100%|██████████| 23/23 [00:04<00:00,  5.74it/s]\n"
     ]
    },
    {
     "name": "stdout",
     "output_type": "stream",
     "text": [
      "ATRW\n"
     ]
    },
    {
     "name": "stderr",
     "output_type": "stream",
     "text": [
      "100%|██████████| 182/182 [00:23<00:00,  7.64it/s]\n"
     ]
    },
    {
     "name": "stdout",
     "output_type": "stream",
     "text": [
      "BelugaID\n"
     ]
    },
    {
     "name": "stderr",
     "output_type": "stream",
     "text": [
      "100%|██████████| 788/788 [00:47<00:00, 16.60it/s]\n"
     ]
    },
    {
     "name": "stdout",
     "output_type": "stream",
     "text": [
      "BirdIndividualID\n"
     ]
    },
    {
     "name": "stderr",
     "output_type": "stream",
     "text": [
      "100%|██████████| 50/50 [00:24<00:00,  2.07it/s]\n"
     ]
    },
    {
     "name": "stdout",
     "output_type": "stream",
     "text": [
      "CatIndividualImages\n"
     ]
    },
    {
     "name": "stderr",
     "output_type": "stream",
     "text": [
      "100%|██████████| 509/509 [01:28<00:00,  5.76it/s]\n"
     ]
    },
    {
     "name": "stdout",
     "output_type": "stream",
     "text": [
      "CowDataset\n"
     ]
    },
    {
     "name": "stderr",
     "output_type": "stream",
     "text": [
      "100%|██████████| 13/13 [00:01<00:00,  6.87it/s]\n"
     ]
    },
    {
     "name": "stdout",
     "output_type": "stream",
     "text": [
      "Cows2021\n"
     ]
    },
    {
     "name": "stderr",
     "output_type": "stream",
     "text": [
      "100%|██████████| 179/179 [00:29<00:00,  6.05it/s]\n"
     ]
    },
    {
     "name": "stdout",
     "output_type": "stream",
     "text": [
      "CTai\n"
     ]
    },
    {
     "name": "stderr",
     "output_type": "stream",
     "text": [
      "100%|██████████| 71/71 [00:09<00:00,  7.49it/s]\n"
     ]
    },
    {
     "name": "stdout",
     "output_type": "stream",
     "text": [
      "CZoo\n"
     ]
    },
    {
     "name": "stderr",
     "output_type": "stream",
     "text": [
      "100%|██████████| 24/24 [00:03<00:00,  6.75it/s]\n"
     ]
    },
    {
     "name": "stdout",
     "output_type": "stream",
     "text": [
      "DogFaceNet\n"
     ]
    },
    {
     "name": "stderr",
     "output_type": "stream",
     "text": [
      "100%|██████████| 1393/1393 [00:44<00:00, 31.09it/s]\n"
     ]
    },
    {
     "name": "stdout",
     "output_type": "stream",
     "text": [
      "FriesianCattle2015\n"
     ]
    },
    {
     "name": "stderr",
     "output_type": "stream",
     "text": [
      "100%|██████████| 25/25 [00:00<00:00, 33.77it/s]\n"
     ]
    },
    {
     "name": "stdout",
     "output_type": "stream",
     "text": [
      "FriesianCattle2017\n"
     ]
    },
    {
     "name": "stderr",
     "output_type": "stream",
     "text": [
      "100%|██████████| 89/89 [00:04<00:00, 20.03it/s]\n"
     ]
    },
    {
     "name": "stdout",
     "output_type": "stream",
     "text": [
      "Giraffes\n"
     ]
    },
    {
     "name": "stderr",
     "output_type": "stream",
     "text": [
      "100%|██████████| 178/178 [00:06<00:00, 28.27it/s]\n"
     ]
    },
    {
     "name": "stdout",
     "output_type": "stream",
     "text": [
      "GiraffeZebraID\n"
     ]
    },
    {
     "name": "stderr",
     "output_type": "stream",
     "text": [
      "100%|██████████| 2056/2056 [00:39<00:00, 51.49it/s] \n"
     ]
    },
    {
     "name": "stdout",
     "output_type": "stream",
     "text": [
      "HyenaID2022\n"
     ]
    },
    {
     "name": "stderr",
     "output_type": "stream",
     "text": [
      "100%|██████████| 256/256 [00:13<00:00, 19.54it/s]\n"
     ]
    },
    {
     "name": "stdout",
     "output_type": "stream",
     "text": [
      "IPanda50\n"
     ]
    },
    {
     "name": "stderr",
     "output_type": "stream",
     "text": [
      "100%|██████████| 50/50 [00:07<00:00,  6.33it/s]\n"
     ]
    },
    {
     "name": "stdout",
     "output_type": "stream",
     "text": [
      "LeopardID2022\n"
     ]
    },
    {
     "name": "stderr",
     "output_type": "stream",
     "text": [
      "100%|██████████| 430/430 [00:17<00:00, 24.80it/s]\n"
     ]
    },
    {
     "name": "stdout",
     "output_type": "stream",
     "text": [
      "MPDD\n"
     ]
    },
    {
     "name": "stderr",
     "output_type": "stream",
     "text": [
      "100%|██████████| 191/191 [00:07<00:00, 26.78it/s]\n"
     ]
    },
    {
     "name": "stdout",
     "output_type": "stream",
     "text": [
      "NDD20\n"
     ]
    },
    {
     "name": "stderr",
     "output_type": "stream",
     "text": [
      "100%|██████████| 82/82 [00:12<00:00,  6.75it/s]\n"
     ]
    },
    {
     "name": "stdout",
     "output_type": "stream",
     "text": [
      "NyalaData\n"
     ]
    },
    {
     "name": "stderr",
     "output_type": "stream",
     "text": [
      "100%|██████████| 237/237 [00:10<00:00, 22.43it/s]\n"
     ]
    },
    {
     "name": "stdout",
     "output_type": "stream",
     "text": [
      "OpenCows2020\n"
     ]
    },
    {
     "name": "stderr",
     "output_type": "stream",
     "text": [
      "100%|██████████| 46/46 [00:07<00:00,  6.02it/s]\n"
     ]
    },
    {
     "name": "stdout",
     "output_type": "stream",
     "text": [
      "PolarBearVidID\n"
     ]
    },
    {
     "name": "stderr",
     "output_type": "stream",
     "text": [
      "100%|██████████| 13/13 [00:05<00:00,  2.56it/s]\n"
     ]
    },
    {
     "name": "stdout",
     "output_type": "stream",
     "text": [
      "SealID\n"
     ]
    },
    {
     "name": "stderr",
     "output_type": "stream",
     "text": [
      "100%|██████████| 57/57 [00:08<00:00,  6.70it/s]\n"
     ]
    },
    {
     "name": "stdout",
     "output_type": "stream",
     "text": [
      "SeaStarReID2023\n"
     ]
    },
    {
     "name": "stderr",
     "output_type": "stream",
     "text": [
      "100%|██████████| 95/95 [00:17<00:00,  5.56it/s]\n"
     ]
    },
    {
     "name": "stdout",
     "output_type": "stream",
     "text": [
      "SeaTurtleID2022\n"
     ]
    },
    {
     "name": "stderr",
     "output_type": "stream",
     "text": [
      "100%|██████████| 438/438 [00:47<00:00,  9.20it/s]\n"
     ]
    },
    {
     "name": "stdout",
     "output_type": "stream",
     "text": [
      "SMALST\n"
     ]
    },
    {
     "name": "stderr",
     "output_type": "stream",
     "text": [
      "100%|██████████| 10/10 [00:04<00:00,  2.36it/s]\n"
     ]
    },
    {
     "name": "stdout",
     "output_type": "stream",
     "text": [
      "StripeSpotter\n"
     ]
    },
    {
     "name": "stderr",
     "output_type": "stream",
     "text": [
      "100%|██████████| 45/45 [00:03<00:00, 14.33it/s]\n"
     ]
    },
    {
     "name": "stdout",
     "output_type": "stream",
     "text": [
      "WhaleSharkID\n"
     ]
    },
    {
     "name": "stderr",
     "output_type": "stream",
     "text": [
      "100%|██████████| 543/543 [00:36<00:00, 15.08it/s]\n"
     ]
    },
    {
     "name": "stdout",
     "output_type": "stream",
     "text": [
      "ZindiTurtleRecall\n"
     ]
    },
    {
     "name": "stderr",
     "output_type": "stream",
     "text": [
      "100%|██████████| 2265/2265 [01:15<00:00, 29.84it/s]\n"
     ]
    }
   ],
   "source": [
    "for name in prepare_functions:\n",
    "    print(name)\n",
    "    metadata = pd.read_csv(f'{new_root_metadata}/{name}/metadata.csv')\n",
    "\n",
    "    splitter = splits.OpenSetSplit(0.8, 0.1, seed=666)\n",
    "    idx_train0, idx_test0 = splitter.split(metadata)[0]\n",
    "    idx_train, idx_test = splitter.resplit_by_features(metadata, features[metadata.index], idx_train0, save_clusters_prefix=f'{save_clusters_prefix}_{name}')\n",
    "\n",
    "    metadata.loc[metadata.index[idx_train], 'split'] = 'train'\n",
    "    metadata.loc[metadata.index[idx_test], 'split'] = 'test'\n",
    "\n",
    "    metadata.to_csv(f'{new_root_metadata}/{name}/metadata2.csv', index=False)"
   ]
  },
  {
   "cell_type": "code",
   "execution_count": 8,
   "id": "9f70df01",
   "metadata": {},
   "outputs": [],
   "source": [
    "results = []\n",
    "for name in prepare_functions:\n",
    "    metadata = pd.read_csv(f'{new_root_metadata}/{name}/metadata2.csv')\n",
    "\n",
    "    df = metadata.copy()\n",
    "    df['image_id'] = [f'{name}_{str(i).zfill(6)}' for i in range(len(metadata))]\n",
    "    df['dataset'] = name\n",
    "    df['identity'] = name + '_' + df['identity'].astype(str)\n",
    "    df['path'] = name + '/' + df['path']\n",
    "    df['species'] = df['species'].apply(lambda x: species_conversion[x])\n",
    "    results.append(df)\n",
    "\n",
    "combined_all = pd.concat(results).reset_index(drop=True)\n",
    "idx = ~combined_all['date'].isnull()\n",
    "idx = combined_all.index[idx]\n",
    "combined_all.loc[idx, 'date'] = pd.to_datetime(combined_all.loc[idx, 'date'].astype(str).apply(lambda x: x[:10]), format='%Y-%m-%d')\n",
    "combined_all['orientation'] = combined_all['orientation'].replace({'below': 'down', 'up': 'top', 'above': 'top'})\n",
    "d = datasets.DatasetFactory(new_root_images, df=combined_all)\n",
    "combined_all = d.finalize_catalogue(d.df)\n",
    "combined_all.to_csv(f'{new_root}/metadata.csv', index=False)"
   ]
  }
 ],
 "metadata": {
  "kernelspec": {
   "display_name": "Python 3 (ipykernel)",
   "language": "python",
   "name": "python3"
  },
  "language_info": {
   "codemirror_mode": {
    "name": "ipython",
    "version": 3
   },
   "file_extension": ".py",
   "mimetype": "text/x-python",
   "name": "python",
   "nbconvert_exporter": "python",
   "pygments_lexer": "ipython3",
   "version": "3.10.12"
  }
 },
 "nbformat": 4,
 "nbformat_minor": 5
}
