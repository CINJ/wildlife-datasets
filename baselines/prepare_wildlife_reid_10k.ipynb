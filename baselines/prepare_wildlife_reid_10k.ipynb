{
 "cells": [
  {
   "cell_type": "code",
   "execution_count": 1,
   "id": "75c2d079",
   "metadata": {},
   "outputs": [],
   "source": [
    "import sys\n",
    "sys.path.insert(0, '../../wildlife-tools')\n",
    "sys.path.insert(0, '..')\n",
    "\n",
    "import pandas as pd\n",
    "from prepare_wildlife_reid_10k import *\n",
    "from wildlife_datasets import splits"
   ]
  },
  {
   "cell_type": "code",
   "execution_count": 2,
   "id": "a646b0ee",
   "metadata": {},
   "outputs": [],
   "source": [
    "prepare_functions = {\n",
    "    'AAUZebraFish': prepare_aau_zebrafish,\n",
    "    'AerialCattle2017': prepare_aerial_cattle_2017,\n",
    "    'ATRW': prepare_atrw,\n",
    "    'BelugaID': prepare_beluga_id,\n",
    "    'BirdIndividualID': prepare_bird_individual_id,\n",
    "    'CatIndividualImages': prepare_cat_individual_images,\n",
    "    'CowDataset': prepare_cow_dataset,\n",
    "    'Cows2021': prepare_cows2021,\n",
    "    'CTai': prepare_ctai,\n",
    "    'CZoo': prepare_czoo,\n",
    "    'DogFaceNet': prepare_dog_facenet,\n",
    "    'FriesianCattle2015': prepare_friesian_cattle_2015,\n",
    "    'FriesianCattle2017': prepare_friesian_cattle_2017,\n",
    "    'Giraffes': prepare_giraffes,\n",
    "    'GiraffeZebraID': prepare_giraffe_zebra_id,\n",
    "    'HyenaID2022': prepare_hyena_id_2022,\n",
    "    'IPanda50': prepare_ipanda_50,\n",
    "    'LeopardID2022': prepare_leopard_id_2022,\n",
    "    'MPDD': prepare_mpdd,\n",
    "    'NDD20': prepare_ndd20,\n",
    "    'NyalaData': prepare_nyala_data,\n",
    "    'OpenCows2020': prepare_open_cows_2020,\n",
    "    'PolarBearVidID': prepare_polar_bear_vidid,\n",
    "    'SealID': prepare_seal_id,\n",
    "    'SeaStarReID2023': prepare_sea_star_reid_2023,\n",
    "    'SeaTurtleID2022': prepare_sea_turtle_id_2022,\n",
    "    'SMALST': prepare_smalst,\n",
    "    'StripeSpotter': prepare_stripe_spotter,\n",
    "    'WhaleSharkID': prepare_whaleshark_id,\n",
    "    'ZindiTurtleRecall': prepare_zindi_turtle_recall,\n",
    "}"
   ]
  },
  {
   "cell_type": "code",
   "execution_count": 3,
   "id": "9b0c8664",
   "metadata": {},
   "outputs": [],
   "source": [
    "species_conversion = {\n",
    "    'Anthenea australiae': 'sea star',\n",
    "    'Asteria rubens': 'sea star',\n",
    "    'BND': 'doplhin',\n",
    "    'Friesian cattle': 'cow',\n",
    "    'WBD': 'doplhin',\n",
    "    'amur tiger': 'tiger',\n",
    "    'beluga whale': 'whale',\n",
    "    'cat': 'cat',\n",
    "    'chimpanzee': 'chimpanzee',\n",
    "    'cow': 'cow',\n",
    "    'dog': 'dog',\n",
    "    'giraffe': 'giraffe',\n",
    "    'giraffe_masai': 'giraffe',\n",
    "    'great panda': 'panda',\n",
    "    'great_tits': 'bird',\n",
    "    'leopard': 'leopard',\n",
    "    'loggerhead turtle': 'sea turtle',\n",
    "    'nyala': 'nyala',\n",
    "    'polar bear': 'polar bear',\n",
    "    'ringed seal': 'seal',\n",
    "    'sea turtle': 'sea turtle',\n",
    "    'sociable_weavers': 'bird',\n",
    "    'spotted hyena': 'hyena',\n",
    "    'whale shark': 'shark',\n",
    "    'zebra': 'zebra',\n",
    "    'zebra_finch': 'zebra',\n",
    "    'zebra_plains': 'zebra',\n",
    "    'zebrafish': 'fish',\n",
    "}"
   ]
  },
  {
   "cell_type": "code",
   "execution_count": 4,
   "id": "4d562243",
   "metadata": {},
   "outputs": [],
   "source": [
    "#datasets_folder = '../data'\n",
    "datasets_folder = '/data/wildlife_datasets/data'\n",
    "new_root = os.path.join(datasets_folder, 'WildlifeReID-10k')\n",
    "new_root_images = os.path.join(new_root, 'images')\n",
    "new_root_metadata = os.path.join(new_root, 'metadata')\n",
    "size = None\n",
    "copy_files = False"
   ]
  },
  {
   "cell_type": "code",
   "execution_count": 5,
   "id": "08e1236c",
   "metadata": {},
   "outputs": [
    {
     "name": "stdout",
     "output_type": "stream",
     "text": [
      "AAUZebraFish\n"
     ]
    },
    {
     "name": "stderr",
     "output_type": "stream",
     "text": [
      "100%|████████████████████████████████████████████████████████| 6672/6672 [00:00<00:00, 13217.33it/s]\n"
     ]
    },
    {
     "name": "stdout",
     "output_type": "stream",
     "text": [
      "AerialCattle2017\n"
     ]
    },
    {
     "name": "stderr",
     "output_type": "stream",
     "text": [
      "100%|██████████████████████████████████████████████████████| 46340/46340 [00:03<00:00, 14615.25it/s]\n"
     ]
    },
    {
     "name": "stdout",
     "output_type": "stream",
     "text": [
      "ATRW\n"
     ]
    },
    {
     "name": "stderr",
     "output_type": "stream",
     "text": [
      "100%|████████████████████████████████████████████████████████| 5415/5415 [00:00<00:00, 13406.79it/s]\n"
     ]
    },
    {
     "name": "stdout",
     "output_type": "stream",
     "text": [
      "BelugaID\n"
     ]
    },
    {
     "name": "stderr",
     "output_type": "stream",
     "text": [
      "100%|████████████████████████████████████████████████████████| 8559/8559 [00:00<00:00, 14936.32it/s]\n"
     ]
    },
    {
     "name": "stdout",
     "output_type": "stream",
     "text": [
      "BirdIndividualID\n"
     ]
    },
    {
     "name": "stderr",
     "output_type": "stream",
     "text": [
      "100%|██████████████████████████████████████████████████████| 52274/52274 [00:02<00:00, 25025.32it/s]\n"
     ]
    },
    {
     "name": "stdout",
     "output_type": "stream",
     "text": [
      "CatIndividualImages\n"
     ]
    },
    {
     "name": "stderr",
     "output_type": "stream",
     "text": [
      "100%|██████████████████████████████████████████████████████| 13021/13021 [00:00<00:00, 14761.15it/s]\n"
     ]
    },
    {
     "name": "stdout",
     "output_type": "stream",
     "text": [
      "CowDataset\n"
     ]
    },
    {
     "name": "stderr",
     "output_type": "stream",
     "text": [
      "100%|████████████████████████████████████████████████████████| 1485/1485 [00:00<00:00, 14408.18it/s]\n"
     ]
    },
    {
     "name": "stdout",
     "output_type": "stream",
     "text": [
      "Cows2021\n"
     ]
    },
    {
     "name": "stderr",
     "output_type": "stream",
     "text": [
      "100%|████████████████████████████████████████████████████████| 8670/8670 [00:00<00:00, 13750.18it/s]\n"
     ]
    },
    {
     "name": "stdout",
     "output_type": "stream",
     "text": [
      "CTai\n"
     ]
    },
    {
     "name": "stderr",
     "output_type": "stream",
     "text": [
      "100%|████████████████████████████████████████████████████████| 4662/4662 [00:00<00:00, 13662.37it/s]\n"
     ]
    },
    {
     "name": "stdout",
     "output_type": "stream",
     "text": [
      "CZoo\n"
     ]
    },
    {
     "name": "stderr",
     "output_type": "stream",
     "text": [
      "100%|████████████████████████████████████████████████████████| 2109/2109 [00:00<00:00, 14317.21it/s]\n"
     ]
    },
    {
     "name": "stdout",
     "output_type": "stream",
     "text": [
      "DogFaceNet\n"
     ]
    },
    {
     "name": "stderr",
     "output_type": "stream",
     "text": [
      "100%|████████████████████████████████████████████████████████| 8363/8363 [00:00<00:00, 14381.79it/s]\n"
     ]
    },
    {
     "name": "stdout",
     "output_type": "stream",
     "text": [
      "FriesianCattle2015\n"
     ]
    },
    {
     "name": "stderr",
     "output_type": "stream",
     "text": [
      "100%|██████████████████████████████████████████████████████████| 193/193 [00:00<00:00, 14076.31it/s]\n"
     ]
    },
    {
     "name": "stdout",
     "output_type": "stream",
     "text": [
      "FriesianCattle2017\n"
     ]
    },
    {
     "name": "stderr",
     "output_type": "stream",
     "text": [
      "100%|██████████████████████████████████████████████████████████| 940/940 [00:00<00:00, 14258.29it/s]\n"
     ]
    },
    {
     "name": "stdout",
     "output_type": "stream",
     "text": [
      "Giraffes\n"
     ]
    },
    {
     "name": "stderr",
     "output_type": "stream",
     "text": [
      "100%|████████████████████████████████████████████████████████| 1393/1393 [00:00<00:00, 24536.64it/s]"
     ]
    },
    {
     "name": "stdout",
     "output_type": "stream",
     "text": [
      "GiraffeZebraID\n"
     ]
    },
    {
     "name": "stderr",
     "output_type": "stream",
     "text": [
      "\n",
      "100%|████████████████████████████████████████████████████████| 6925/6925 [00:00<00:00, 15249.29it/s]\n"
     ]
    },
    {
     "name": "stdout",
     "output_type": "stream",
     "text": [
      "HyenaID2022\n"
     ]
    },
    {
     "name": "stderr",
     "output_type": "stream",
     "text": [
      "100%|████████████████████████████████████████████████████████| 3129/3129 [00:00<00:00, 15222.14it/s]\n"
     ]
    },
    {
     "name": "stdout",
     "output_type": "stream",
     "text": [
      "IPanda50\n"
     ]
    },
    {
     "name": "stderr",
     "output_type": "stream",
     "text": [
      "100%|████████████████████████████████████████████████████████| 6874/6874 [00:00<00:00, 25019.37it/s]\n"
     ]
    },
    {
     "name": "stdout",
     "output_type": "stream",
     "text": [
      "LeopardID2022\n"
     ]
    },
    {
     "name": "stderr",
     "output_type": "stream",
     "text": [
      "100%|████████████████████████████████████████████████████████| 6806/6806 [00:00<00:00, 15296.44it/s]\n"
     ]
    },
    {
     "name": "stdout",
     "output_type": "stream",
     "text": [
      "MPDD\n"
     ]
    },
    {
     "name": "stderr",
     "output_type": "stream",
     "text": [
      "100%|████████████████████████████████████████████████████████| 1657/1657 [00:00<00:00, 13550.17it/s]\n"
     ]
    },
    {
     "name": "stdout",
     "output_type": "stream",
     "text": [
      "NDD20\n"
     ]
    },
    {
     "name": "stderr",
     "output_type": "stream",
     "text": [
      "100%|████████████████████████████████████████████████████████| 2657/2657 [00:00<00:00, 15594.37it/s]\n"
     ]
    },
    {
     "name": "stdout",
     "output_type": "stream",
     "text": [
      "NyalaData\n"
     ]
    },
    {
     "name": "stderr",
     "output_type": "stream",
     "text": [
      "100%|████████████████████████████████████████████████████████| 1942/1942 [00:00<00:00, 13682.58it/s]\n"
     ]
    },
    {
     "name": "stdout",
     "output_type": "stream",
     "text": [
      "OpenCows2020\n"
     ]
    },
    {
     "name": "stderr",
     "output_type": "stream",
     "text": [
      "100%|████████████████████████████████████████████████████████| 4736/4736 [00:00<00:00, 25251.92it/s]\n"
     ]
    },
    {
     "name": "stdout",
     "output_type": "stream",
     "text": [
      "PolarBearVidID\n"
     ]
    },
    {
     "name": "stderr",
     "output_type": "stream",
     "text": [
      "100%|██████████████████████████████████████████████████████| 13918/13918 [00:00<00:00, 14677.46it/s]\n"
     ]
    },
    {
     "name": "stdout",
     "output_type": "stream",
     "text": [
      "SealID\n"
     ]
    },
    {
     "name": "stderr",
     "output_type": "stream",
     "text": [
      "100%|████████████████████████████████████████████████████████| 2080/2080 [00:00<00:00, 13405.36it/s]\n"
     ]
    },
    {
     "name": "stdout",
     "output_type": "stream",
     "text": [
      "SeaStarReID2023\n"
     ]
    },
    {
     "name": "stderr",
     "output_type": "stream",
     "text": [
      "100%|████████████████████████████████████████████████████████| 2187/2187 [00:00<00:00, 24506.67it/s]\n"
     ]
    },
    {
     "name": "stdout",
     "output_type": "stream",
     "text": [
      "SeaTurtleID2022\n"
     ]
    },
    {
     "name": "stderr",
     "output_type": "stream",
     "text": [
      "100%|████████████████████████████████████████████████████████| 8729/8729 [00:00<00:00, 14824.32it/s]\n"
     ]
    },
    {
     "name": "stdout",
     "output_type": "stream",
     "text": [
      "SMALST\n"
     ]
    },
    {
     "name": "stderr",
     "output_type": "stream",
     "text": [
      "100%|██████████| 12850/12850 [00:00<00:00, 33110.84it/s]\n"
     ]
    },
    {
     "name": "stdout",
     "output_type": "stream",
     "text": [
      "StripeSpotter\n"
     ]
    },
    {
     "name": "stderr",
     "output_type": "stream",
     "text": [
      "100%|██████████████████████████████████████████████████████████| 820/820 [00:00<00:00, 24092.87it/s]\n"
     ]
    },
    {
     "name": "stdout",
     "output_type": "stream",
     "text": [
      "WhaleSharkID\n"
     ]
    },
    {
     "name": "stderr",
     "output_type": "stream",
     "text": [
      "100%|████████████████████████████████████████████████████████| 7693/7693 [00:00<00:00, 15063.85it/s]\n"
     ]
    },
    {
     "name": "stdout",
     "output_type": "stream",
     "text": [
      "ZindiTurtleRecall\n"
     ]
    },
    {
     "name": "stderr",
     "output_type": "stream",
     "text": [
      "100%|██████████████████████████████████████████████████████| 12803/12803 [00:00<00:00, 24104.21it/s]\n"
     ]
    }
   ],
   "source": [
    "for name, prepare in prepare_functions.items():\n",
    "    print(name)\n",
    "    os.makedirs(f'{new_root_metadata}/{name}/', exist_ok=True)\n",
    "    metadata = prepare(size=size, root=f'{datasets_folder}/{name}', new_root=f'{new_root_images}/{name}', copy_files=copy_files)\n",
    "    metadata.to_csv(f'{new_root_metadata}/{name}/metadata.csv', index=False)"
   ]
  },
  {
   "cell_type": "code",
   "execution_count": 6,
   "id": "29de03f8",
   "metadata": {},
   "outputs": [],
   "source": [
    "for name in prepare_functions:\n",
    "    metadata = pd.read_csv(f'{new_root_metadata}/{name}/metadata.csv')\n",
    "    if name == 'NDD20':\n",
    "        metadata['identity'] = metadata['identity'].astype(str)\n",
    "\n",
    "    splitter = splits.ClosedSetSplit(0.8, seed=666)\n",
    "    idx_train, idx_test = splitter.split(metadata)[0]\n",
    "\n",
    "    metadata.loc[metadata.index[idx_train], 'split'] = 'train'\n",
    "    metadata.loc[metadata.index[idx_test], 'split'] = 'test'\n",
    "\n",
    "    metadata.to_csv(f'{new_root_metadata}/{name}/metadata2.csv', index=False)"
   ]
  },
  {
   "cell_type": "code",
   "execution_count": 7,
   "id": "9f70df01",
   "metadata": {},
   "outputs": [],
   "source": [
    "results = []\n",
    "for name in prepare_functions:\n",
    "    metadata = pd.read_csv(f'{new_root_metadata}/{name}/metadata2.csv')\n",
    "\n",
    "    df = metadata.copy()\n",
    "    df['image_id'] = [f'{name}_{str(i).zfill(6)}' for i in range(len(metadata))]\n",
    "    df['dataset'] = name\n",
    "    df['identity'] = name + '_' + df['identity'].astype(str)\n",
    "    df['path'] = name + '/' + df['path']\n",
    "    df['species'] = df['species'].apply(lambda x: species_conversion[x])\n",
    "    results.append(df)\n",
    "\n",
    "combined_all = pd.concat(results)\n",
    "d = datasets.DatasetFactory(new_root_images, df=combined_all)\n",
    "combined_all = d.finalize_catalogue(d.df)\n",
    "combined_all.to_csv(f'{new_root}/metadata.csv', index=False)"
   ]
  },
  {
   "cell_type": "code",
   "execution_count": 8,
   "id": "e88e59b9",
   "metadata": {},
   "outputs": [
    {
     "name": "stdout",
     "output_type": "stream",
     "text": [
      "    AAUZebraFish\n",
      "    ATRW\n",
      "    AerialCattle2017\n",
      "    BelugaID\n",
      "Series identity have different lengths\n",
      "Series path have different lengths\n",
      "Series split have different lengths\n",
      "    BirdIndividualID\n",
      "    CTai\n",
      "    CZoo\n",
      "    Cows2021\n",
      "Series identity have different lengths\n",
      "Series path have different lengths\n",
      "Series split have different lengths\n",
      "    FriesianCattle2015\n",
      "Series identity have different lengths\n",
      "Series path have different lengths\n",
      "Series split have different lengths\n",
      "    FriesianCattle2017\n",
      "    GiraffeZebraID\n",
      "    Giraffes\n",
      "    HyenaID2022\n",
      "    IPanda50\n",
      "Series path differ at some values\n",
      "    LeopardID2022\n",
      "    NDD20\n",
      "    NyalaData\n",
      "    OpenCows2020\n",
      "    SMALST\n",
      "    SealID\n",
      "    StripeSpotter\n",
      "    WhaleSharkID\n",
      "    ZindiTurtleRecall\n"
     ]
    }
   ],
   "source": [
    "def compare_series(ser1, ser2, name=''):\n",
    "    ser1 = ser1.to_numpy()\n",
    "    ser2 = ser2.to_numpy()\n",
    "    if len(ser1) != len(ser2):\n",
    "        print(f'Series {name} have different lengths')\n",
    "    else:\n",
    "        if np.sum(ser1 != ser2) > 0:\n",
    "            print(f'Series {name} differ at some values')\n",
    "\n",
    "df_old = pd.read_csv('megadescriptor_split.csv')\n",
    "df_new = pd.read_csv(f'{new_root}/metadata.csv')\n",
    "\n",
    "for dataset, df_old_part in df_old.groupby('dataset'):\n",
    "    if dataset in prepare_functions:\n",
    "        print('    ' + dataset)\n",
    "        df_new_part = df_new[df_new['dataset'] == dataset]\n",
    "        df_new_part = df_new_part[df_new_part['split'] == 'train']\n",
    "        \n",
    "        for col in ['identity', 'path', 'split']:            \n",
    "            compare_series(df_old_part[col], df_new_part[col], name=col)"
   ]
  },
  {
   "cell_type": "code",
   "execution_count": 9,
   "id": "67210d8a",
   "metadata": {},
   "outputs": [
    {
     "data": {
      "text/html": [
       "<div>\n",
       "<style scoped>\n",
       "    .dataframe tbody tr th:only-of-type {\n",
       "        vertical-align: middle;\n",
       "    }\n",
       "\n",
       "    .dataframe tbody tr th {\n",
       "        vertical-align: top;\n",
       "    }\n",
       "\n",
       "    .dataframe thead th {\n",
       "        text-align: right;\n",
       "    }\n",
       "</style>\n",
       "<table border=\"1\" class=\"dataframe\">\n",
       "  <thead>\n",
       "    <tr style=\"text-align: right;\">\n",
       "      <th></th>\n",
       "      <th>path_old</th>\n",
       "      <th>path_new</th>\n",
       "    </tr>\n",
       "  </thead>\n",
       "  <tbody>\n",
       "  </tbody>\n",
       "</table>\n",
       "</div>"
      ],
      "text/plain": [
       "Empty DataFrame\n",
       "Columns: [path_old, path_new]\n",
       "Index: []"
      ]
     },
     "metadata": {},
     "output_type": "display_data"
    },
    {
     "data": {
      "text/html": [
       "<div>\n",
       "<style scoped>\n",
       "    .dataframe tbody tr th:only-of-type {\n",
       "        vertical-align: middle;\n",
       "    }\n",
       "\n",
       "    .dataframe tbody tr th {\n",
       "        vertical-align: top;\n",
       "    }\n",
       "\n",
       "    .dataframe thead th {\n",
       "        text-align: right;\n",
       "    }\n",
       "</style>\n",
       "<table border=\"1\" class=\"dataframe\">\n",
       "  <thead>\n",
       "    <tr style=\"text-align: right;\">\n",
       "      <th></th>\n",
       "      <th>path_old</th>\n",
       "      <th>path_new</th>\n",
       "    </tr>\n",
       "  </thead>\n",
       "  <tbody>\n",
       "    <tr>\n",
       "      <th>0</th>\n",
       "      <td>49_yuanrun/49_20150303-110300_س×ؤê_ش°بَ±كؤس...</td>\n",
       "      <td>49_yuanrun/49_20150303-110300_e__1655_00a704e4...</td>\n",
       "    </tr>\n",
       "    <tr>\n",
       "      <th>1</th>\n",
       "      <td>49_yuanrun/49_20150403-094000_幼年园_园润_找竹笋吃找到了奥莉...</td>\n",
       "      <td>49_yuanrun/49_20150403-094000____1890_0167f91b...</td>\n",
       "    </tr>\n",
       "    <tr>\n",
       "      <th>2</th>\n",
       "      <td>05_chengjiu/05_20160730-075820_1号别墅_成就屁股挂个竹子下水...</td>\n",
       "      <td>05_chengjiu/05_20160730-075820_1__125_094a0eef...</td>\n",
       "    </tr>\n",
       "    <tr>\n",
       "      <th>3</th>\n",
       "      <td>49_yuanrun/49_20150403-094000_幼年园_园润_找竹笋吃找到了奥莉...</td>\n",
       "      <td>49_yuanrun/49_20150403-094000____190_0a030ca1f...</td>\n",
       "    </tr>\n",
       "    <tr>\n",
       "      <th>4</th>\n",
       "      <td>05_chengjiu/05_20160730-075820_1号别墅_成就屁股挂个竹子下水...</td>\n",
       "      <td>05_chengjiu/05_20160730-075820_1__185_0d722b90...</td>\n",
       "    </tr>\n",
       "    <tr>\n",
       "      <th>...</th>\n",
       "      <td>...</td>\n",
       "      <td>...</td>\n",
       "    </tr>\n",
       "    <tr>\n",
       "      <th>91</th>\n",
       "      <td>05_chengjiu/05_20160728-112100_一号别墅_成就抱着冰玩_432...</td>\n",
       "      <td>05_chengjiu/05_20160728-112100___4320_ed957d9a...</td>\n",
       "    </tr>\n",
       "    <tr>\n",
       "      <th>92</th>\n",
       "      <td>12_jingjing/12_20180208-133750_幼儿园_晶亮走过来和晶晶一起抢...</td>\n",
       "      <td>12_jingjing/12_20180208-133750___1_ee86adf7c25...</td>\n",
       "    </tr>\n",
       "    <tr>\n",
       "      <th>93</th>\n",
       "      <td>24_qixi/24_20160704-151500_幼年园_七喜抬脚挠痒_1835_f3c...</td>\n",
       "      <td>24_qixi/24_20160704-151500___1835_f3caa9c0051c...</td>\n",
       "    </tr>\n",
       "    <tr>\n",
       "      <th>94</th>\n",
       "      <td>05_chengjiu/05_20160728-111100_一号别墅_成就玩冰超开心_26...</td>\n",
       "      <td>05_chengjiu/05_20160728-111100___2625_f5cb2f38...</td>\n",
       "    </tr>\n",
       "    <tr>\n",
       "      <th>95</th>\n",
       "      <td>05_chengjiu/05_20160728-112100_一号别墅_成就抱着冰玩_347...</td>\n",
       "      <td>05_chengjiu/05_20160728-112100___3470_ffe2054e...</td>\n",
       "    </tr>\n",
       "  </tbody>\n",
       "</table>\n",
       "<p>96 rows × 2 columns</p>\n",
       "</div>"
      ],
      "text/plain": [
       "                                             path_old  \\\n",
       "0   49_yuanrun/49_20150303-110300_س×ؤê_ش°بَ±كؤس...   \n",
       "1   49_yuanrun/49_20150403-094000_幼年园_园润_找竹笋吃找到了奥莉...   \n",
       "2   05_chengjiu/05_20160730-075820_1号别墅_成就屁股挂个竹子下水...   \n",
       "3   49_yuanrun/49_20150403-094000_幼年园_园润_找竹笋吃找到了奥莉...   \n",
       "4   05_chengjiu/05_20160730-075820_1号别墅_成就屁股挂个竹子下水...   \n",
       "..                                                ...   \n",
       "91  05_chengjiu/05_20160728-112100_一号别墅_成就抱着冰玩_432...   \n",
       "92  12_jingjing/12_20180208-133750_幼儿园_晶亮走过来和晶晶一起抢...   \n",
       "93  24_qixi/24_20160704-151500_幼年园_七喜抬脚挠痒_1835_f3c...   \n",
       "94  05_chengjiu/05_20160728-111100_一号别墅_成就玩冰超开心_26...   \n",
       "95  05_chengjiu/05_20160728-112100_一号别墅_成就抱着冰玩_347...   \n",
       "\n",
       "                                             path_new  \n",
       "0   49_yuanrun/49_20150303-110300_e__1655_00a704e4...  \n",
       "1   49_yuanrun/49_20150403-094000____1890_0167f91b...  \n",
       "2   05_chengjiu/05_20160730-075820_1__125_094a0eef...  \n",
       "3   49_yuanrun/49_20150403-094000____190_0a030ca1f...  \n",
       "4   05_chengjiu/05_20160730-075820_1__185_0d722b90...  \n",
       "..                                                ...  \n",
       "91  05_chengjiu/05_20160728-112100___4320_ed957d9a...  \n",
       "92  12_jingjing/12_20180208-133750___1_ee86adf7c25...  \n",
       "93  24_qixi/24_20160704-151500___1835_f3caa9c0051c...  \n",
       "94  05_chengjiu/05_20160728-111100___2625_f5cb2f38...  \n",
       "95  05_chengjiu/05_20160728-112100___3470_ffe2054e...  \n",
       "\n",
       "[96 rows x 2 columns]"
      ]
     },
     "metadata": {},
     "output_type": "display_data"
    }
   ],
   "source": [
    "for dataset, df_old_part in df_old.groupby('dataset'):\n",
    "    if dataset in ['Giraffes', 'IPanda50']:\n",
    "        df_new_part = df_new[df_new['dataset'] == dataset]\n",
    "        df_new_part = df_new_part[df_new_part['split'] == 'train']\n",
    "        old_path = df_old_part['path']\n",
    "        new_path = df_new_part['path']\n",
    "        if dataset == 'Giraffes':\n",
    "            old_path = old_path.apply(lambda x: ('/').join(x.split('/')[-3:]))\n",
    "            new_path = new_path.apply(lambda x: ('/').join(x.split('/')[-3:]))\n",
    "        elif dataset == 'IPanda50':\n",
    "            old_path = old_path.apply(lambda x: ('/').join(x.split('/')[2:]))\n",
    "            new_path = new_path.apply(lambda x: ('/').join(x.split('/')[2:]))\n",
    "        idx = old_path.to_numpy() != new_path.to_numpy()\n",
    "        display(pd.DataFrame({'path_old': old_path.iloc[idx].values, 'path_new': new_path.iloc[idx].values}))"
   ]
  }
 ],
 "metadata": {
  "kernelspec": {
   "display_name": "Python 3 (ipykernel)",
   "language": "python",
   "name": "python3"
  },
  "language_info": {
   "codemirror_mode": {
    "name": "ipython",
    "version": 3
   },
   "file_extension": ".py",
   "mimetype": "text/x-python",
   "name": "python",
   "nbconvert_exporter": "python",
   "pygments_lexer": "ipython3",
   "version": "3.10.12"
  }
 },
 "nbformat": 4,
 "nbformat_minor": 5
}
