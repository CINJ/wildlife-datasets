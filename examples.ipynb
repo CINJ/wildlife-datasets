{
 "cells": [
  {
   "cell_type": "code",
   "execution_count": 1,
   "id": "a737ef95",
   "metadata": {},
   "outputs": [],
   "source": [
    "%load_ext autoreload\n",
    "%autoreload 2\n",
    "import pandas as pd"
   ]
  },
  {
   "cell_type": "markdown",
   "id": "01bc5389",
   "metadata": {},
   "source": [
    "## Download module\n",
    "- Download is done with context manager that uses download directory as cwd.\n",
    "    - Lot of repetetive code is reused.\n",
    "    - Functions then be easily used in code / jupyter notebooks without any path issues.\n",
    "- Download scripts are accessable from the 'dowload' namespace using dot notation.\n"
   ]
  },
  {
   "cell_type": "code",
   "execution_count": 2,
   "id": "6e77522c",
   "metadata": {},
   "outputs": [
    {
     "name": "stderr",
     "output_type": "stream",
     "text": [
      "10.txt.utf-8: 4.46MB [00:01, 2.72MB/s]                            \n"
     ]
    }
   ],
   "source": [
    "from wildlife_datasets import downloads\n",
    "\n",
    "# 'downloads' module contains all download scripts.\n",
    "downloads.friesian_cattle_2015\n",
    "\n",
    "# Then all download scripts can be used in code as follows:\n",
    "downloads.test.get_data('data/Test')"
   ]
  },
  {
   "cell_type": "markdown",
   "id": "b7e6b402",
   "metadata": {},
   "source": [
    "## Dataset module"
   ]
  },
  {
   "cell_type": "code",
   "execution_count": 3,
   "id": "d69d70f6",
   "metadata": {},
   "outputs": [
    {
     "name": "stderr",
     "output_type": "stream",
     "text": [
      "10.txt.utf-8: 4.46MB [00:01, 2.67MB/s]                            \n"
     ]
    }
   ],
   "source": [
    "from wildlife_datasets import datasets\n",
    "\n",
    "# Use download script from within dataset class\n",
    "datasets.Test.download.get_data('data/Test')"
   ]
  },
  {
   "cell_type": "markdown",
   "id": "35ef88ad",
   "metadata": {},
   "source": [
    "### Metadata\n",
    "- metadata are created as csv table:\n",
    "- metadata for each class are dictionary. Missing values should be handled via ***get('item', None)***"
   ]
  },
  {
   "cell_type": "code",
   "execution_count": 4,
   "id": "86425e60",
   "metadata": {},
   "outputs": [],
   "source": [
    "table = [\n",
    "    dict(    \n",
    "        name = 'AerialCattle2017',\n",
    "        licenses = 'Non-Commercial Government Licence for public sector information',\n",
    "        licenses_url = 'https://www.nationalarchives.gov.uk/doc/non-commercial-government-licence/version/2/',\n",
    "        url = 'https://data.bris.ac.uk/data/dataset/3owflku95bxsx24643cybxu3qh',\n",
    "        cite = 'andrew2017visual',\n",
    "        animals = ['Friesian cattle'],\n",
    "        real_animals = True,\n",
    "        year = 2017,\n",
    "        reported_n_total = 46340,\n",
    "        reported_n_identified = 46340,\n",
    "        reported_n_photos = 46340,\n",
    "        reported_n_individuals = 23,\n",
    "        wild = False,\n",
    "        clear_photos = True,\n",
    "        pose = 'single', # from the top\n",
    "        unique_pattern = True,\n",
    "        from_video = True,\n",
    "        full_frame = False,\n",
    "        ),\n",
    "    dict(\n",
    "        name = 'FriesianCattle2015',\n",
    "        licenses = 'Non-Commercial Government Licence for public sector information',\n",
    "        licenses_url = 'https://www.nationalarchives.gov.uk/doc/non-commercial-government-licence/version/2/',\n",
    "        url = 'https://data.bris.ac.uk/data/dataset/wurzq71kfm561ljahbwjhx9n3',\n",
    "        cite = 'andrew2016automatic',\n",
    "        animals = ['Friesian cattle'],\n",
    "        real_animals = True,\n",
    "        year = 2016,\n",
    "        reported_n_total = 83+294, # train+test\n",
    "        reported_n_identified = 83+294, # train+test\n",
    "        reported_n_photos = 83+294, # train+test\n",
    "        reported_n_individuals = 40,\n",
    "        wild = False,\n",
    "        clear_photos = True,\n",
    "        pose = 'single', # from the top\n",
    "        unique_pattern = True,\n",
    "        from_video = True,\n",
    "        full_frame = False,\n",
    "        span = '1 day',\n",
    "        comments = (\n",
    "            'reported_n_total: 83 train + 294 test. '\n",
    "            'reported_n_identified: 83 train + 294 test. '\n",
    "            'reported_n_photos: 83 train + 294 test. '\n",
    "            )\n",
    "    ),\n",
    "    dict(\n",
    "        name='Test',\n",
    "    )\n",
    "]\n",
    "\n",
    "df = pd.DataFrame(table)\n",
    "df = df.set_index('name')\n",
    "df.to_csv('wildlife_datasets/datasets/metadata.csv')"
   ]
  },
  {
   "cell_type": "code",
   "execution_count": 6,
   "id": "f9d3c8b0",
   "metadata": {},
   "outputs": [
    {
     "data": {
      "text/plain": [
       "{'licenses': 'Non-Commercial Government Licence for public sector information',\n",
       " 'licenses_url': 'https://www.nationalarchives.gov.uk/doc/non-commercial-government-licence/version/2/',\n",
       " 'url': 'https://data.bris.ac.uk/data/dataset/wurzq71kfm561ljahbwjhx9n3',\n",
       " 'cite': 'andrew2016automatic',\n",
       " 'animals': \"['Friesian cattle']\",\n",
       " 'real_animals': True,\n",
       " 'year': 2016.0,\n",
       " 'reported_n_total': 377.0,\n",
       " 'reported_n_identified': 377.0,\n",
       " 'reported_n_photos': 377.0,\n",
       " 'reported_n_individuals': 40.0,\n",
       " 'wild': False,\n",
       " 'clear_photos': True,\n",
       " 'pose': 'single',\n",
       " 'unique_pattern': True,\n",
       " 'from_video': True,\n",
       " 'full_frame': False,\n",
       " 'span': '1 day',\n",
       " 'comments': 'reported_n_total: 83 train + 294 test. reported_n_identified: 83 train + 294 test. reported_n_photos: 83 train + 294 test. '}"
      ]
     },
     "execution_count": 6,
     "metadata": {},
     "output_type": "execute_result"
    }
   ],
   "source": [
    "# this table is used in metadata object\n",
    "datasets.metadata['FriesianCattle2015']"
   ]
  },
  {
   "cell_type": "code",
   "execution_count": 7,
   "id": "e6382652",
   "metadata": {},
   "outputs": [
    {
     "data": {
      "text/plain": [
       "{'licenses': 'Non-Commercial Government Licence for public sector information',\n",
       " 'licenses_url': 'https://www.nationalarchives.gov.uk/doc/non-commercial-government-licence/version/2/',\n",
       " 'url': 'https://data.bris.ac.uk/data/dataset/wurzq71kfm561ljahbwjhx9n3',\n",
       " 'cite': 'andrew2016automatic',\n",
       " 'animals': \"['Friesian cattle']\",\n",
       " 'real_animals': True,\n",
       " 'year': 2016.0,\n",
       " 'reported_n_total': 377.0,\n",
       " 'reported_n_identified': 377.0,\n",
       " 'reported_n_photos': 377.0,\n",
       " 'reported_n_individuals': 40.0,\n",
       " 'wild': False,\n",
       " 'clear_photos': True,\n",
       " 'pose': 'single',\n",
       " 'unique_pattern': True,\n",
       " 'from_video': True,\n",
       " 'full_frame': False,\n",
       " 'span': '1 day',\n",
       " 'comments': 'reported_n_total: 83 train + 294 test. reported_n_identified: 83 train + 294 test. reported_n_photos: 83 train + 294 test. '}"
      ]
     },
     "execution_count": 7,
     "metadata": {},
     "output_type": "execute_result"
    }
   ],
   "source": [
    "# and is accessable as classatrribute\n",
    "datasets.FriesianCattle2015.metadata"
   ]
  },
  {
   "cell_type": "code",
   "execution_count": null,
   "id": "f2111edd",
   "metadata": {},
   "outputs": [],
   "source": []
  }
 ],
 "metadata": {
  "kernelspec": {
   "display_name": "Python 3",
   "language": "python",
   "name": "python3"
  },
  "language_info": {
   "codemirror_mode": {
    "name": "ipython",
    "version": 3
   },
   "file_extension": ".py",
   "mimetype": "text/x-python",
   "name": "python",
   "nbconvert_exporter": "python",
   "pygments_lexer": "ipython3",
   "version": "3.8.8"
  }
 },
 "nbformat": 4,
 "nbformat_minor": 5
}
