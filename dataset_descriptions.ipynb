{
 "cells": [
  {
   "cell_type": "code",
   "execution_count": 1,
   "id": "abc1ca4b",
   "metadata": {},
   "outputs": [],
   "source": [
    "import os\n",
    "import pandas as pd\n",
    "import hashlib\n",
    "import json\n",
    "\n",
    "\n",
    "def find_images(root, img_extensions = ('.png', '.jpg', '.jpeg')):\n",
    "    data = []\n",
    "    for path, directories, files in os.walk(root):\n",
    "        for file in files:\n",
    "            if file.lower().endswith(tuple(img_extensions)):\n",
    "                data.append({'path': os.path.relpath(path, start=root), 'file': file})\n",
    "    return pd.DataFrame(data)\n",
    "\n",
    "def create_id(string):\n",
    "    entity_id = string.apply(lambda x: hashlib.md5(x.encode()).hexdigest()[:16])\n",
    "    assert len(entity_id.unique()) == len(entity_id)\n",
    "    return entity_id"
   ]
  },
  {
   "cell_type": "markdown",
   "id": "639f0f0f",
   "metadata": {},
   "source": [
    "# General info\n",
    "\n",
    "- ID: OS agnostic unique identifier of re-id entity. MD5 hash of unique identifier.\n",
    "    - MD5 hash of file name is used if it is unique. If not, folder structure is added.\n",
    "    - ID is OS agnostic -> sort by id makes sense now.\n",
    "   \n",
    "- Dataset script from WildMe (BelugaID2022, HyenaID2022, LeopardID2022) follows the same template. Easy to refactor to single function.\n",
    "\n",
    "\n",
    "### TODO:\n",
    "\n",
    "- ATRW: Re-download to folders\n",
    "- Cows 2021: Consistency issues\n",
    "- WNIGiraffes: Download (190 GB)\n",
    "- Drosophila: Garbage dataset\n",
    "- GiraffeZebraID: invalid labels\n",
    "- HyenaID: one invalid label\n",
    "- LeopardID: one invalid label\n",
    "- LionData: Garbage dataset\n",
    "- StripeSpotter: Consistency issues"
   ]
  },
  {
   "cell_type": "code",
   "execution_count": null,
   "id": "19270373",
   "metadata": {},
   "outputs": [],
   "source": []
  },
  {
   "cell_type": "markdown",
   "id": "ff22d2c4",
   "metadata": {},
   "source": [
    "# 1. AAUZebraFishID\n",
    "\n",
    "- Images are from 2 videos from fish tank.\n",
    "- In each of the video, there are 3 different zebrafish individuals (6 individuals in total). \n",
    "    - For each individual zebra fish\n",
    "        - There is bounding box.\n",
    "        - Additional features: Right,Turning,Occlusion,Glitch\n",
    "- Sampling frequency should be about 5 frames, otherwise the difference is way too small."
   ]
  },
  {
   "cell_type": "code",
   "execution_count": 74,
   "id": "fe135586",
   "metadata": {},
   "outputs": [
    {
     "name": "stdout",
     "output_type": "stream",
     "text": [
      "Number of samples      6672\n",
      "Number of identitites  6\n"
     ]
    },
    {
     "data": {
      "text/plain": [
       "video  identity\n",
       "0      1           1086\n",
       "       2           1086\n",
       "       3           1086\n",
       "1      4           1138\n",
       "       5           1138\n",
       "       6           1138\n",
       "Name: id, dtype: int64"
      ]
     },
     "metadata": {},
     "output_type": "display_data"
    },
    {
     "data": {
      "image/png": "[encoded data removed]",
      "text/plain": [
       "<Figure size 432x288 with 1 Axes>"
      ]
     },
     "metadata": {
      "needs_background": "light"
     },
     "output_type": "display_data"
    }
   ],
   "source": [
    "def create_catalogue(root):\n",
    "    data = pd.read_csv(os.path.join(root, 'annotations.csv'), sep=';')\n",
    "\n",
    "    columns_bbox = [\n",
    "        'Upper left corner X',\n",
    "        'Upper left corner Y',\n",
    "        'Lower right corner X',\n",
    "        'Lower right corner Y',\n",
    "    ]\n",
    "    bbox = pd.Series(list(data[columns_bbox].to_numpy()))\n",
    "\n",
    "    attributes = data['Right,Turning,Occlusion,Glitch'].str.split(',', expand=True)\n",
    "    attributes.columns = ['Right', 'Turning', 'Occlusion', 'Glitch']\n",
    "    attributes = attributes.astype(bool).to_dict(orient='index')\n",
    "\n",
    "    video = data['Filename'].str.split('_',  expand=True)[0]\n",
    "    video = video.astype('category').cat.codes\n",
    "\n",
    "    df = {\n",
    "        'id': create_id(data['Object ID'].astype(str) + data['Filename']),\n",
    "        'path': 'data' + os.path.sep + data['Filename'],\n",
    "        'identity': data['Object ID'],\n",
    "\n",
    "        # Optional\n",
    "        'video': video,\n",
    "        'bbox': bbox,\n",
    "        'attributes': attributes,\n",
    "    }\n",
    "    return pd.DataFrame(df).sort_values('id').reset_index(drop=True)\n",
    "\n",
    "root = 'datasets/AAUZebraFishID'\n",
    "df = create_catalogue(root)\n",
    "\n",
    "# Statistics\n",
    "df.identity.value_counts().sort_values(ascending=False).plot(kind = 'bar')\n",
    "print(f\"Number of samples      {len(df)}\")\n",
    "print(f\"Number of identitites  {len(df.identity.unique())}\")\n",
    "\n",
    "# Two videos, 6 individual\n",
    "display(df.groupby(['video', 'identity'])['id'].count())"
   ]
  },
  {
   "cell_type": "code",
   "execution_count": null,
   "id": "fe8b1912",
   "metadata": {},
   "outputs": [],
   "source": []
  },
  {
   "cell_type": "markdown",
   "id": "3f99ac11",
   "metadata": {},
   "source": [
    "# 2. AerialCattle2017\n",
    "\n",
    "- 23 Individual cows, Images are from recorded video footage\n",
    "- Structure:\n",
    "    - Individual folder -> Video volder -> Images"
   ]
  },
  {
   "cell_type": "code",
   "execution_count": 77,
   "id": "1167a629",
   "metadata": {},
   "outputs": [
    {
     "name": "stdout",
     "output_type": "stream",
     "text": [
      "Number of samples      46340\n",
      "Number of identitites  23\n"
     ]
    },
    {
     "data": {
      "image/png": "[encoded data removed]",
      "text/plain": [
       "<Figure size 432x288 with 1 Axes>"
      ]
     },
     "metadata": {
      "needs_background": "light"
     },
     "output_type": "display_data"
    }
   ],
   "source": [
    "def create_catalogue(root):\n",
    "    data = find_images(root)\n",
    "    folders = data['path'].str.split(os.path.sep, expand=True)\n",
    "\n",
    "    df = {\n",
    "        'id': create_id(data['file']),\n",
    "        'path': data['path'] + os.path.sep + data['file'],\n",
    "        'identity': folders[1].astype(int),\n",
    "\n",
    "        # Optional        \n",
    "        'video': folders[2],\n",
    "    }\n",
    "    return pd.DataFrame(df).sort_values('id').reset_index(drop=True)\n",
    "\n",
    "root = 'datasets/AerialCattle2017'\n",
    "df = create_catalogue(root)\n",
    "\n",
    "# Per identity counts\n",
    "df.identity.value_counts().sort_values(ascending=False).plot(kind = 'bar')\n",
    "print(f\"Number of samples      {len(df)}\")\n",
    "print(f\"Number of identitites  {len(df.identity.unique())}\")"
   ]
  },
  {
   "cell_type": "code",
   "execution_count": null,
   "id": "55452b4e",
   "metadata": {},
   "outputs": [],
   "source": []
  },
  {
   "cell_type": "markdown",
   "id": "ff79049e",
   "metadata": {},
   "source": [
    "# 3. ATRW\n",
    "\n",
    "- Two tiers of data\n",
    "\n",
    "- This dataset needs to be redownloaded with folder names (because of overlapping folders)"
   ]
  },
  {
   "cell_type": "code",
   "execution_count": 37,
   "id": "089b5e19",
   "metadata": {},
   "outputs": [
    {
     "data": {
      "text/plain": [
       "263     000000.jpg\n",
       "601     000004.jpg\n",
       "1614    000005.jpg\n",
       "1711    000006.jpg\n",
       "1337    000008.jpg\n",
       "           ...    \n",
       "1657    005122.jpg\n",
       "1361    005124.jpg\n",
       "181     005139.jpg\n",
       "707     005147.jpg\n",
       "1362    005148.jpg\n",
       "Name: 0, Length: 1764, dtype: object"
      ]
     },
     "execution_count": 37,
     "metadata": {},
     "output_type": "execute_result"
    }
   ],
   "source": [
    "root = 'datasets/ATRW'\n",
    "\n",
    "data = find_images(root)\n",
    "folders = data['path'].str.split(os.path.sep, expand=True)\n",
    "\n",
    "id_test = pd.read_csv(os.path.join(root, 'reid_list_test.csv'), header=None)[0]\n",
    "id_test.sort_values()"
   ]
  },
  {
   "cell_type": "code",
   "execution_count": null,
   "id": "bb259579",
   "metadata": {},
   "outputs": [],
   "source": []
  },
  {
   "cell_type": "markdown",
   "id": "3cede684",
   "metadata": {},
   "source": [
    "# 4. BelugaID\n",
    "\n",
    "- Folders with Test and Valid are empty, without any data or annotations\n",
    "- Annotations contains bounding box and segmentations in format [0, 0, XX, YY], indicating that the photos are already cropped."
   ]
  },
  {
   "cell_type": "code",
   "execution_count": 79,
   "id": "2a4a2f20",
   "metadata": {},
   "outputs": [
    {
     "name": "stdout",
     "output_type": "stream",
     "text": [
      "Number of samples      5902\n",
      "Number of identitites  788\n"
     ]
    },
    {
     "data": {
      "image/png": "[encoded data removed]",
      "text/plain": [
       "<Figure size 432x288 with 1 Axes>"
      ]
     },
     "metadata": {
      "needs_background": "light"
     },
     "output_type": "display_data"
    }
   ],
   "source": [
    "def create_catalogue(root):\n",
    "    path_json = os.path.join('beluga.coco', 'annotations', 'instances_train2022.json')\n",
    "    path_images = os.path.join('beluga.coco', 'images', 'train2022')\n",
    "\n",
    "    # Load annotations JSON file\n",
    "    with open(os.path.join(root, path_json)) as file:\n",
    "        data = json.load(file)\n",
    "\n",
    "    create_dict = lambda i: {'identity': i['name'], 'bbox':i['bbox'], 'image_id': i['image_id']}\n",
    "    df_annotation = pd.DataFrame([create_dict(i) for i in data['annotations']])\n",
    "\n",
    "    create_dict = lambda i: {'file_name': i['file_name'], 'image_id':i['id']}\n",
    "    df_images = pd.DataFrame([create_dict(i) for i in data['images']])\n",
    "\n",
    "    df = pd.merge(df_annotation, df_images, how='left', on='image_id')\n",
    "    df['path'] = path_images + os.path.sep + df['file_name']\n",
    "    df['identity'] = df['identity'].astype('category').cat.codes\n",
    "    df['id'] = create_id(df['file_name'] + df['identity'].astype(str))\n",
    "\n",
    "    df = df.drop(['image_id', 'file_name'], axis=1)\n",
    "    return pd.DataFrame(df).sort_values('id').reset_index(drop=True)\n",
    "\n",
    "root = 'datasets/BelugaID'\n",
    "df = create_catalogue(root)\n",
    "\n",
    "# Per identity counts\n",
    "df.identity.value_counts().reset_index(drop=True).plot()\n",
    "print(f\"Number of samples      {len(df)}\")\n",
    "print(f\"Number of identitites  {len(df.identity.unique())}\")"
   ]
  },
  {
   "cell_type": "code",
   "execution_count": null,
   "id": "1b896c9d",
   "metadata": {},
   "outputs": [],
   "source": []
  },
  {
   "cell_type": "markdown",
   "id": "10f4aa58",
   "metadata": {},
   "source": [
    "# 5. Cows 2021\n",
    "\n",
    "- Test and Train folders contain unique identities - open set classification\n",
    "\n",
    "- This dataset is inconsistent and is hard to determine what are the identities.\n",
    "- I have no idea what the 'Train' identification dataset is, as there is missing explanation. Identities are mismatched with the 'Test' dataset. (cow 001 in 'Test' != cow 001 in 'Train').\n",
    "\n",
    "\n",
    "- Test dataset inconsistency: \n",
    "    - README:  \n",
    "        - 181 Identities\n",
    "        - 13 784 Images\n",
    "    - FOLDERS: \n",
    "        - 181 Identities (Number of folders)\n",
    "        - 8 670 Images\n",
    "    - PAPER:  \n",
    "        - 182 Identities\n",
    "        - 8 670 Images"
   ]
  },
  {
   "cell_type": "code",
   "execution_count": 347,
   "id": "bdf2f592",
   "metadata": {},
   "outputs": [],
   "source": [
    "root = 'datasets/Cows2021'\n",
    "data = find_images(root)\n",
    "folders = data['path'].str.split(os.path.sep, expand=True)\n",
    "\n",
    "#Select only re-identification dataset\n",
    "reid = folders[2] == 'Identification'\n",
    "folders, data = folders[reid], data[reid]"
   ]
  },
  {
   "cell_type": "code",
   "execution_count": 348,
   "id": "3c2919f0",
   "metadata": {},
   "outputs": [],
   "source": [
    "split = folders[3].replace({'Test': 'test', 'Train': 'train'})\n",
    "assert len(split.unique()) == 2"
   ]
  },
  {
   "cell_type": "code",
   "execution_count": 349,
   "id": "19833403",
   "metadata": {
    "scrolled": true
   },
   "outputs": [
    {
     "name": "stdout",
     "output_type": "stream",
     "text": [
      "test\n",
      "181\n",
      "8670\n"
     ]
    }
   ],
   "source": [
    "print('test')\n",
    "print(len(folders[4][split=='test'].unique()))\n",
    "print(len(folders[4][split=='test']))"
   ]
  },
  {
   "cell_type": "code",
   "execution_count": 350,
   "id": "d6263d40",
   "metadata": {},
   "outputs": [
    {
     "name": "stdout",
     "output_type": "stream",
     "text": [
      "train\n",
      "301\n",
      "23350\n"
     ]
    }
   ],
   "source": [
    "print('train')\n",
    "print(len(folders[7][split=='train'].unique()))\n",
    "print(len(folders[7][split=='train']))"
   ]
  },
  {
   "cell_type": "markdown",
   "id": "2ba920a9",
   "metadata": {},
   "source": [
    "# 6. C-Tai\n",
    "\n",
    "- C-Zoo and C-Tai have the same structure.\n",
    "- Everything seems to be OK"
   ]
  },
  {
   "cell_type": "code",
   "execution_count": 116,
   "id": "13496c82",
   "metadata": {},
   "outputs": [
    {
     "name": "stdout",
     "output_type": "stream",
     "text": [
      "Number of samples      5078\n",
      "Number of identitites  78\n"
     ]
    },
    {
     "data": {
      "image/png": "[encoded data removed]",
      "text/plain": [
       "<Figure size 432x288 with 1 Axes>"
      ]
     },
     "metadata": {
      "needs_background": "light"
     },
     "output_type": "display_data"
    }
   ],
   "source": [
    "def create_catalogue(root):\n",
    "    path = os.path.join('chimpanzee_faces-master', 'datasets_cropped_chimpanzee_faces', 'data_CTai',)\n",
    "    data = pd.read_csv(os.path.join(root, path, 'annotations_ctai.txt'), header=None, sep=' ')\n",
    "\n",
    "    df = {\n",
    "        'id': create_id(data[1]),\n",
    "        'file': path + os.path.sep + data[1],\n",
    "        'identity': data[3].astype('category').cat.codes,\n",
    "        \n",
    "        # Optional\n",
    "        'name': data[3],\n",
    "        'age': data[5],\n",
    "        'age_group': data[7],\n",
    "        'gender': data[9]\n",
    "    }\n",
    "    return pd.DataFrame(df).sort_values('id').reset_index(drop=True)\n",
    "\n",
    "root = 'datasets/CTai'\n",
    "df = create_catalogue(root)\n",
    "\n",
    "# Per identity counts\n",
    "df.identity.value_counts().reset_index(drop=True).plot()\n",
    "print(f\"Number of samples      {len(df)}\")\n",
    "print(f\"Number of identitites  {len(df.identity.unique())}\")"
   ]
  },
  {
   "cell_type": "code",
   "execution_count": null,
   "id": "3f9bcb17",
   "metadata": {},
   "outputs": [],
   "source": []
  },
  {
   "cell_type": "markdown",
   "id": "1d629419",
   "metadata": {},
   "source": [
    "# 7. C-Zoo"
   ]
  },
  {
   "cell_type": "code",
   "execution_count": 69,
   "id": "07682d30",
   "metadata": {},
   "outputs": [
    {
     "name": "stdout",
     "output_type": "stream",
     "text": [
      "Number of samples      2109\n",
      "Number of identitites  24\n"
     ]
    },
    {
     "data": {
      "image/png": "[encoded data removed]",
      "text/plain": [
       "<Figure size 432x288 with 1 Axes>"
      ]
     },
     "metadata": {
      "needs_background": "light"
     },
     "output_type": "display_data"
    }
   ],
   "source": [
    "def create_catalogue(root):\n",
    "    path = os.path.join('chimpanzee_faces-master', 'datasets_cropped_chimpanzee_faces', 'data_CZoo',)\n",
    "    data = pd.read_csv(os.path.join(root, path, 'annotations_czoo.txt'), header=None, sep=' ')\n",
    "\n",
    "    df = {\n",
    "        'id': create_id(data[1]),\n",
    "        'file': path + os.path.sep + data[1],\n",
    "        'identity': data[3].astype('category').cat.codes,\n",
    "\n",
    "        # Optional\n",
    "        'name': data[3],\n",
    "        'age': data[5],\n",
    "        'age_group': data[7],\n",
    "        'gender': data[9]\n",
    "    }\n",
    "    return pd.DataFrame(df).sort_values('id').reset_index(drop=True)\n",
    "\n",
    "root = 'datasets/CZoo'\n",
    "df = create_catalogue(root)\n",
    "\n",
    "# Per identity counts\n",
    "df.identity.value_counts().reset_index(drop=True).plot()\n",
    "print(f\"Number of samples      {len(df)}\")\n",
    "print(f\"Number of identitites  {len(df.identity.unique())}\")"
   ]
  },
  {
   "cell_type": "code",
   "execution_count": null,
   "id": "0fe42e3e",
   "metadata": {},
   "outputs": [],
   "source": []
  },
  {
   "cell_type": "markdown",
   "id": "7b0972ef",
   "metadata": {},
   "source": [
    "# 8. Drosophila\n",
    "\n",
    "- I have no idea about the structure of the dataset.\n",
    "- What is train and valid split?  Why are there duplicite file names?\n",
    "- are the inner folders identities? \n",
    "    - Why valid split have images without inner folders? what are their identities?\n"
   ]
  },
  {
   "cell_type": "code",
   "execution_count": 72,
   "id": "9ea60d85",
   "metadata": {},
   "outputs": [],
   "source": [
    "# This takes a long time\n",
    "root = 'datasets/Drosophila'\n",
    "data = find_images(root)\n",
    "folders = data['path'].str.split(os.path.sep, expand=True)"
   ]
  },
  {
   "cell_type": "code",
   "execution_count": 88,
   "id": "2ceb2b01",
   "metadata": {},
   "outputs": [
    {
     "data": {
      "text/plain": [
       "0          ecbbd236bc9f2dae\n",
       "1          3f1451d75319abe6\n",
       "2          a6e6a6a6840dc3e1\n",
       "3          3b7abacffa5c0100\n",
       "4          31c7327a50c7c077\n",
       "                 ...       \n",
       "2591815    2edbb8c6038a4018\n",
       "2591816    4e93b71de8e38ddf\n",
       "2591817    ea1f2757a484cb55\n",
       "2591818    22adf742cac66dae\n",
       "2591819    f78f0956a0575328\n",
       "Length: 2591820, dtype: object"
      ]
     },
     "execution_count": 88,
     "metadata": {},
     "output_type": "execute_result"
    }
   ],
   "source": [
    "# This creates unique id\n",
    "create_id(folders[0] + data['file'])"
   ]
  },
  {
   "cell_type": "code",
   "execution_count": null,
   "id": "6d7a52e4",
   "metadata": {},
   "outputs": [],
   "source": []
  },
  {
   "cell_type": "markdown",
   "id": "c2d7ba9c",
   "metadata": {},
   "source": [
    "# 9. FriesianCattle2015\n",
    "\n",
    "- Aerial view of the cows\n",
    "- Cows are depth segmented"
   ]
  },
  {
   "cell_type": "code",
   "execution_count": 42,
   "id": "48cd57d4",
   "metadata": {},
   "outputs": [
    {
     "name": "stdout",
     "output_type": "stream",
     "text": [
      "Number of samples      377\n",
      "Number of identitites  40\n"
     ]
    },
    {
     "data": {
      "image/png": "[encoded data removed]",
      "text/plain": [
       "<Figure size 432x288 with 1 Axes>"
      ]
     },
     "metadata": {
      "needs_background": "light"
     },
     "output_type": "display_data"
    }
   ],
   "source": [
    "def create_catalogue(root):\n",
    "    data = find_images(root)\n",
    "    folders = data['path'].str.split(os.path.sep, expand=True)\n",
    "    split = folders[1].replace({'Cows-testing': 'test', 'Cows-training': 'train'})\n",
    "    assert len(split.unique()) == 2\n",
    "\n",
    "    identity = folders[2].str.strip('Cow').astype(int)\n",
    "\n",
    "    df = {\n",
    "        'id': create_id(identity.astype(str) + split + data['file']),\n",
    "        'path': data['path'] + os.path.sep + data['file'],\n",
    "        'identity': identity,\n",
    "        \n",
    "        # Optional\n",
    "        'split': split,\n",
    "    }\n",
    "    return pd.DataFrame(df).sort_values('id').reset_index(drop=True)\n",
    "\n",
    "root = 'datasets/FriesianCattle2015'\n",
    "df = create_catalogue(root)\n",
    "\n",
    "# Per identity counts\n",
    "df.identity.value_counts().reset_index(drop=True).plot()\n",
    "print(f\"Number of samples      {len(df)}\")\n",
    "print(f\"Number of identitites  {len(df.identity.unique())}\")"
   ]
  },
  {
   "cell_type": "code",
   "execution_count": null,
   "id": "40a83d04",
   "metadata": {},
   "outputs": [],
   "source": []
  },
  {
   "cell_type": "markdown",
   "id": "ccf58483",
   "metadata": {},
   "source": [
    "# 10. FriesianCattle2017\n",
    "\n",
    "- There are multiple cows in single image. Images are centered such that the given cow identity is at the center.\n",
    "- Aerial view of the cows as they are in the cow house."
   ]
  },
  {
   "cell_type": "code",
   "execution_count": 41,
   "id": "e230752c",
   "metadata": {},
   "outputs": [
    {
     "name": "stdout",
     "output_type": "stream",
     "text": [
      "Number of samples      940\n",
      "Number of identitites  89\n"
     ]
    },
    {
     "data": {
      "image/png": "[encoded data removed]",
      "text/plain": [
       "<Figure size 432x288 with 1 Axes>"
      ]
     },
     "metadata": {
      "needs_background": "light"
     },
     "output_type": "display_data"
    }
   ],
   "source": [
    "def create_catalogue(root):\n",
    "    data = find_images(root)\n",
    "    folders = data['path'].str.split(os.path.sep, expand=True)\n",
    "\n",
    "    df = {\n",
    "        'id': create_id(data['file']),\n",
    "        'path': data['path'] + os.path.sep + data['file'],\n",
    "        'identity': folders[1].astype(int),\n",
    "    }\n",
    "    return pd.DataFrame(df).sort_values('id').reset_index(drop=True)\n",
    "\n",
    "root = 'datasets/FriesianCattle2017'\n",
    "df = create_catalogue(root)\n",
    "\n",
    "# Per identity counts\n",
    "df.identity.value_counts().reset_index(drop=True).plot()\n",
    "print(f\"Number of samples      {len(df)}\")\n",
    "print(f\"Number of identitites  {len(df.identity.unique())}\")"
   ]
  },
  {
   "cell_type": "code",
   "execution_count": null,
   "id": "9d467736",
   "metadata": {},
   "outputs": [],
   "source": []
  },
  {
   "cell_type": "markdown",
   "id": "bdb02cdd",
   "metadata": {},
   "source": [
    "# 11. GiraffeZebraID\n",
    "- WildMe dataset\n",
    "- There are plenty of mistakes in labeling"
   ]
  },
  {
   "cell_type": "code",
   "execution_count": 107,
   "id": "89060c4f",
   "metadata": {},
   "outputs": [],
   "source": [
    "def create_catalogue(root):\n",
    "    path_json = os.path.join('gzgc.coco', 'annotations', 'instances_train2020.json')\n",
    "    path_images = os.path.join('gzgc.coco', 'images', 'train2020')\n",
    "\n",
    "    # Load annotations JSON file\n",
    "    with open(os.path.join(root, path_json)) as file:\n",
    "        data = json.load(file)\n",
    "\n",
    "    create_dict = lambda i: {'identity': i['name'], 'bbox':i['bbox'], 'image_id': i['image_id']}\n",
    "    df_annotation = pd.DataFrame([create_dict(i) for i in data['annotations']])\n",
    "\n",
    "    create_dict = lambda i: {'file_name': i['file_name'], 'image_id':i['id']}\n",
    "    df_images = pd.DataFrame([create_dict(i) for i in data['images']])\n",
    "\n",
    "    df = pd.merge(df_annotation, df_images, how='left', on='image_id')\n",
    "    df['path'] = path_images + os.path.sep + df['file_name']\n",
    "    df['identity'] = df['identity'].astype('category').cat.codes\n",
    "    #df['id'] = create_id(df['file_name'] + df['identity'].astype(str))\n",
    "\n",
    "    df = df.drop(['image_id', 'file_name'], axis=1)\n",
    "    #return pd.DataFrame(df).sort_values('id').reset_index(drop=True)\n",
    "    return df\n",
    "\n",
    "root = 'datasets/GiraffeZebraID'\n",
    "df = create_catalogue(root)"
   ]
  },
  {
   "cell_type": "code",
   "execution_count": 109,
   "id": "e8d7084c",
   "metadata": {
    "scrolled": true
   },
   "outputs": [
    {
     "data": {
      "text/html": [
       "<div>\n",
       "<style scoped>\n",
       "    .dataframe tbody tr th:only-of-type {\n",
       "        vertical-align: middle;\n",
       "    }\n",
       "\n",
       "    .dataframe tbody tr th {\n",
       "        vertical-align: top;\n",
       "    }\n",
       "\n",
       "    .dataframe thead th {\n",
       "        text-align: right;\n",
       "    }\n",
       "</style>\n",
       "<table border=\"1\" class=\"dataframe\">\n",
       "  <thead>\n",
       "    <tr style=\"text-align: right;\">\n",
       "      <th></th>\n",
       "      <th>identity</th>\n",
       "      <th>bbox</th>\n",
       "      <th>path</th>\n",
       "    </tr>\n",
       "  </thead>\n",
       "  <tbody>\n",
       "    <tr>\n",
       "      <th>2670</th>\n",
       "      <td>1964</td>\n",
       "      <td>[573.75, 261.0, 2365.5, 1988.25]</td>\n",
       "      <td>gzgc.coco/images/train2020/000000001863.jpg</td>\n",
       "    </tr>\n",
       "    <tr>\n",
       "      <th>2671</th>\n",
       "      <td>1964</td>\n",
       "      <td>[1410.0, 261.0, 616.5, 1105.5]</td>\n",
       "      <td>gzgc.coco/images/train2020/000000001863.jpg</td>\n",
       "    </tr>\n",
       "    <tr>\n",
       "      <th>2872</th>\n",
       "      <td>776</td>\n",
       "      <td>[848.5, 291.0, 1268.5, 960.0]</td>\n",
       "      <td>gzgc.coco/images/train2020/000000002012.jpg</td>\n",
       "    </tr>\n",
       "    <tr>\n",
       "      <th>2874</th>\n",
       "      <td>783</td>\n",
       "      <td>[1272.5, 111.0, 411.0, 252.5]</td>\n",
       "      <td>gzgc.coco/images/train2020/000000002012.jpg</td>\n",
       "    </tr>\n",
       "    <tr>\n",
       "      <th>2875</th>\n",
       "      <td>776</td>\n",
       "      <td>[870.0, 321.0, 1221.0, 985.5]</td>\n",
       "      <td>gzgc.coco/images/train2020/000000002012.jpg</td>\n",
       "    </tr>\n",
       "    <tr>\n",
       "      <th>2876</th>\n",
       "      <td>783</td>\n",
       "      <td>[1230.0, 81.0, 415.5, 351.0]</td>\n",
       "      <td>gzgc.coco/images/train2020/000000002012.jpg</td>\n",
       "    </tr>\n",
       "    <tr>\n",
       "      <th>4792</th>\n",
       "      <td>1</td>\n",
       "      <td>[382.17703349282294, 812.7990430622009, 461.12...</td>\n",
       "      <td>gzgc.coco/images/train2020/000000003499.jpg</td>\n",
       "    </tr>\n",
       "    <tr>\n",
       "      <th>4795</th>\n",
       "      <td>1</td>\n",
       "      <td>[865.7296650717703, 803.8277511961722, 630.681...</td>\n",
       "      <td>gzgc.coco/images/train2020/000000003499.jpg</td>\n",
       "    </tr>\n",
       "    <tr>\n",
       "      <th>5015</th>\n",
       "      <td>452</td>\n",
       "      <td>[1040.0390625, 843.75, 726.5625, 392.578125]</td>\n",
       "      <td>gzgc.coco/images/train2020/000000003628.jpg</td>\n",
       "    </tr>\n",
       "    <tr>\n",
       "      <th>5016</th>\n",
       "      <td>452</td>\n",
       "      <td>[11.71875, 773.4375, 615.234375, 427.734375]</td>\n",
       "      <td>gzgc.coco/images/train2020/000000003628.jpg</td>\n",
       "    </tr>\n",
       "    <tr>\n",
       "      <th>5017</th>\n",
       "      <td>452</td>\n",
       "      <td>[1458.984375, 650.390625, 629.8828125, 500.976...</td>\n",
       "      <td>gzgc.coco/images/train2020/000000003629.jpg</td>\n",
       "    </tr>\n",
       "    <tr>\n",
       "      <th>5018</th>\n",
       "      <td>452</td>\n",
       "      <td>[963.8671875, 638.671875, 574.21875, 421.875]</td>\n",
       "      <td>gzgc.coco/images/train2020/000000003629.jpg</td>\n",
       "    </tr>\n",
       "    <tr>\n",
       "      <th>5089</th>\n",
       "      <td>48</td>\n",
       "      <td>[2185.406698564593, 434.2105263157895, 366.028...</td>\n",
       "      <td>gzgc.coco/images/train2020/000000003675.jpg</td>\n",
       "    </tr>\n",
       "    <tr>\n",
       "      <th>5090</th>\n",
       "      <td>48</td>\n",
       "      <td>[984.1507177033492, 534.688995215311, 571.4712...</td>\n",
       "      <td>gzgc.coco/images/train2020/000000003675.jpg</td>\n",
       "    </tr>\n",
       "    <tr>\n",
       "      <th>5093</th>\n",
       "      <td>48</td>\n",
       "      <td>[1287.3803827751196, 898.9234449760766, 654.00...</td>\n",
       "      <td>gzgc.coco/images/train2020/000000003676.jpg</td>\n",
       "    </tr>\n",
       "    <tr>\n",
       "      <th>5094</th>\n",
       "      <td>48</td>\n",
       "      <td>[604.6650717703349, 864.8325358851674, 525.717...</td>\n",
       "      <td>gzgc.coco/images/train2020/000000003676.jpg</td>\n",
       "    </tr>\n",
       "    <tr>\n",
       "      <th>5553</th>\n",
       "      <td>191</td>\n",
       "      <td>[1976.6566265060242, 805.3463855421687, 736.44...</td>\n",
       "      <td>gzgc.coco/images/train2020/000000003948.jpg</td>\n",
       "    </tr>\n",
       "    <tr>\n",
       "      <th>5554</th>\n",
       "      <td>191</td>\n",
       "      <td>[839.796686746988, 739.8343373493976, 612.7635...</td>\n",
       "      <td>gzgc.coco/images/train2020/000000003948.jpg</td>\n",
       "    </tr>\n",
       "    <tr>\n",
       "      <th>6851</th>\n",
       "      <td>1947</td>\n",
       "      <td>[1362.359550561798, 445.22471910112364, 1092.6...</td>\n",
       "      <td>gzgc.coco/images/train2020/000000004901.jpg</td>\n",
       "    </tr>\n",
       "    <tr>\n",
       "      <th>6852</th>\n",
       "      <td>1947</td>\n",
       "      <td>[921.3483146067416, 608.1460674157304, 1255.61...</td>\n",
       "      <td>gzgc.coco/images/train2020/000000004901.jpg</td>\n",
       "    </tr>\n",
       "    <tr>\n",
       "      <th>6866</th>\n",
       "      <td>1957</td>\n",
       "      <td>[942.4157303370787, 428.37078651685397, 1023.8...</td>\n",
       "      <td>gzgc.coco/images/train2020/000000004906.jpg</td>\n",
       "    </tr>\n",
       "    <tr>\n",
       "      <th>6867</th>\n",
       "      <td>1957</td>\n",
       "      <td>[1388.3426966292136, 745.0842696629214, 1054.0...</td>\n",
       "      <td>gzgc.coco/images/train2020/000000004906.jpg</td>\n",
       "    </tr>\n",
       "  </tbody>\n",
       "</table>\n",
       "</div>"
      ],
      "text/plain": [
       "      identity                                               bbox  \\\n",
       "2670      1964                   [573.75, 261.0, 2365.5, 1988.25]   \n",
       "2671      1964                     [1410.0, 261.0, 616.5, 1105.5]   \n",
       "2872       776                      [848.5, 291.0, 1268.5, 960.0]   \n",
       "2874       783                      [1272.5, 111.0, 411.0, 252.5]   \n",
       "2875       776                      [870.0, 321.0, 1221.0, 985.5]   \n",
       "2876       783                       [1230.0, 81.0, 415.5, 351.0]   \n",
       "4792         1  [382.17703349282294, 812.7990430622009, 461.12...   \n",
       "4795         1  [865.7296650717703, 803.8277511961722, 630.681...   \n",
       "5015       452       [1040.0390625, 843.75, 726.5625, 392.578125]   \n",
       "5016       452       [11.71875, 773.4375, 615.234375, 427.734375]   \n",
       "5017       452  [1458.984375, 650.390625, 629.8828125, 500.976...   \n",
       "5018       452      [963.8671875, 638.671875, 574.21875, 421.875]   \n",
       "5089        48  [2185.406698564593, 434.2105263157895, 366.028...   \n",
       "5090        48  [984.1507177033492, 534.688995215311, 571.4712...   \n",
       "5093        48  [1287.3803827751196, 898.9234449760766, 654.00...   \n",
       "5094        48  [604.6650717703349, 864.8325358851674, 525.717...   \n",
       "5553       191  [1976.6566265060242, 805.3463855421687, 736.44...   \n",
       "5554       191  [839.796686746988, 739.8343373493976, 612.7635...   \n",
       "6851      1947  [1362.359550561798, 445.22471910112364, 1092.6...   \n",
       "6852      1947  [921.3483146067416, 608.1460674157304, 1255.61...   \n",
       "6866      1957  [942.4157303370787, 428.37078651685397, 1023.8...   \n",
       "6867      1957  [1388.3426966292136, 745.0842696629214, 1054.0...   \n",
       "\n",
       "                                             path  \n",
       "2670  gzgc.coco/images/train2020/000000001863.jpg  \n",
       "2671  gzgc.coco/images/train2020/000000001863.jpg  \n",
       "2872  gzgc.coco/images/train2020/000000002012.jpg  \n",
       "2874  gzgc.coco/images/train2020/000000002012.jpg  \n",
       "2875  gzgc.coco/images/train2020/000000002012.jpg  \n",
       "2876  gzgc.coco/images/train2020/000000002012.jpg  \n",
       "4792  gzgc.coco/images/train2020/000000003499.jpg  \n",
       "4795  gzgc.coco/images/train2020/000000003499.jpg  \n",
       "5015  gzgc.coco/images/train2020/000000003628.jpg  \n",
       "5016  gzgc.coco/images/train2020/000000003628.jpg  \n",
       "5017  gzgc.coco/images/train2020/000000003629.jpg  \n",
       "5018  gzgc.coco/images/train2020/000000003629.jpg  \n",
       "5089  gzgc.coco/images/train2020/000000003675.jpg  \n",
       "5090  gzgc.coco/images/train2020/000000003675.jpg  \n",
       "5093  gzgc.coco/images/train2020/000000003676.jpg  \n",
       "5094  gzgc.coco/images/train2020/000000003676.jpg  \n",
       "5553  gzgc.coco/images/train2020/000000003948.jpg  \n",
       "5554  gzgc.coco/images/train2020/000000003948.jpg  \n",
       "6851  gzgc.coco/images/train2020/000000004901.jpg  \n",
       "6852  gzgc.coco/images/train2020/000000004901.jpg  \n",
       "6866  gzgc.coco/images/train2020/000000004906.jpg  \n",
       "6867  gzgc.coco/images/train2020/000000004906.jpg  "
      ]
     },
     "execution_count": 109,
     "metadata": {},
     "output_type": "execute_result"
    }
   ],
   "source": [
    "# This causes the issue\n",
    "df[df[['identity', 'path']].duplicated(keep=False)]"
   ]
  },
  {
   "cell_type": "code",
   "execution_count": null,
   "id": "9d48c483",
   "metadata": {},
   "outputs": [],
   "source": []
  },
  {
   "cell_type": "markdown",
   "id": "e5df1349",
   "metadata": {},
   "source": [
    "# 12. HappyWhale\n",
    "\n",
    "- There are lot of identities that have very small number of observation (1 observation)"
   ]
  },
  {
   "cell_type": "code",
   "execution_count": 113,
   "id": "bd5849ba",
   "metadata": {},
   "outputs": [
    {
     "name": "stdout",
     "output_type": "stream",
     "text": [
      "Number of samples      51033\n",
      "Number of identitites  15587\n"
     ]
    },
    {
     "data": {
      "image/png": "[encoded data removed]",
      "text/plain": [
       "<Figure size 432x288 with 1 Axes>"
      ]
     },
     "metadata": {
      "needs_background": "light"
     },
     "output_type": "display_data"
    }
   ],
   "source": [
    "def create_catalogue(root):\n",
    "    data = pd.read_csv(os.path.join(root, 'train.csv'))\n",
    "\n",
    "    df = {\n",
    "        'id': data['image'].str.split('.', expand=True)[0],\n",
    "        'path': 'train_images' + os.path.sep + data['image'],\n",
    "        'identity': data['individual_id'].astype('category').cat.codes,\n",
    "\n",
    "        # Optional\n",
    "        'species': data['species']\n",
    "        }\n",
    "    return pd.DataFrame(df).sort_values('id').reset_index(drop=True)\n",
    "\n",
    "root = 'datasets/HappyWhale'\n",
    "df = create_catalogue(root)\n",
    "\n",
    "# Per identity counts\n",
    "df.identity.value_counts().reset_index(drop=True).plot()\n",
    "print(f\"Number of samples      {len(df)}\")\n",
    "print(f\"Number of identitites  {len(df.identity.unique())}\")"
   ]
  },
  {
   "cell_type": "code",
   "execution_count": null,
   "id": "6b812f1e",
   "metadata": {},
   "outputs": [],
   "source": []
  },
  {
   "cell_type": "markdown",
   "id": "e3831eb5",
   "metadata": {},
   "source": [
    "# 13. HyenaID2022\n",
    "\n",
    "- Number of individuals matches dataset description: https://lila.science/datasets/hyena-id-2022/\n",
    "- There is a mistake in labeling in the dataset: \n",
    "    - In photo '000000000207.jpg', there are two hyenas, but in the labels, they share the identity (identity: '74d538f0-cb3e-4982-9584-7e0f886b8397' )"
   ]
  },
  {
   "cell_type": "code",
   "execution_count": 76,
   "id": "bcc34db3",
   "metadata": {},
   "outputs": [
    {
     "name": "stdout",
     "output_type": "stream",
     "text": [
      "Number of samples      3129\n",
      "Number of identitites  256\n"
     ]
    }
   ],
   "source": [
    "def create_catalogue(root):\n",
    "    path_json = os.path.join('hyena.coco', 'annotations', 'instances_train2022.json')\n",
    "    path_images = os.path.join('hyena.coco', 'images', 'train2022')\n",
    "\n",
    "    # Load annotations JSON file\n",
    "    with open(os.path.join(root, path_json)) as file:\n",
    "        data = json.load(file)\n",
    "\n",
    "    create_dict = lambda i: {'identity': i['name'], 'bbox':i['bbox'], 'image_id': i['image_id']}\n",
    "    df_annotation = pd.DataFrame([create_dict(i) for i in data['annotations']])\n",
    "\n",
    "    create_dict = lambda i: {'file_name': i['file_name'], 'image_id':i['id']}\n",
    "    df_images = pd.DataFrame([create_dict(i) for i in data['images']])\n",
    "\n",
    "    df = pd.merge(df_annotation, df_images, how='left', on='image_id')\n",
    "    df['path'] = path_images + os.path.sep + df['file_name']\n",
    "    df['identity'] = df['identity'].astype('category').cat.codes\n",
    "    # TODO: df['id'] = create_id(df['file_name'] + df['identity'].astype(str))\n",
    "\n",
    "    df = df.drop(['image_id', 'file_name'], axis=1)\n",
    "    # TODO: return pd.DataFrame(df).sort_values('id').reset_index(drop=True)\n",
    "    return df\n",
    "\n",
    "# TODO: How to fix the mistake in labeling ? (= identity cannot be uniquely identified)\n",
    "root = 'datasets/HyenaID2022'\n",
    "df = create_catalogue(root)\n",
    "\n",
    "print(f\"Number of samples      {len(df)}\")\n",
    "print(f\"Number of identitites  {len(df.identity.unique())}\")"
   ]
  },
  {
   "cell_type": "code",
   "execution_count": 77,
   "id": "e7bea941",
   "metadata": {},
   "outputs": [
    {
     "data": {
      "text/html": [
       "<div>\n",
       "<style scoped>\n",
       "    .dataframe tbody tr th:only-of-type {\n",
       "        vertical-align: middle;\n",
       "    }\n",
       "\n",
       "    .dataframe tbody tr th {\n",
       "        vertical-align: top;\n",
       "    }\n",
       "\n",
       "    .dataframe thead th {\n",
       "        text-align: right;\n",
       "    }\n",
       "</style>\n",
       "<table border=\"1\" class=\"dataframe\">\n",
       "  <thead>\n",
       "    <tr style=\"text-align: right;\">\n",
       "      <th></th>\n",
       "      <th>identity</th>\n",
       "      <th>bbox</th>\n",
       "      <th>path</th>\n",
       "    </tr>\n",
       "  </thead>\n",
       "  <tbody>\n",
       "    <tr>\n",
       "      <th>208</th>\n",
       "      <td>116</td>\n",
       "      <td>[774.6575342465753, 888.3561643835616, 545.890...</td>\n",
       "      <td>hyena.coco/images/train2022/000000000207.jpg</td>\n",
       "    </tr>\n",
       "    <tr>\n",
       "      <th>209</th>\n",
       "      <td>116</td>\n",
       "      <td>[945.8904109589041, 652.054794520548, 891.0958...</td>\n",
       "      <td>hyena.coco/images/train2022/000000000207.jpg</td>\n",
       "    </tr>\n",
       "  </tbody>\n",
       "</table>\n",
       "</div>"
      ],
      "text/plain": [
       "     identity                                               bbox  \\\n",
       "208       116  [774.6575342465753, 888.3561643835616, 545.890...   \n",
       "209       116  [945.8904109589041, 652.054794520548, 891.0958...   \n",
       "\n",
       "                                             path  \n",
       "208  hyena.coco/images/train2022/000000000207.jpg  \n",
       "209  hyena.coco/images/train2022/000000000207.jpg  "
      ]
     },
     "execution_count": 77,
     "metadata": {},
     "output_type": "execute_result"
    }
   ],
   "source": [
    "# This causes the issue\n",
    "df[df[['identity', 'path']].duplicated(keep=False)]"
   ]
  },
  {
   "cell_type": "code",
   "execution_count": null,
   "id": "45df5b46",
   "metadata": {},
   "outputs": [],
   "source": []
  },
  {
   "cell_type": "markdown",
   "id": "412875a4",
   "metadata": {},
   "source": [
    "# 14. IPanda-50\n",
    "\n",
    "- There are some crossvalidation splits provided\n",
    "- They provide facial keypoints annotations."
   ]
  },
  {
   "cell_type": "code",
   "execution_count": 166,
   "id": "4d3d786b",
   "metadata": {},
   "outputs": [
    {
     "name": "stdout",
     "output_type": "stream",
     "text": [
      "Number of samples      6874\n",
      "Number of identitites  50\n"
     ]
    },
    {
     "data": {
      "image/png": "[encoded data removed]",
      "text/plain": [
       "<Figure size 432x288 with 1 Axes>"
      ]
     },
     "metadata": {
      "needs_background": "light"
     },
     "output_type": "display_data"
    }
   ],
   "source": [
    "def create_catalogue(root):\n",
    "    data = find_images(root)\n",
    "    folders = data['path'].str.split(os.path.sep, expand=True)\n",
    "\n",
    "    df = {\n",
    "        'id': create_id(data['file']),\n",
    "        'path': data['path'] + os.path.sep + data['file'],\n",
    "        'identity': folders[1].astype('category').cat.codes,\n",
    "\n",
    "        # Optional\n",
    "        'name': folders[1],\n",
    "        }\n",
    "    return pd.DataFrame(df).sort_values('id').reset_index(drop=True)\n",
    "\n",
    "root = 'datasets/IPanda-50'\n",
    "df = create_catalogue(root)\n",
    "\n",
    "# Per identity counts\n",
    "df.identity.value_counts().reset_index(drop=True).plot()\n",
    "print(f\"Number of samples      {len(df)}\")\n",
    "print(f\"Number of identitites  {len(df.identity.unique())}\")"
   ]
  },
  {
   "cell_type": "code",
   "execution_count": null,
   "id": "78a23119",
   "metadata": {},
   "outputs": [],
   "source": []
  },
  {
   "cell_type": "markdown",
   "id": "6d323c7a",
   "metadata": {},
   "source": [
    "# 15. LeopardID2022\n",
    "\n",
    "- There is mistake in identity labels:\n",
    "    - In photo: '000000004590.jpg' there is supposed to be two identities, but there is only one leopard."
   ]
  },
  {
   "cell_type": "code",
   "execution_count": 92,
   "id": "bfaebb61",
   "metadata": {},
   "outputs": [
    {
     "name": "stdout",
     "output_type": "stream",
     "text": [
      "Number of samples      6825\n",
      "Number of identitites  431\n"
     ]
    }
   ],
   "source": [
    "def create_catalogue(root):\n",
    "    path_json = os.path.join('leopard.coco', 'annotations', 'instances_train2022.json')\n",
    "    path_images = os.path.join('leopard.coco', 'images', 'train2022')\n",
    "\n",
    "    # Load annotations JSON file\n",
    "    with open(os.path.join(root, path_json)) as file:\n",
    "        data = json.load(file)\n",
    "\n",
    "    create_dict = lambda i: {'identity': i['name'], 'bbox':i['bbox'], 'image_id': i['image_id']}\n",
    "    df_annotation = pd.DataFrame([create_dict(i) for i in data['annotations']])\n",
    "\n",
    "    create_dict = lambda i: {'file_name': i['file_name'], 'image_id':i['id']}\n",
    "    df_images = pd.DataFrame([create_dict(i) for i in data['images']])\n",
    "\n",
    "    df = pd.merge(df_annotation, df_images, how='left', on='image_id')\n",
    "    df['path'] = path_images + os.path.sep + df['file_name']\n",
    "    df['identity'] = df['identity'].astype('category').cat.codes\n",
    "    # TODO: df['id'] = create_id(df['file_name'] + df['identity'].astype(str))\n",
    "\n",
    "    df = df.drop(['image_id', 'file_name'], axis=1)\n",
    "    # TODO: return pd.DataFrame(df).sort_values('id').reset_index(drop=True)\n",
    "    return df\n",
    "\n",
    "root = 'datasets/LeopardID2022'\n",
    "df = create_catalogue(root)\n",
    "\n",
    "print(f\"Number of samples      {len(df)}\")\n",
    "print(f\"Number of identitites  {len(df.identity.unique())}\")"
   ]
  },
  {
   "cell_type": "code",
   "execution_count": 94,
   "id": "f88fd0de",
   "metadata": {},
   "outputs": [
    {
     "data": {
      "text/html": [
       "<div>\n",
       "<style scoped>\n",
       "    .dataframe tbody tr th:only-of-type {\n",
       "        vertical-align: middle;\n",
       "    }\n",
       "\n",
       "    .dataframe tbody tr th {\n",
       "        vertical-align: top;\n",
       "    }\n",
       "\n",
       "    .dataframe thead th {\n",
       "        text-align: right;\n",
       "    }\n",
       "</style>\n",
       "<table border=\"1\" class=\"dataframe\">\n",
       "  <thead>\n",
       "    <tr style=\"text-align: right;\">\n",
       "      <th></th>\n",
       "      <th>identity</th>\n",
       "      <th>bbox</th>\n",
       "      <th>path</th>\n",
       "    </tr>\n",
       "  </thead>\n",
       "  <tbody>\n",
       "    <tr>\n",
       "      <th>4602</th>\n",
       "      <td>58</td>\n",
       "      <td>[592.5, 141.25, 1266.25, 771.25]</td>\n",
       "      <td>leopard.coco/images/train2022/000000004590.jpg</td>\n",
       "    </tr>\n",
       "    <tr>\n",
       "      <th>4603</th>\n",
       "      <td>58</td>\n",
       "      <td>[682.5, 37.5, 1082.5, 836.25]</td>\n",
       "      <td>leopard.coco/images/train2022/000000004590.jpg</td>\n",
       "    </tr>\n",
       "  </tbody>\n",
       "</table>\n",
       "</div>"
      ],
      "text/plain": [
       "      identity                              bbox  \\\n",
       "4602        58  [592.5, 141.25, 1266.25, 771.25]   \n",
       "4603        58     [682.5, 37.5, 1082.5, 836.25]   \n",
       "\n",
       "                                                path  \n",
       "4602  leopard.coco/images/train2022/000000004590.jpg  \n",
       "4603  leopard.coco/images/train2022/000000004590.jpg  "
      ]
     },
     "execution_count": 94,
     "metadata": {},
     "output_type": "execute_result"
    }
   ],
   "source": [
    "# This causes the issue\n",
    "df[df[['identity', 'path']].duplicated(keep=False)]"
   ]
  },
  {
   "cell_type": "code",
   "execution_count": null,
   "id": "0e33d661",
   "metadata": {},
   "outputs": [],
   "source": []
  },
  {
   "cell_type": "markdown",
   "id": "0121b8ac",
   "metadata": {},
   "source": [
    "# 16. LionData\n",
    "\n",
    "- The dataset is very strange - usually, the immage consists of some body parts that are cropped from the images."
   ]
  },
  {
   "cell_type": "code",
   "execution_count": 418,
   "id": "3c3e7f7c",
   "metadata": {},
   "outputs": [],
   "source": [
    "def create_catalogue(root):\n",
    "    data = find_images(root)\n",
    "    folders = data['path'].str.split(os.path.sep, expand=True)\n",
    "\n",
    "    identity = folders[3].astype('category').cat.codes\n",
    "    split = folders[2].replace({'train': 'train', 'val': 'test'})\n",
    "    assert len(split.unique()) == 2\n",
    "\n",
    "    df = {\n",
    "        'id': create_id(data['file']),\n",
    "        'path': data['path'] + os.path.sep + data['file'],\n",
    "        'identity': identity,\n",
    "        \n",
    "        # Optional\n",
    "        'split': split\n",
    "    }\n",
    "    return pd.DataFrame(df).sort_values('id').reset_index(drop=True)\n",
    "\n",
    "root = 'datasets/LionData'\n",
    "df = create_catalogue(root)"
   ]
  },
  {
   "cell_type": "code",
   "execution_count": 419,
   "id": "63fd1d0b",
   "metadata": {},
   "outputs": [
    {
     "name": "stdout",
     "output_type": "stream",
     "text": [
      "Number of samples      740\n",
      "Number of identitites  94\n"
     ]
    },
    {
     "data": {
      "image/png": "[encoded data removed]",
      "text/plain": [
       "<Figure size 432x288 with 1 Axes>"
      ]
     },
     "metadata": {
      "needs_background": "light"
     },
     "output_type": "display_data"
    }
   ],
   "source": [
    "# Per identity counts\n",
    "df.identity.value_counts().reset_index(drop=True).plot()\n",
    "print(f\"Number of samples      {len(df)}\")\n",
    "print(f\"Number of identitites  {len(df.identity.unique())}\")"
   ]
  },
  {
   "cell_type": "code",
   "execution_count": null,
   "id": "6264564e",
   "metadata": {},
   "outputs": [],
   "source": []
  },
  {
   "cell_type": "markdown",
   "id": "7048e1dd",
   "metadata": {},
   "source": [
    "# 17. MacaqueFaces\n",
    "\n",
    "- Everything seems to be OK"
   ]
  },
  {
   "cell_type": "code",
   "execution_count": 141,
   "id": "bdf0a490",
   "metadata": {},
   "outputs": [
    {
     "name": "stdout",
     "output_type": "stream",
     "text": [
      "Number of samples      6280\n",
      "Number of identitites  34\n"
     ]
    },
    {
     "data": {
      "image/png": "[encoded data removed]",
      "text/plain": [
       "<Figure size 432x288 with 1 Axes>"
      ]
     },
     "metadata": {
      "needs_background": "light"
     },
     "output_type": "display_data"
    }
   ],
   "source": [
    "def create_catalogue(root):\n",
    "    data = pd.read_csv(os.path.join(root, 'MacaqueFaces_ImageInfo.csv'))\n",
    "    data_files = find_images(root)\n",
    "    data = pd.merge(data, data_files, how='left', left_on='FileName', right_on='file')\n",
    "\n",
    "    df = {\n",
    "        'id': create_id(data['FileName']),\n",
    "        'path': data['path'] + os.path.sep,\n",
    "        'identity': data['ID'].astype('category').cat.codes,\n",
    "\n",
    "        # Optional\n",
    "        'date': data['DateTaken'],\n",
    "        'name': data['ID'],\n",
    "        'category': data['Category'],\n",
    "    }\n",
    "    return pd.DataFrame(df).sort_values('id').reset_index(drop=True)\n",
    "\n",
    "\n",
    "root = 'datasets/MacaqueFaces'\n",
    "df = create_catalogue(root)\n",
    "\n",
    "# Per identity counts\n",
    "df.identity.value_counts().reset_index(drop=True).plot()\n",
    "print(f\"Number of samples      {len(df)}\")\n",
    "print(f\"Number of identitites  {len(df.identity.unique())}\")"
   ]
  },
  {
   "cell_type": "code",
   "execution_count": null,
   "id": "401c3b2a",
   "metadata": {},
   "outputs": [],
   "source": []
  },
  {
   "cell_type": "markdown",
   "id": "e13c2847",
   "metadata": {},
   "source": [
    "# 18. NyalaData\n",
    "\n",
    "- Everything seems to be OK"
   ]
  },
  {
   "cell_type": "code",
   "execution_count": 140,
   "id": "60de0c60",
   "metadata": {},
   "outputs": [
    {
     "name": "stdout",
     "output_type": "stream",
     "text": [
      "Number of samples      1942\n",
      "Number of identitites  237\n"
     ]
    },
    {
     "data": {
      "image/png": "[encoded data removed]",
      "text/plain": [
       "<Figure size 432x288 with 1 Axes>"
      ]
     },
     "metadata": {
      "needs_background": "light"
     },
     "output_type": "display_data"
    }
   ],
   "source": [
    "def create_catalogue(root):\n",
    "    data = find_images(root)\n",
    "    folders = data['path'].str.split(os.path.sep, expand=True)\n",
    "\n",
    "    identity = folders[3].astype(int)\n",
    "    split = folders[2]\n",
    "    assert len(split.unique()) == 2\n",
    "\n",
    "    df = {\n",
    "        'id': create_id(data['file']),\n",
    "        'path': data['path'] + os.path.sep + data['file'],\n",
    "        'identity': identity,\n",
    "        \n",
    "        # Optional\n",
    "        'split': split\n",
    "    }\n",
    "    return pd.DataFrame(df).sort_values('id').reset_index(drop=True)\n",
    "\n",
    "root = 'datasets/NyalaData'\n",
    "df = create_catalogue(root)\n",
    "\n",
    "# Per identity counts\n",
    "df.identity.value_counts().reset_index(drop=True).plot()\n",
    "print(f\"Number of samples      {len(df)}\")\n",
    "print(f\"Number of identitites  {len(df.identity.unique())}\")"
   ]
  },
  {
   "cell_type": "code",
   "execution_count": null,
   "id": "c8e84a9a",
   "metadata": {},
   "outputs": [],
   "source": []
  },
  {
   "cell_type": "code",
   "execution_count": null,
   "id": "ce470f6a",
   "metadata": {},
   "outputs": [],
   "source": []
  },
  {
   "cell_type": "markdown",
   "id": "30233828",
   "metadata": {},
   "source": [
    "# 19. OpenCows2020\n",
    "\n",
    "- Folder structure includes Train/Test splits (across categories)\n",
    "- Additionally, they provide some kind of category splits (can it be for open set classification? )\n",
    "- Subfolder stucture in test and train matches category (identities): test/001 is the same cow as train/001"
   ]
  },
  {
   "cell_type": "code",
   "execution_count": 568,
   "id": "e736137a",
   "metadata": {},
   "outputs": [
    {
     "name": "stdout",
     "output_type": "stream",
     "text": [
      "Number of samples      4736\n",
      "Number of identitites  46\n"
     ]
    },
    {
     "data": {
      "image/png": "[encoded data removed]",
      "text/plain": [
       "<Figure size 432x288 with 1 Axes>"
      ]
     },
     "metadata": {
      "needs_background": "light"
     },
     "output_type": "display_data"
    }
   ],
   "source": [
    "def create_catalogue(root):\n",
    "    data = find_images(root)\n",
    "    folders = data['path'].str.split(os.path.sep, expand=True)\n",
    "\n",
    "    #Select only re-identification dataset\n",
    "    reid = folders[1] == 'identification'\n",
    "    folders, data = folders[reid], data[reid]\n",
    "\n",
    "    split = folders[3]\n",
    "    assert len(split.unique()) == 2\n",
    "    identity = folders[4].astype('category').cat.codes\n",
    "\n",
    "    df = {\n",
    "        'id': create_id(identity.astype(str) + split + data['file']),\n",
    "        'path': data['path'] + os.path.sep + data['file'],\n",
    "        'identity': identity,\n",
    "\n",
    "        # Optional\n",
    "        'split': split\n",
    "    }\n",
    "    return pd.DataFrame(df).sort_values('id').reset_index(drop=True)\n",
    "\n",
    "root = 'datasets/OpenCows2020'\n",
    "df = create_catalogue(root)\n",
    "\n",
    "# Per identity counts\n",
    "df.identity.value_counts().sort_values(ascending=False).plot(kind = 'bar')\n",
    "print(f\"Number of samples      {len(df)}\")\n",
    "print(f\"Number of identitites  {len(df.identity.unique())}\")"
   ]
  },
  {
   "cell_type": "code",
   "execution_count": null,
   "id": "e694cb4e",
   "metadata": {},
   "outputs": [],
   "source": []
  },
  {
   "cell_type": "markdown",
   "id": "f15b5be9",
   "metadata": {},
   "source": [
    "# 20. StripeSpotter\n",
    "\n",
    "- Data are in 3 categories: Original image, downscaled original image, Cropped region of interest (stripes)\n",
    "    - I filter only full images\n",
    "- It is unclear how many identities and images are there - 4 images have N/A identity.\n",
    "    - I would say 821 images and 45 identities\n",
    "\n",
    "- Exact values are not mentioned in original paper. But it is in follow up papers. For example\n",
    "    - The dataset is mentioned here: https://arxiv.org/pdf/2005.02905.pdf\n",
    "    - They claim there is 820 images and 84 identities"
   ]
  },
  {
   "cell_type": "code",
   "execution_count": 363,
   "id": "6748d9e4",
   "metadata": {},
   "outputs": [],
   "source": [
    "def create_catalogue(root):\n",
    "    data = find_images(root)\n",
    "    data['index'] = data['file'].str[-7:-4].astype(int)\n",
    "    category = data['file'].str.split('-', expand=True)[0]\n",
    "    data = data[category == 'img'] # Only full images\n",
    "    \n",
    "    data_aux = pd.read_csv(os.path.join(root, 'data', 'SightingData.csv'))\n",
    "    data = pd.merge(data, data_aux, how='left', left_on='index', right_on='#imgindex')\n",
    "\n",
    "    df = {\n",
    "        'id': create_id(data['file']),\n",
    "        'path':  data['path'] + os.path.sep + data['file'],\n",
    "        'identity': data['animal_name']\n",
    "        #'identity': data['animal_name'].astype('category').cat.codes,\n",
    "\n",
    "        # Optional\n",
    "        'bbox': data['roi'].str.split(' '),\n",
    "        'flank': data['flank'],\n",
    "        'photo_quality': data['photo_quality'],\n",
    "    }\n",
    "    return pd.DataFrame(df).sort_values('id').reset_index(drop=True)"
   ]
  },
  {
   "cell_type": "code",
   "execution_count": 372,
   "id": "b9d97437",
   "metadata": {},
   "outputs": [],
   "source": [
    "root = 'datasets/StripeSpotter'\n",
    "df = create_catalogue(root)"
   ]
  },
  {
   "cell_type": "code",
   "execution_count": 376,
   "id": "1eb94ad6",
   "metadata": {},
   "outputs": [
    {
     "name": "stdout",
     "output_type": "stream",
     "text": [
      "45\n",
      "820\n"
     ]
    }
   ],
   "source": [
    "# Counts - Images/Identities\n",
    "print(len(df[df['identity'].notna()]['identity'].unique()))\n",
    "print(len(df[df['identity'].notna()]['identity']))"
   ]
  },
  {
   "cell_type": "code",
   "execution_count": null,
   "id": "1a2f5909",
   "metadata": {},
   "outputs": [],
   "source": []
  },
  {
   "cell_type": "markdown",
   "id": "bd60ada8",
   "metadata": {},
   "source": [
    "# 21. WhaleSharkID\n",
    "- Same structure as Beluga, Hyenas and Leopards"
   ]
  },
  {
   "cell_type": "code",
   "execution_count": 40,
   "id": "761be4ab",
   "metadata": {},
   "outputs": [
    {
     "name": "stdout",
     "output_type": "stream",
     "text": [
      "Number of samples      7693\n",
      "Number of identitites  543\n"
     ]
    },
    {
     "data": {
      "image/png": "[encoded data removed]",
      "text/plain": [
       "<Figure size 432x288 with 1 Axes>"
      ]
     },
     "metadata": {
      "needs_background": "light"
     },
     "output_type": "display_data"
    }
   ],
   "source": [
    "def create_catalogue(root):\n",
    "    path_json = os.path.join('whaleshark.coco', 'annotations', 'instances_train2020.json')\n",
    "    path_images = os.path.join('whaleshark.coco', 'images', 'train2020')\n",
    "\n",
    "    # Load annotations JSON file\n",
    "    with open(os.path.join(root, path_json)) as file:\n",
    "        data = json.load(file)\n",
    "\n",
    "    create_dict = lambda i: {'identity': i['name'], 'bbox':i['bbox'], 'image_id': i['image_id']}\n",
    "    df_annotation = pd.DataFrame([create_dict(i) for i in data['annotations']])\n",
    "\n",
    "    create_dict = lambda i: {'file_name': i['file_name'], 'image_id':i['id']}\n",
    "    df_images = pd.DataFrame([create_dict(i) for i in data['images']])\n",
    "\n",
    "    df = pd.merge(df_annotation, df_images, how='left', on='image_id')\n",
    "    df['path'] = path_images + os.path.sep + df['file_name']\n",
    "    df['identity'] = df['identity'].astype('category').cat.codes\n",
    "    df['id'] = create_id(df['file_name'] + df['identity'].astype(str))\n",
    "\n",
    "    df = df.drop(['image_id', 'file_name'], axis=1)\n",
    "    return pd.DataFrame(df).sort_values('id').reset_index(drop=True)\n",
    "\n",
    "root = 'datasets/WhaleSharkID'\n",
    "df = create_catalogue(root)\n",
    "\n",
    "# Per identity counts\n",
    "df.identity.value_counts().reset_index(drop=True).plot()\n",
    "print(f\"Number of samples      {len(df)}\")\n",
    "print(f\"Number of identitites  {len(df.identity.unique())}\")"
   ]
  },
  {
   "cell_type": "code",
   "execution_count": null,
   "id": "ee6d7b8e",
   "metadata": {},
   "outputs": [],
   "source": []
  },
  {
   "cell_type": "markdown",
   "id": "984911ca",
   "metadata": {},
   "source": [
    "# 22. WNIGiraffes\n",
    "\n",
    "- TODO: download first"
   ]
  },
  {
   "cell_type": "code",
   "execution_count": 55,
   "id": "a0950595",
   "metadata": {},
   "outputs": [],
   "source": [
    "root = 'datasets/WNIGiraffes'"
   ]
  },
  {
   "cell_type": "code",
   "execution_count": null,
   "id": "ba3a859e",
   "metadata": {},
   "outputs": [],
   "source": []
  },
  {
   "cell_type": "markdown",
   "id": "68de0ccf",
   "metadata": {},
   "source": [
    "# 23. ZindiTurtles\n",
    "\n",
    "- Test dataset does not have labels."
   ]
  },
  {
   "cell_type": "code",
   "execution_count": 12,
   "id": "aad1899c",
   "metadata": {},
   "outputs": [],
   "source": [
    "def create_catalogue(root):    \n",
    "\n",
    "    data_train = pd.read_csv(os.path.join(root, 'train.csv'))\n",
    "    data_train['source'] = 'train'\n",
    "    #data_test = pd.read_csv(os.path.join(root, 'test.csv'))\n",
    "    #data_test['source'] = 'test'\n",
    "    data_extra = pd.read_csv(os.path.join(root, 'extra_images.csv'))\n",
    "    data_extra['source'] = 'extra'\n",
    "    data = pd.concat([data_train, data_extra])\n",
    "    #data = pd.concat([data_train, data_test, data_extra])\n",
    "\n",
    "    data = data.reset_index(drop=True)\n",
    "\n",
    "    df = {\n",
    "        'id': create_id(data['image_id']),\n",
    "        'path': 'images' + os.path.sep + data['image_id'] + '.JPG',\n",
    "        'identity': data['turtle_id'].astype('category').cat.codes,\n",
    "\n",
    "        # Optional\n",
    "        'image_location': data['image_location'].str.lower(),\n",
    "        'source': data['source'],\n",
    "    }\n",
    "    return pd.DataFrame(df).sort_values('id').reset_index(drop=True)\n",
    "\n",
    "root = 'datasets/ZindiTurtleRecall'\n",
    "df = create_catalogue(root)"
   ]
  },
  {
   "cell_type": "code",
   "execution_count": 13,
   "id": "c8f8a707",
   "metadata": {},
   "outputs": [
    {
     "name": "stdout",
     "output_type": "stream",
     "text": [
      "Number of samples      12803\n",
      "Number of identitites  2265\n"
     ]
    },
    {
     "data": {
      "image/png": "[encoded data removed]",
      "text/plain": [
       "<Figure size 432x288 with 1 Axes>"
      ]
     },
     "metadata": {
      "needs_background": "light"
     },
     "output_type": "display_data"
    }
   ],
   "source": [
    "# Per identity counts\n",
    "df.identity.value_counts().reset_index(drop=True).plot()\n",
    "print(f\"Number of samples      {len(df)}\")\n",
    "print(f\"Number of identitites  {len(df.identity.unique())}\")"
   ]
  },
  {
   "cell_type": "code",
   "execution_count": null,
   "id": "b2ff3362",
   "metadata": {},
   "outputs": [],
   "source": []
  },
  {
   "cell_type": "markdown",
   "id": "736f9441",
   "metadata": {},
   "source": [
    "# "
   ]
  }
 ],
 "metadata": {
  "kernelspec": {
   "display_name": "Python 3",
   "language": "python",
   "name": "python3"
  },
  "language_info": {
   "codemirror_mode": {
    "name": "ipython",
    "version": 3
   },
   "file_extension": ".py",
   "mimetype": "text/x-python",
   "name": "python",
   "nbconvert_exporter": "python",
   "pygments_lexer": "ipython3",
   "version": "3.8.8"
  }
 },
 "nbformat": 4,
 "nbformat_minor": 5
}
